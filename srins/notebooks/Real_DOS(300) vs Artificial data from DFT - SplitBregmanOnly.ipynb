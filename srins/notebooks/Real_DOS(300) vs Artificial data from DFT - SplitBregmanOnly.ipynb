{
 "cells": [
  {
   "cell_type": "markdown",
   "metadata": {},
   "source": [
    "** Notes **\n",
    "* Be very careful when constructing the resolution matrix. If missed by a transpose, the result will be wrong!!"
   ]
  },
  {
   "cell_type": "code",
   "execution_count": 1,
   "metadata": {
    "collapsed": true
   },
   "outputs": [],
   "source": [
    "# %cd ~/dev/graphite-DOS/irradiated-notebooks/"
   ]
  },
  {
   "cell_type": "code",
   "execution_count": 2,
   "metadata": {
    "collapsed": true
   },
   "outputs": [],
   "source": [
    "from __future__ import (absolute_import, division, print_function)\n",
    "\n",
    "import os, sys\n",
    "import numpy as np\n",
    "from matplotlib import pyplot as plt\n",
    "import numpy as np, histogram.hdf as hh, histogram as H\n",
    "from scipy.interpolate import interp1d\n",
    "import warnings\n",
    "from numpy import linalg as LA"
   ]
  },
  {
   "cell_type": "code",
   "execution_count": 3,
   "metadata": {
    "collapsed": true
   },
   "outputs": [],
   "source": [
    "# %matplotlib notebook\n",
    "%matplotlib inline"
   ]
  },
  {
   "cell_type": "code",
   "execution_count": 4,
   "metadata": {
    "collapsed": true
   },
   "outputs": [],
   "source": [
    "sys.path.insert(0, '/home/fi0/dev/sandbox/SR-INS/1D/dev/srins/')\n",
    "sys.path.append('/home/fi0/dev/sandbox/SR-INS/srins/Jiao_Res/graphite-DOS/dgsres')"
   ]
  },
  {
   "cell_type": "code",
   "execution_count": 5,
   "metadata": {
    "collapsed": true
   },
   "outputs": [],
   "source": [
    "# sys.path.insert(0, '/home/lj7/dv/srins/srins/')\n",
    "# sys.path.insert(0, '/SNS/users/lj7/dv/srins/srins-jiao/')"
   ]
  },
  {
   "cell_type": "code",
   "execution_count": 6,
   "metadata": {
    "collapsed": true
   },
   "outputs": [],
   "source": [
    "import srins"
   ]
  },
  {
   "cell_type": "code",
   "execution_count": 7,
   "metadata": {},
   "outputs": [
    {
     "data": {
      "text/plain": [
       "<module 'srins.powder.Lucy_Richardson' from '/home/fi0/dev/sandbox/SR-INS/1D/dev/srins/srins/powder/Lucy_Richardson.py'>"
      ]
     },
     "execution_count": 7,
     "metadata": {},
     "output_type": "execute_result"
    }
   ],
   "source": [
    "!rm /home/fi0/dev/sandbox/SR-INS/1D/dev/srins/srins/powder/linearizedBregman.pyc\n",
    "import srins.powder.linearizedBregman as splb; reload(splb)\n",
    "import srins.powder.conv_deconv as spcd\n",
    "import srins.powder.Lucy_Richardson as LR; reload(LR)\n",
    "import srins.powder.bregmanSplit as spbs; \n",
    "!rm /home/fi0/dev/sandbox/SR-INS/1D/dev/srins/srins/powder/bregmanSplit.pyc\n",
    "reload(spbs)\n",
    "\n",
    "!rm /home/fi0/dev/sandbox/SR-INS/1D/dev/srins/srins/powder/Lucy_Richardson.pyc\n",
    "reload(LR)"
   ]
  },
  {
   "cell_type": "code",
   "execution_count": 8,
   "metadata": {
    "collapsed": true
   },
   "outputs": [],
   "source": [
    "from srins.powder.conv_deconv import convolve_NS as F"
   ]
  },
  {
   "cell_type": "code",
   "execution_count": 9,
   "metadata": {},
   "outputs": [
    {
     "data": {
      "text/plain": [
       "<module 'srins.powder.linearizedBregman' from '/home/fi0/dev/sandbox/SR-INS/1D/dev/srins/srins/powder/linearizedBregman.pyc'>"
      ]
     },
     "execution_count": 9,
     "metadata": {},
     "output_type": "execute_result"
    }
   ],
   "source": [
    "import srins.powder.linearizedBregman as splb; reload(splb)"
   ]
  },
  {
   "cell_type": "code",
   "execution_count": 11,
   "metadata": {
    "collapsed": true
   },
   "outputs": [],
   "source": [
    "Eaxis_300 = np.arange(-50, 240, 0.1)\n",
    "negAxis_300=50"
   ]
  },
  {
   "cell_type": "code",
   "execution_count": 12,
   "metadata": {
    "collapsed": true
   },
   "outputs": [],
   "source": [
    "res_mat300=np.load ('res_matrix_Ei_300.npy')"
   ]
  },
  {
   "cell_type": "code",
   "execution_count": 13,
   "metadata": {
    "collapsed": true
   },
   "outputs": [],
   "source": [
    "# # print (Et)\n",
    "# print (negAxis_30)\n",
    "# # print (spacing)\n",
    "# print ((Et+negAxis_30)*spacing)"
   ]
  },
  {
   "cell_type": "code",
   "execution_count": 18,
   "metadata": {
    "collapsed": true
   },
   "outputs": [],
   "source": [
    "doshist = hh.load('final-dos_300.h5')"
   ]
  },
  {
   "cell_type": "code",
   "execution_count": 19,
   "metadata": {
    "collapsed": true
   },
   "outputs": [],
   "source": [
    "E = doshist.E"
   ]
  },
  {
   "cell_type": "code",
   "execution_count": 20,
   "metadata": {
    "collapsed": true
   },
   "outputs": [],
   "source": [
    "g = doshist.I"
   ]
  },
  {
   "cell_type": "code",
   "execution_count": 21,
   "metadata": {
    "collapsed": true
   },
   "outputs": [],
   "source": [
    "g1_300 = np.interp(Eaxis_300, E, g)"
   ]
  },
  {
   "cell_type": "code",
   "execution_count": 22,
   "metadata": {
    "collapsed": true
   },
   "outputs": [],
   "source": [
    "Error_300=doshist.E2"
   ]
  },
  {
   "cell_type": "code",
   "execution_count": 23,
   "metadata": {
    "collapsed": true
   },
   "outputs": [],
   "source": [
    "value_300=np.sqrt(np.nanmean(Error_300))"
   ]
  },
  {
   "cell_type": "code",
   "execution_count": 94,
   "metadata": {},
   "outputs": [
    {
     "data": {
      "text/plain": [
       "[<matplotlib.lines.Line2D at 0x7ff2c968b450>]"
      ]
     },
     "execution_count": 94,
     "metadata": {},
     "output_type": "execute_result"
    },
    {
     "data": {
      "image/png": "[encoded data removed]",
      "text/plain": [
       "<matplotlib.figure.Figure at 0x7ff2c9238750>"
      ]
     },
     "metadata": {},
     "output_type": "display_data"
    }
   ],
   "source": [
    "plt.plot(E,g)"
   ]
  },
  {
   "cell_type": "code",
   "execution_count": 24,
   "metadata": {},
   "outputs": [
    {
     "name": "stdout",
     "output_type": "stream",
     "text": [
      "0.000215776155337\n"
     ]
    }
   ],
   "source": [
    "print(value_300)"
   ]
  },
  {
   "cell_type": "code",
   "execution_count": 25,
   "metadata": {},
   "outputs": [
    {
     "name": "stdout",
     "output_type": "stream",
     "text": [
      "1.95942980415\n"
     ]
    }
   ],
   "source": [
    "RF_T_300 = np.transpose(res_mat300)\n",
    "m_300 = F(RF_T_300, res_mat300)\n",
    "max_delta_300 = 2. / LA.norm(m_300, ord=1)\n",
    "print (max_delta_300)"
   ]
  },
  {
   "cell_type": "code",
   "execution_count": 26,
   "metadata": {
    "collapsed": true
   },
   "outputs": [],
   "source": [
    "delta_300 = max_delta_300*0.5"
   ]
  },
  {
   "cell_type": "code",
   "execution_count": null,
   "metadata": {
    "collapsed": true
   },
   "outputs": [],
   "source": []
  },
  {
   "cell_type": "code",
   "execution_count": 27,
   "metadata": {},
   "outputs": [
    {
     "name": "stdout",
     "output_type": "stream",
     "text": [
      "0.00302803505356\n"
     ]
    }
   ],
   "source": [
    "ini_uZ_300 = np.zeros(Eaxis_300.shape[0])\n",
    "ini_vZ_300 = np.zeros(Eaxis_300.shape[0])\n",
    "neu_N_300= np.linalg.norm(g1_300, 2)**2 / 2/delta_300/np.linalg.norm(g1_300,1)\n",
    "print(neu_N_300)"
   ]
  },
  {
   "cell_type": "markdown",
   "metadata": {
    "collapsed": true
   },
   "source": [
    "# Bregman Split"
   ]
  },
  {
   "cell_type": "code",
   "execution_count": 31,
   "metadata": {},
   "outputs": [
    {
     "data": {
      "text/plain": [
       "<module 'srins.powder.bregmanSplit' from '/home/fi0/dev/sandbox/SR-INS/1D/dev/srins/srins/powder/bregmanSplit.pyc'>"
      ]
     },
     "execution_count": 31,
     "metadata": {},
     "output_type": "execute_result"
    }
   ],
   "source": [
    "reload (spbs)"
   ]
  },
  {
   "cell_type": "code",
   "execution_count": 32,
   "metadata": {
    "collapsed": true
   },
   "outputs": [],
   "source": [
    "recSplit_300, itS_300= spbs.split_Bregman(g1_300, res_mat300, ini_vZ_300, ini_uZ_300, neu_N_300, delta_300, value_300, 20)"
   ]
  },
  {
   "cell_type": "code",
   "execution_count": 33,
   "metadata": {},
   "outputs": [
    {
     "name": "stdout",
     "output_type": "stream",
     "text": [
      "0.00302803505356 0.979714902076 0.000215776155337 1.95942980415\n"
     ]
    }
   ],
   "source": [
    "print (neu_N_300, delta_300, value_300, max_delta_300)"
   ]
  },
  {
   "cell_type": "code",
   "execution_count": 37,
   "metadata": {},
   "outputs": [
    {
     "name": "stdout",
     "output_type": "stream",
     "text": [
      "3\n"
     ]
    }
   ],
   "source": [
    "print(itS_300)"
   ]
  },
  {
   "cell_type": "code",
   "execution_count": 36,
   "metadata": {},
   "outputs": [
    {
     "data": {
      "image/png": "[encoded data removed]",
      "text/plain": [
       "<matplotlib.figure.Figure at 0x7ff318043890>"
      ]
     },
     "metadata": {},
     "output_type": "display_data"
    }
   ],
   "source": [
    "plt.figure(figsize=(6,5))\n",
    "plt.plot(Eaxis_300, recSplit_300/np.sum(recSplit_300))\n",
    "plt.show()"
   ]
  },
  {
   "cell_type": "code",
   "execution_count": null,
   "metadata": {
    "collapsed": true
   },
   "outputs": [],
   "source": []
  },
  {
   "cell_type": "code",
   "execution_count": null,
   "metadata": {
    "collapsed": true
   },
   "outputs": [],
   "source": []
  },
  {
   "cell_type": "code",
   "execution_count": null,
   "metadata": {
    "collapsed": true
   },
   "outputs": [],
   "source": []
  },
  {
   "cell_type": "markdown",
   "metadata": {},
   "source": [
    "# Reading  saved DFT file "
   ]
  },
  {
   "cell_type": "code",
   "execution_count": 38,
   "metadata": {
    "collapsed": true
   },
   "outputs": [],
   "source": [
    "from pylab import genfromtxt;\n",
    "read_DFT_dat=genfromtxt(\"DFT.dat\")"
   ]
  },
  {
   "cell_type": "markdown",
   "metadata": {},
   "source": [
    "# Padding the DFT data"
   ]
  },
  {
   "cell_type": "code",
   "execution_count": null,
   "metadata": {
    "collapsed": true
   },
   "outputs": [],
   "source": [
    "# RF3_read = np.load(\"res_matrix_Ei_300.npy\")\n",
    "\n",
    "# horizontal_frnt_addition=np.arange(-50,0.0,0.1)\n",
    "# horizontal_back_addition=np.arange(205,240,0.1)\n",
    "\n",
    "# read_DFT_x=np.concatenate((horizontal_frnt_addition,read_DFT_dat[:,0], horizontal_back_addition))\n",
    "\n",
    "# len_DFT=len (read_DFT_dat[:,1])\n",
    "\n",
    "# len_RF_row=RF3_read.shape[0]\n",
    "\n",
    "\n",
    "# diff=np.abs(len_RF_row-len_DFT)\n",
    "\n",
    "# if (diff%2==0):\n",
    "#     start=(diff/2)-1\n",
    "# else:\n",
    "#     start=(diff)/2\n",
    "# print (start)\n",
    "# new_sigC=np.concatenate((np.concatenate ((np.zeros(int(start)), read_DFT_dat[:,1])), np.zeros(int(diff-start))))\n",
    "\n",
    "# plt.figure('DFT')\n",
    "# plt.suptitle('DFT')\n",
    "# plt.plot(read_DFT_x, new_sigC)\n",
    "# plt.xlabel('energy')\n",
    "# plt.ylabel('intensity')\n",
    "# plt.show()\n",
    "    "
   ]
  },
  {
   "cell_type": "code",
   "execution_count": null,
   "metadata": {
    "collapsed": true
   },
   "outputs": [],
   "source": [
    "# DFT=np.interp(Eaxis, read_DFT_x, new_sigC)"
   ]
  },
  {
   "cell_type": "code",
   "execution_count": 40,
   "metadata": {
    "collapsed": true
   },
   "outputs": [],
   "source": [
    "DFT=np.interp(Eaxis_300, read_DFT_dat[:,0], read_DFT_dat[:,1])"
   ]
  },
  {
   "cell_type": "code",
   "execution_count": 42,
   "metadata": {},
   "outputs": [
    {
     "data": {
      "image/png": "[encoded data removed]",
      "text/plain": [
       "<matplotlib.figure.Figure at 0x7ff332e9b910>"
      ]
     },
     "metadata": {},
     "output_type": "display_data"
    }
   ],
   "source": [
    "convolve_DFT=np.dot (DFT, res_mat300)\n",
    "\n",
    "plt.figure('convolved DFT')\n",
    "plt.suptitle('convolved DFT')\n",
    "plt.plot(Eaxis_300, convolve_DFT)\n",
    "plt.xlabel('energy')\n",
    "plt.ylabel('intensity')\n",
    "\n",
    "plt.show()"
   ]
  },
  {
   "cell_type": "code",
   "execution_count": 43,
   "metadata": {
    "collapsed": true
   },
   "outputs": [],
   "source": [
    "import srins.powder.scaling as scaling\n",
    "import random"
   ]
  },
  {
   "cell_type": "markdown",
   "metadata": {},
   "source": [
    "# Adding the noise to the convolved_DFT_300"
   ]
  },
  {
   "cell_type": "code",
   "execution_count": 44,
   "metadata": {
    "collapsed": true
   },
   "outputs": [],
   "source": [
    "scaleY1=scaling.scale(convolve_DFT, 0, 4000)"
   ]
  },
  {
   "cell_type": "code",
   "execution_count": 45,
   "metadata": {
    "collapsed": true
   },
   "outputs": [],
   "source": [
    "# r=[random.uniform(-1, 1) for _ in range(0, convolve_DFT.size)]\n",
    "r = np.random.normal(size=convolve_DFT.size)\n",
    "nP1=np.sqrt(scaleY1) * r #*np.abs(r)"
   ]
  },
  {
   "cell_type": "code",
   "execution_count": null,
   "metadata": {
    "collapsed": true
   },
   "outputs": [],
   "source": [
    "noisyConvolve_DFT=scaleY1+nP1"
   ]
  },
  {
   "cell_type": "code",
   "execution_count": 71,
   "metadata": {
    "collapsed": true
   },
   "outputs": [],
   "source": [
    "norm = noisyConvolve_DFT.sum()"
   ]
  },
  {
   "cell_type": "code",
   "execution_count": 72,
   "metadata": {
    "collapsed": true
   },
   "outputs": [],
   "source": [
    "noisyConvolve_DFT/=norm"
   ]
  },
  {
   "cell_type": "code",
   "execution_count": 73,
   "metadata": {},
   "outputs": [
    {
     "data": {
      "image/png": "[encoded data removed]",
      "text/plain": [
       "<matplotlib.figure.Figure at 0x7ff332ea24d0>"
      ]
     },
     "metadata": {},
     "output_type": "display_data"
    }
   ],
   "source": [
    "plt.figure()\n",
    "plt.suptitle('noisy convolved DFT')\n",
    "plt.plot(Eaxis_300, noisyConvolve_DFT)\n",
    "plt.plot(Eaxis_300, g1_300/g1_300.sum())\n",
    "plt.show()"
   ]
  },
  {
   "cell_type": "code",
   "execution_count": 93,
   "metadata": {},
   "outputs": [
    {
     "data": {
      "text/plain": [
       "(50, 150)"
      ]
     },
     "execution_count": 93,
     "metadata": {},
     "output_type": "execute_result"
    },
    {
     "data": {
      "image/png": "[encoded data removed]",
      "text/plain": [
       "<matplotlib.figure.Figure at 0x7ff332ea5150>"
      ]
     },
     "metadata": {},
     "output_type": "display_data"
    }
   ],
   "source": [
    "plt.errorbar(Eaxis_300[::40], noisyConvolve_DFT[::40], nP1[::40], marker='.')\n",
    "plt.xlim(50, 150)"
   ]
  },
  {
   "cell_type": "markdown",
   "metadata": {},
   "source": [
    "# reconstruction using Split Bregman"
   ]
  },
  {
   "cell_type": "code",
   "execution_count": 74,
   "metadata": {
    "collapsed": true
   },
   "outputs": [],
   "source": [
    "y3=noisyConvolve_DFT"
   ]
  },
  {
   "cell_type": "code",
   "execution_count": 75,
   "metadata": {},
   "outputs": [
    {
     "name": "stdout",
     "output_type": "stream",
     "text": [
      "0.000312972324728\n"
     ]
    }
   ],
   "source": [
    "Eaxis=H\n",
    "delta=max_delta_300*.5\n",
    "\n",
    "ini_uZ = np.zeros(Eaxis_300.shape[0])\n",
    "ini_vZ = np.zeros(Eaxis_300.shape[0])\n",
    "neu_N = np.linalg.norm(y3, 2)**2 / 2/delta/np.linalg.norm(y3,1)\n",
    "print(neu_N)"
   ]
  },
  {
   "cell_type": "code",
   "execution_count": 78,
   "metadata": {
    "collapsed": true
   },
   "outputs": [],
   "source": [
    "nP1/=norm"
   ]
  },
  {
   "cell_type": "code",
   "execution_count": 79,
   "metadata": {},
   "outputs": [
    {
     "name": "stdout",
     "output_type": "stream",
     "text": [
      "1.07680587056e-05\n"
     ]
    }
   ],
   "source": [
    "value=np.sqrt(np.average(nP1**2))\n",
    "# value=(np.average(nP1))\n",
    "print (value)"
   ]
  },
  {
   "cell_type": "code",
   "execution_count": 66,
   "metadata": {},
   "outputs": [
    {
     "data": {
      "text/plain": [
       "<module 'srins.powder.bregmanSplit' from '/home/fi0/dev/sandbox/SR-INS/1D/dev/srins/srins/powder/bregmanSplit.pyc'>"
      ]
     },
     "execution_count": 66,
     "metadata": {},
     "output_type": "execute_result"
    }
   ],
   "source": [
    "reload (spbs)"
   ]
  },
  {
   "cell_type": "code",
   "execution_count": 80,
   "metadata": {},
   "outputs": [
    {
     "name": "stdout",
     "output_type": "stream",
     "text": [
      "0.000312972324728 0.979714902076 1.07680587056e-05\n"
     ]
    }
   ],
   "source": [
    "print (neu_N, delta, value)"
   ]
  },
  {
   "cell_type": "code",
   "execution_count": 81,
   "metadata": {},
   "outputs": [
    {
     "data": {
      "text/plain": [
       "[<matplotlib.lines.Line2D at 0x7ff2c9652250>]"
      ]
     },
     "execution_count": 81,
     "metadata": {},
     "output_type": "execute_result"
    },
    {
     "data": {
      "image/png": "[encoded data removed]",
      "text/plain": [
       "<matplotlib.figure.Figure at 0x7ff2c944ab10>"
      ]
     },
     "metadata": {},
     "output_type": "display_data"
    }
   ],
   "source": [
    "plt.plot(y3)"
   ]
  },
  {
   "cell_type": "code",
   "execution_count": 95,
   "metadata": {},
   "outputs": [
    {
     "name": "stdout",
     "output_type": "stream",
     "text": [
      "200\n"
     ]
    }
   ],
   "source": [
    "recSplit, itS= spbs.split_Bregman(y3, res_mat300, ini_vZ, ini_uZ, neu_N, delta, value, 200)\n",
    "print (itS)"
   ]
  },
  {
   "cell_type": "code",
   "execution_count": 96,
   "metadata": {},
   "outputs": [
    {
     "data": {
      "image/png": "[encoded data removed]",
      "text/plain": [
       "<matplotlib.figure.Figure at 0x7ff2c972b450>"
      ]
     },
     "metadata": {},
     "output_type": "display_data"
    }
   ],
   "source": [
    "plt.figure()\n",
    "plt.plot(Eaxis_300, recSplit/recSplit.sum())\n",
    "plt.plot(Eaxis_300, recSplit_300/recSplit_300.sum())\n",
    "plt.show()"
   ]
  },
  {
   "cell_type": "code",
   "execution_count": null,
   "metadata": {
    "collapsed": true
   },
   "outputs": [],
   "source": []
  },
  {
   "cell_type": "code",
   "execution_count": null,
   "metadata": {
    "collapsed": true
   },
   "outputs": [],
   "source": []
  },
  {
   "cell_type": "code",
   "execution_count": null,
   "metadata": {
    "collapsed": true
   },
   "outputs": [],
   "source": []
  },
  {
   "cell_type": "code",
   "execution_count": null,
   "metadata": {
    "collapsed": true
   },
   "outputs": [],
   "source": []
  },
  {
   "cell_type": "code",
   "execution_count": null,
   "metadata": {
    "collapsed": true
   },
   "outputs": [],
   "source": [
    "plt.figure()\n",
    "plt.plot(Eaxis,(DFT/DFT.sum())+0.002, label='DFT')\n",
    "plt.plot(Eaxis,(com/com.sum())+0.0015, label='Reconstructed DOS with Linearized Bregman (# of iteration:{})' .format(it_300))\n",
    "plt.plot(Eaxis,(R_com/R_com.sum())+0.001, label='Reconstructed DOS with Lucy-Richardson(# of iteration:{})'.format(In_300))\n",
    "plt.plot(Eaxis,(recSplit_com/recSplit_com.sum())+0.0005, label='Reconstructed DOS with Split Bregman(# of iteration:{})'.format(itS_300))\n",
    "\n",
    "plt.plot(Eaxis,(g1_com/g1_com.sum()), label='Raw DOS')\n",
    "plt.legend(fontsize='large',bbox_to_anchor=(0.8, 0.8))\n",
    "plt.xlabel('E')\n",
    "plt.ylabel('Intensity')\n",
    "plt.show()"
   ]
  },
  {
   "cell_type": "code",
   "execution_count": null,
   "metadata": {
    "collapsed": true
   },
   "outputs": [],
   "source": [
    "def gauss(x, amplitude, position, sigma):\n",
    "    return amplitude/np.sqrt(2*np.pi)/sigma * np.exp( -(x-position)**2/2./sigma**2)"
   ]
  },
  {
   "cell_type": "code",
   "execution_count": null,
   "metadata": {
    "collapsed": true
   },
   "outputs": [],
   "source": [
    "H=Eaxis"
   ]
  },
  {
   "cell_type": "code",
   "execution_count": null,
   "metadata": {
    "collapsed": true
   },
   "outputs": [],
   "source": [
    "A=np.zeros((len(H),len(H)))\n",
    "sig=2\n",
    "for i, h in enumerate(H):\n",
    "    A[i]=gauss(H, 1, h, sig)\n",
    "print  (A.shape[1])"
   ]
  },
  {
   "cell_type": "code",
   "execution_count": null,
   "metadata": {
    "collapsed": true
   },
   "outputs": [],
   "source": [
    "DFT_convolvedGaus=np.dot(DFT, A)"
   ]
  },
  {
   "cell_type": "code",
   "execution_count": null,
   "metadata": {
    "collapsed": true
   },
   "outputs": [],
   "source": [
    "plt.figure()\n",
    "plt.plot(Eaxis,(DFT/DFT.sum())+0.002, label='DFT')\n",
    "plt.plot(Eaxis,(DFT_convolvedGaus/DFT_convolvedGaus.sum())+0.0015, label='Uniform resolution effect on DFT')\n",
    "plt.plot(Eaxis,(g1_com/g1_com.sum())+0.0007, label='Raw DOS')\n",
    "plt.plot(Eaxis,(com/com.sum()), label='Reconstructed DOS (Linearized Bregman)' )\n",
    "plt.xlabel('E')\n",
    "plt.ylabel('Intensity')\n",
    "plt.legend(fontsize='large',bbox_to_anchor=(0.8, 0.8))\n",
    "plt.show()"
   ]
  },
  {
   "cell_type": "code",
   "execution_count": null,
   "metadata": {
    "collapsed": true
   },
   "outputs": [],
   "source": []
  },
  {
   "cell_type": "markdown",
   "metadata": {},
   "source": [
    "# regularized Lucy Richardson "
   ]
  },
  {
   "cell_type": "code",
   "execution_count": null,
   "metadata": {
    "collapsed": true
   },
   "outputs": [],
   "source": [
    "!rm /home/fi0/dev/sandbox/SR-INS/1D/dev/srins/srins/powder/Regularized_LucyRichardson_L1norm.pyc\n",
    "import srins.powder.Regularized_LucyRichardson_L1norm as L1lr\n",
    "reload(L1lr)"
   ]
  },
  {
   "cell_type": "code",
   "execution_count": null,
   "metadata": {
    "collapsed": true
   },
   "outputs": [],
   "source": [
    "r1,E1,EB1,In1=L1lr.deconvolve_L1_NS(g1, res_mat1, ini1, 0.004, 0.0001, 'errorModel', value, maxIter=100)"
   ]
  },
  {
   "cell_type": "code",
   "execution_count": null,
   "metadata": {
    "collapsed": true
   },
   "outputs": [],
   "source": [
    "print ('no of iteration for regularized Lucy richardson: ', In1)"
   ]
  },
  {
   "cell_type": "code",
   "execution_count": null,
   "metadata": {
    "collapsed": true
   },
   "outputs": [],
   "source": [
    "plt.figure()\n",
    "plt.plot(Eaxis, r1/r1.sum())\n",
    "# plt.plot(R/R.sum())\n",
    "plt.show()"
   ]
  },
  {
   "cell_type": "markdown",
   "metadata": {
    "collapsed": true
   },
   "source": [
    "# comparison"
   ]
  },
  {
   "cell_type": "code",
   "execution_count": null,
   "metadata": {
    "collapsed": true
   },
   "outputs": [],
   "source": [
    "plt.figure()\n",
    "plt.plot(Eaxis, RU/RU.sum(), label='Linearized Bregman')\n",
    "plt.plot(Eaxis, recSplit/recSplit.sum()+0.0005, label='Bregman Split')\n",
    "plt.plot(Eaxis,R/R.sum()+0.001,label='Lucy Richardson')\n",
    "# plt.plot(Eaxis, r1/r1.sum()+0.00,label='Regularized Lucy Richardson')\n",
    "plt.legend(fontsize='x-large',loc='upper right', bbox_to_anchor=(.59, 1.12))\n",
    "plt.ylabel('Intensity')\n",
    "plt.xlabel('E')\n",
    "# plt.xlim(0,200)\n",
    "plt.show()"
   ]
  },
  {
   "cell_type": "code",
   "execution_count": null,
   "metadata": {
    "collapsed": true
   },
   "outputs": [],
   "source": []
  }
 ],
 "metadata": {
  "kernelspec": {
   "display_name": "Python 2",
   "language": "python",
   "name": "python2"
  },
  "language_info": {
   "codemirror_mode": {
    "name": "ipython",
    "version": 2
   },
   "file_extension": ".py",
   "mimetype": "text/x-python",
   "name": "python",
   "nbconvert_exporter": "python",
   "pygments_lexer": "ipython2",
   "version": "2.7.13"
  },
  "toc": {
   "base_numbering": 1,
   "nav_menu": {},
   "number_sections": true,
   "sideBar": true,
   "skip_h1_title": false,
   "title_cell": "Table of Contents",
   "title_sidebar": "Contents",
   "toc_cell": false,
   "toc_position": {},
   "toc_section_display": true,
   "toc_window_display": true
  }
 },
 "nbformat": 4,
 "nbformat_minor": 2
}
