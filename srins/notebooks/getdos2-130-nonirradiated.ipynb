{
 "cells": [
  {
   "cell_type": "markdown",
   "metadata": {},
   "source": [
    "# Density of States Analysis Example\n",
    "* Given sample and empty-can data, compute phonon DOS\n",
    "* To use this notebook, first click jupyter menu File->Make a copy\n",
    "* Click the title of the copied jupyter notebook and change it to a new title\n",
    "* Start executing cells"
   ]
  },
  {
   "cell_type": "markdown",
   "metadata": {},
   "source": [
    "## Summary of processing steps\n",
    "\n",
    "* Gather experimental information and experimental raw data\n",
    "* Reduce raw data to S(Q,E)\n",
    "* Convert S(Q,E) to DOS"
   ]
  },
  {
   "cell_type": "markdown",
   "metadata": {},
   "source": [
    "## Preparation"
   ]
  },
  {
   "cell_type": "markdown",
   "metadata": {},
   "source": [
    "Create a new working directory and change into it.\n",
    "\n",
    "Please modify the following path to suit your need!"
   ]
  },
  {
   "cell_type": "code",
   "execution_count": 1,
   "metadata": {},
   "outputs": [
    {
     "name": "stdout",
     "output_type": "stream",
     "text": [
      "/home/fi0/dev/figures_for_paper\r\n"
     ]
    }
   ],
   "source": [
    "!pwd"
   ]
  },
  {
   "cell_type": "code",
   "execution_count": 3,
   "metadata": {},
   "outputs": [
    {
     "name": "stdout",
     "output_type": "stream",
     "text": [
      "/home/fi0/dev/figures_for_paper/130_spacings2/130_spacings1\n"
     ]
    }
   ],
   "source": [
    "workdir = '130_spacings1'\n",
    "!mkdir -p {workdir}\n",
    "%cd {workdir}"
   ]
  },
  {
   "cell_type": "markdown",
   "metadata": {},
   "source": [
    "Get tools ready"
   ]
  },
  {
   "cell_type": "code",
   "execution_count": 4,
   "metadata": {
    "collapsed": true
   },
   "outputs": [],
   "source": [
    "import os, numpy as np\n",
    "import histogram.hdf as hh, histogram as H\n",
    "from matplotlib import pyplot as plt\n",
    "%matplotlib notebook\n",
    "# %matplotlib inline\n",
    "\n",
    "from multiphonon.sqe import plot as plot_sqe\n",
    "from multiphonon.ui.getdos import Context, NxsWizardStart, QEGridWizardStart, GetDOSWizStart"
   ]
  },
  {
   "cell_type": "markdown",
   "metadata": {},
   "source": [
    "Create a context for getdos"
   ]
  },
  {
   "cell_type": "code",
   "execution_count": 5,
   "metadata": {
    "collapsed": true
   },
   "outputs": [],
   "source": [
    "context=Context()"
   ]
  },
  {
   "cell_type": "markdown",
   "metadata": {},
   "source": [
    "If you want to reuse a previously-saved context, please uncomment the following cell and execute"
   ]
  },
  {
   "cell_type": "code",
   "execution_count": 6,
   "metadata": {
    "collapsed": true
   },
   "outputs": [],
   "source": [
    "# context.from_yaml('./getdos2-context.yaml')"
   ]
  },
  {
   "cell_type": "markdown",
   "metadata": {},
   "source": [
    "## Experimental data and condition"
   ]
  },
  {
   "cell_type": "markdown",
   "metadata": {},
   "source": [
    "Phonon Density of States (DOS) can be obtained from inelastic neutron scattering (INS) spectrum.\n",
    "This notebook allows for extracting DOS from INS spectrum measured at the ARCS instrument at SNS.\n",
    "To start, we need data files measured for the sample and the empty can, as well as experimental conditions such as incident energy and sample temperature.\n",
    "The following wizard help you go through these steps.\n",
    "\n",
    "<img src=\"getdos2-select_raw_data.png\" width=\"500\"/>"
   ]
  },
  {
   "cell_type": "markdown",
   "metadata": {},
   "source": [
    "Example datasets:\n",
    "\n",
    "* samplenxs = \"/SNS/ARCS/2014_1_18_CAL/0/47435/NeXus/ARCS_47435_event.nxs\"\n",
    "* mtnxs = Skip\n",
    "* Ei=80\n",
    "* T=300"
   ]
  },
  {
   "cell_type": "markdown",
   "metadata": {},
   "source": [
    "Save configuration so you can reuse it"
   ]
  },
  {
   "cell_type": "code",
   "execution_count": 7,
   "metadata": {
    "collapsed": true
   },
   "outputs": [],
   "source": [
    "context.to_yaml('./getdos2-context.yaml')"
   ]
  },
  {
   "cell_type": "code",
   "execution_count": 8,
   "metadata": {},
   "outputs": [
    {
     "data": {
      "application/vnd.jupyter.widget-view+json": {
       "model_id": "ff953d9e0e5f4e38a9714c6d8e032665"
      }
     },
     "metadata": {},
     "output_type": "display_data"
    },
    {
     "data": {
      "application/vnd.jupyter.widget-view+json": {
       "model_id": "e9fca6201aa6472a9fdec0c3f48189b9"
      }
     },
     "metadata": {},
     "output_type": "display_data"
    },
    {
     "data": {
      "application/vnd.jupyter.widget-view+json": {
       "model_id": "03c22ec3d48b4e75863b5f3aa663547e"
      }
     },
     "metadata": {},
     "output_type": "display_data"
    },
    {
     "data": {
      "text/html": [
       "\n",
       "        <style type=\"text/css\">\n",
       "        .jupyter-widgets select option {\n",
       "            font-family: \"Lucida Console\", Monaco, monospace;\n",
       "        }\n",
       "        </style>\n",
       "        "
      ],
      "text/plain": [
       "<IPython.core.display.HTML object>"
      ]
     },
     "metadata": {},
     "output_type": "display_data"
    },
    {
     "data": {
      "application/vnd.jupyter.widget-view+json": {
       "model_id": "6870e1b53af84fe1a2a1ed2d82bfebeb"
      }
     },
     "metadata": {},
     "output_type": "display_data"
    },
    {
     "data": {
      "application/vnd.jupyter.widget-view+json": {
       "model_id": "e96186427c8648efb3662934635cd67d"
      }
     },
     "metadata": {},
     "output_type": "display_data"
    },
    {
     "data": {
      "text/html": [
       "\n",
       "        <style type=\"text/css\">\n",
       "        .jupyter-widgets select option {\n",
       "            font-family: \"Lucida Console\", Monaco, monospace;\n",
       "        }\n",
       "        </style>\n",
       "        "
      ],
      "text/plain": [
       "<IPython.core.display.HTML object>"
      ]
     },
     "metadata": {},
     "output_type": "display_data"
    },
    {
     "data": {
      "application/vnd.jupyter.widget-view+json": {
       "model_id": "4fb1be0d39ae45319245db63930647b9"
      }
     },
     "metadata": {},
     "output_type": "display_data"
    },
    {
     "data": {
      "application/vnd.jupyter.widget-view+json": {
       "model_id": "42efb8285c844e6e85e28605bac0f437"
      }
     },
     "metadata": {},
     "output_type": "display_data"
    },
    {
     "data": {
      "text/html": [
       "\n",
       "        <style type=\"text/css\">\n",
       "        .jupyter-widgets select option {\n",
       "            font-family: \"Lucida Console\", Monaco, monospace;\n",
       "        }\n",
       "        </style>\n",
       "        "
      ],
      "text/plain": [
       "<IPython.core.display.HTML object>"
      ]
     },
     "metadata": {},
     "output_type": "display_data"
    },
    {
     "data": {
      "application/vnd.jupyter.widget-view+json": {
       "model_id": "5dbfedf9e1654fb9a468b83e723357ac"
      }
     },
     "metadata": {},
     "output_type": "display_data"
    },
    {
     "data": {
      "application/vnd.jupyter.widget-view+json": {
       "model_id": "5bc453281db347f2bd8541ce2bbcf0f3"
      }
     },
     "metadata": {},
     "output_type": "display_data"
    },
    {
     "data": {
      "text/html": [
       "\n",
       "        <style type=\"text/css\">\n",
       "        .jupyter-widgets select option {\n",
       "            font-family: \"Lucida Console\", Monaco, monospace;\n",
       "        }\n",
       "        </style>\n",
       "        "
      ],
      "text/plain": [
       "<IPython.core.display.HTML object>"
      ]
     },
     "metadata": {},
     "output_type": "display_data"
    },
    {
     "data": {
      "application/vnd.jupyter.widget-view+json": {
       "model_id": "eaf2c2b492b94aa1a95659281aee6bf7"
      }
     },
     "metadata": {},
     "output_type": "display_data"
    },
    {
     "data": {
      "application/vnd.jupyter.widget-view+json": {
       "model_id": "816b72dfb8664b6ca8d6310f880989a4"
      }
     },
     "metadata": {},
     "output_type": "display_data"
    },
    {
     "data": {
      "application/vnd.jupyter.widget-view+json": {
       "model_id": "28eb023064cc46718b7221f3a504851a"
      }
     },
     "metadata": {},
     "output_type": "display_data"
    },
    {
     "data": {
      "application/vnd.jupyter.widget-view+json": {
       "model_id": "6c223de20d0d4cca9e44a7d77d62ab5e"
      }
     },
     "metadata": {},
     "output_type": "display_data"
    },
    {
     "data": {
      "text/html": [
       "\n",
       "        <style type=\"text/css\">\n",
       "        .jupyter-widgets select option {\n",
       "            font-family: \"Lucida Console\", Monaco, monospace;\n",
       "        }\n",
       "        </style>\n",
       "        "
      ],
      "text/plain": [
       "<IPython.core.display.HTML object>"
      ]
     },
     "metadata": {},
     "output_type": "display_data"
    },
    {
     "data": {
      "application/vnd.jupyter.widget-view+json": {
       "model_id": "8aac2eb7bbb84a7bafcc8242f242c695"
      }
     },
     "metadata": {},
     "output_type": "display_data"
    },
    {
     "data": {
      "application/vnd.jupyter.widget-view+json": {
       "model_id": "7d2783662dc84d2e8661853dfabab79b"
      }
     },
     "metadata": {},
     "output_type": "display_data"
    },
    {
     "data": {
      "text/html": [
       "\n",
       "        <style type=\"text/css\">\n",
       "        .jupyter-widgets select option {\n",
       "            font-family: \"Lucida Console\", Monaco, monospace;\n",
       "        }\n",
       "        </style>\n",
       "        "
      ],
      "text/plain": [
       "<IPython.core.display.HTML object>"
      ]
     },
     "metadata": {},
     "output_type": "display_data"
    },
    {
     "data": {
      "application/vnd.jupyter.widget-view+json": {
       "model_id": "345958111a354329b410e72f8148543a"
      }
     },
     "metadata": {},
     "output_type": "display_data"
    },
    {
     "data": {
      "application/vnd.jupyter.widget-view+json": {
       "model_id": "98eb95eb9760490caf645509cb728dc8"
      }
     },
     "metadata": {},
     "output_type": "display_data"
    },
    {
     "name": "stdout",
     "output_type": "stream",
     "text": [
      "Done.\n"
     ]
    }
   ],
   "source": [
    "NxsWizardStart(context).show()"
   ]
  },
  {
   "cell_type": "markdown",
   "metadata": {},
   "source": [
    "## Obtain S(Q,E)\n",
    "\n",
    "S(Q,E) spectra for both the sample and the empty can is the starting point for getdos processing. Here is an example:\n",
    "\n",
    "<img width=\"300\" src=\"Al-SQE.png\"/>\n",
    "\n",
    "Run the following wizard to define the E and Q axes so that S(Q,E) spectra can be obtained the INS raw data."
   ]
  },
  {
   "cell_type": "code",
   "execution_count": 9,
   "metadata": {},
   "outputs": [
    {
     "data": {
      "application/vnd.jupyter.widget-view+json": {
       "model_id": "1356a3a7108c4d80950571f729783b8e"
      }
     },
     "metadata": {},
     "output_type": "display_data"
    },
    {
     "data": {
      "application/vnd.jupyter.widget-view+json": {
       "model_id": "731054de179c44c88f5fc0d74a77439b"
      }
     },
     "metadata": {},
     "output_type": "display_data"
    },
    {
     "name": "stdout",
     "output_type": "stream",
     "text": [
      "Converting sample data to powder I(Q,E)...\n",
      "Converting MT data to powder I(Q,E)...\n",
      "Results: sample IQE, MT IQE, Qaxis, Eaxis\n",
      "('/home/fi0/dev/figures_for_paper/130_spacings2/130_spacings1/work/iqe.h5', '/home/fi0/dev/figures_for_paper/130_spacings2/130_spacings1/work/mt-iqe.h5', (0.0, 24.1, 0.2), (-130.0, 130.5, 1.0))\n",
      "Done.\n"
     ]
    }
   ],
   "source": [
    "QEGridWizardStart(context).show()"
   ]
  },
  {
   "cell_type": "markdown",
   "metadata": {},
   "source": [
    "Parameters are saved in the work dir. Uncomment the script below to see."
   ]
  },
  {
   "cell_type": "code",
   "execution_count": 10,
   "metadata": {
    "collapsed": true
   },
   "outputs": [],
   "source": [
    "%%script bash\n",
    "# ls work/\n",
    "# cat work/raw2iqe-sample.params"
   ]
  },
  {
   "cell_type": "markdown",
   "metadata": {},
   "source": [
    "Plot sample IQE"
   ]
  },
  {
   "cell_type": "code",
   "execution_count": 11,
   "metadata": {
    "collapsed": true
   },
   "outputs": [],
   "source": [
    "iqe = hh.load('work/iqe.h5')"
   ]
  },
  {
   "cell_type": "code",
   "execution_count": 12,
   "metadata": {},
   "outputs": [
    {
     "data": {
      "application/javascript": [
       "/* Put everything inside the global mpl namespace */\n",
       "window.mpl = {};\n",
       "\n",
       "\n",
       "mpl.get_websocket_type = function() {\n",
       "    if (typeof(WebSocket) !== 'undefined') {\n",
       "        return WebSocket;\n",
       "    } else if (typeof(MozWebSocket) !== 'undefined') {\n",
       "        return MozWebSocket;\n",
       "    } else {\n",
       "        alert('Your browser does not have WebSocket support.' +\n",
       "              'Please try Chrome, Safari or Firefox ≥ 6. ' +\n",
       "              'Firefox 4 and 5 are also supported but you ' +\n",
       "              'have to enable WebSockets in about:config.');\n",
       "    };\n",
       "}\n",
       "\n",
       "mpl.figure = function(figure_id, websocket, ondownload, parent_element) {\n",
       "    this.id = figure_id;\n",
       "\n",
       "    this.ws = websocket;\n",
       "\n",
       "    this.supports_binary = (this.ws.binaryType != undefined);\n",
       "\n",
       "    if (!this.supports_binary) {\n",
       "        var warnings = document.getElementById(\"mpl-warnings\");\n",
       "        if (warnings) {\n",
       "            warnings.style.display = 'block';\n",
       "            warnings.textContent = (\n",
       "                \"This browser does not support binary websocket messages. \" +\n",
       "                    \"Performance may be slow.\");\n",
       "        }\n",
       "    }\n",
       "\n",
       "    this.imageObj = new Image();\n",
       "\n",
       "    this.context = undefined;\n",
       "    this.message = undefined;\n",
       "    this.canvas = undefined;\n",
       "    this.rubberband_canvas = undefined;\n",
       "    this.rubberband_context = undefined;\n",
       "    this.format_dropdown = undefined;\n",
       "\n",
       "    this.image_mode = 'full';\n",
       "\n",
       "    this.root = $('<div/>');\n",
       "    this._root_extra_style(this.root)\n",
       "    this.root.attr('style', 'display: inline-block');\n",
       "\n",
       "    $(parent_element).append(this.root);\n",
       "\n",
       "    this._init_header(this);\n",
       "    this._init_canvas(this);\n",
       "    this._init_toolbar(this);\n",
       "\n",
       "    var fig = this;\n",
       "\n",
       "    this.waiting = false;\n",
       "\n",
       "    this.ws.onopen =  function () {\n",
       "            fig.send_message(\"supports_binary\", {value: fig.supports_binary});\n",
       "            fig.send_message(\"send_image_mode\", {});\n",
       "            if (mpl.ratio != 1) {\n",
       "                fig.send_message(\"set_dpi_ratio\", {'dpi_ratio': mpl.ratio});\n",
       "            }\n",
       "            fig.send_message(\"refresh\", {});\n",
       "        }\n",
       "\n",
       "    this.imageObj.onload = function() {\n",
       "            if (fig.image_mode == 'full') {\n",
       "                // Full images could contain transparency (where diff images\n",
       "                // almost always do), so we need to clear the canvas so that\n",
       "                // there is no ghosting.\n",
       "                fig.context.clearRect(0, 0, fig.canvas.width, fig.canvas.height);\n",
       "            }\n",
       "            fig.context.drawImage(fig.imageObj, 0, 0);\n",
       "        };\n",
       "\n",
       "    this.imageObj.onunload = function() {\n",
       "        this.ws.close();\n",
       "    }\n",
       "\n",
       "    this.ws.onmessage = this._make_on_message_function(this);\n",
       "\n",
       "    this.ondownload = ondownload;\n",
       "}\n",
       "\n",
       "mpl.figure.prototype._init_header = function() {\n",
       "    var titlebar = $(\n",
       "        '<div class=\"ui-dialog-titlebar ui-widget-header ui-corner-all ' +\n",
       "        'ui-helper-clearfix\"/>');\n",
       "    var titletext = $(\n",
       "        '<div class=\"ui-dialog-title\" style=\"width: 100%; ' +\n",
       "        'text-align: center; padding: 3px;\"/>');\n",
       "    titlebar.append(titletext)\n",
       "    this.root.append(titlebar);\n",
       "    this.header = titletext[0];\n",
       "}\n",
       "\n",
       "\n",
       "\n",
       "mpl.figure.prototype._canvas_extra_style = function(canvas_div) {\n",
       "\n",
       "}\n",
       "\n",
       "\n",
       "mpl.figure.prototype._root_extra_style = function(canvas_div) {\n",
       "\n",
       "}\n",
       "\n",
       "mpl.figure.prototype._init_canvas = function() {\n",
       "    var fig = this;\n",
       "\n",
       "    var canvas_div = $('<div/>');\n",
       "\n",
       "    canvas_div.attr('style', 'position: relative; clear: both; outline: 0');\n",
       "\n",
       "    function canvas_keyboard_event(event) {\n",
       "        return fig.key_event(event, event['data']);\n",
       "    }\n",
       "\n",
       "    canvas_div.keydown('key_press', canvas_keyboard_event);\n",
       "    canvas_div.keyup('key_release', canvas_keyboard_event);\n",
       "    this.canvas_div = canvas_div\n",
       "    this._canvas_extra_style(canvas_div)\n",
       "    this.root.append(canvas_div);\n",
       "\n",
       "    var canvas = $('<canvas/>');\n",
       "    canvas.addClass('mpl-canvas');\n",
       "    canvas.attr('style', \"left: 0; top: 0; z-index: 0; outline: 0\")\n",
       "\n",
       "    this.canvas = canvas[0];\n",
       "    this.context = canvas[0].getContext(\"2d\");\n",
       "\n",
       "    var backingStore = this.context.backingStorePixelRatio ||\n",
       "\tthis.context.webkitBackingStorePixelRatio ||\n",
       "\tthis.context.mozBackingStorePixelRatio ||\n",
       "\tthis.context.msBackingStorePixelRatio ||\n",
       "\tthis.context.oBackingStorePixelRatio ||\n",
       "\tthis.context.backingStorePixelRatio || 1;\n",
       "\n",
       "    mpl.ratio = (window.devicePixelRatio || 1) / backingStore;\n",
       "\n",
       "    var rubberband = $('<canvas/>');\n",
       "    rubberband.attr('style', \"position: absolute; left: 0; top: 0; z-index: 1;\")\n",
       "\n",
       "    var pass_mouse_events = true;\n",
       "\n",
       "    canvas_div.resizable({\n",
       "        start: function(event, ui) {\n",
       "            pass_mouse_events = false;\n",
       "        },\n",
       "        resize: function(event, ui) {\n",
       "            fig.request_resize(ui.size.width, ui.size.height);\n",
       "        },\n",
       "        stop: function(event, ui) {\n",
       "            pass_mouse_events = true;\n",
       "            fig.request_resize(ui.size.width, ui.size.height);\n",
       "        },\n",
       "    });\n",
       "\n",
       "    function mouse_event_fn(event) {\n",
       "        if (pass_mouse_events)\n",
       "            return fig.mouse_event(event, event['data']);\n",
       "    }\n",
       "\n",
       "    rubberband.mousedown('button_press', mouse_event_fn);\n",
       "    rubberband.mouseup('button_release', mouse_event_fn);\n",
       "    // Throttle sequential mouse events to 1 every 20ms.\n",
       "    rubberband.mousemove('motion_notify', mouse_event_fn);\n",
       "\n",
       "    rubberband.mouseenter('figure_enter', mouse_event_fn);\n",
       "    rubberband.mouseleave('figure_leave', mouse_event_fn);\n",
       "\n",
       "    canvas_div.on(\"wheel\", function (event) {\n",
       "        event = event.originalEvent;\n",
       "        event['data'] = 'scroll'\n",
       "        if (event.deltaY < 0) {\n",
       "            event.step = 1;\n",
       "        } else {\n",
       "            event.step = -1;\n",
       "        }\n",
       "        mouse_event_fn(event);\n",
       "    });\n",
       "\n",
       "    canvas_div.append(canvas);\n",
       "    canvas_div.append(rubberband);\n",
       "\n",
       "    this.rubberband = rubberband;\n",
       "    this.rubberband_canvas = rubberband[0];\n",
       "    this.rubberband_context = rubberband[0].getContext(\"2d\");\n",
       "    this.rubberband_context.strokeStyle = \"#000000\";\n",
       "\n",
       "    this._resize_canvas = function(width, height) {\n",
       "        // Keep the size of the canvas, canvas container, and rubber band\n",
       "        // canvas in synch.\n",
       "        canvas_div.css('width', width)\n",
       "        canvas_div.css('height', height)\n",
       "\n",
       "        canvas.attr('width', width * mpl.ratio);\n",
       "        canvas.attr('height', height * mpl.ratio);\n",
       "        canvas.attr('style', 'width: ' + width + 'px; height: ' + height + 'px;');\n",
       "\n",
       "        rubberband.attr('width', width);\n",
       "        rubberband.attr('height', height);\n",
       "    }\n",
       "\n",
       "    // Set the figure to an initial 600x600px, this will subsequently be updated\n",
       "    // upon first draw.\n",
       "    this._resize_canvas(600, 600);\n",
       "\n",
       "    // Disable right mouse context menu.\n",
       "    $(this.rubberband_canvas).bind(\"contextmenu\",function(e){\n",
       "        return false;\n",
       "    });\n",
       "\n",
       "    function set_focus () {\n",
       "        canvas.focus();\n",
       "        canvas_div.focus();\n",
       "    }\n",
       "\n",
       "    window.setTimeout(set_focus, 100);\n",
       "}\n",
       "\n",
       "mpl.figure.prototype._init_toolbar = function() {\n",
       "    var fig = this;\n",
       "\n",
       "    var nav_element = $('<div/>')\n",
       "    nav_element.attr('style', 'width: 100%');\n",
       "    this.root.append(nav_element);\n",
       "\n",
       "    // Define a callback function for later on.\n",
       "    function toolbar_event(event) {\n",
       "        return fig.toolbar_button_onclick(event['data']);\n",
       "    }\n",
       "    function toolbar_mouse_event(event) {\n",
       "        return fig.toolbar_button_onmouseover(event['data']);\n",
       "    }\n",
       "\n",
       "    for(var toolbar_ind in mpl.toolbar_items) {\n",
       "        var name = mpl.toolbar_items[toolbar_ind][0];\n",
       "        var tooltip = mpl.toolbar_items[toolbar_ind][1];\n",
       "        var image = mpl.toolbar_items[toolbar_ind][2];\n",
       "        var method_name = mpl.toolbar_items[toolbar_ind][3];\n",
       "\n",
       "        if (!name) {\n",
       "            // put a spacer in here.\n",
       "            continue;\n",
       "        }\n",
       "        var button = $('<button/>');\n",
       "        button.addClass('ui-button ui-widget ui-state-default ui-corner-all ' +\n",
       "                        'ui-button-icon-only');\n",
       "        button.attr('role', 'button');\n",
       "        button.attr('aria-disabled', 'false');\n",
       "        button.click(method_name, toolbar_event);\n",
       "        button.mouseover(tooltip, toolbar_mouse_event);\n",
       "\n",
       "        var icon_img = $('<span/>');\n",
       "        icon_img.addClass('ui-button-icon-primary ui-icon');\n",
       "        icon_img.addClass(image);\n",
       "        icon_img.addClass('ui-corner-all');\n",
       "\n",
       "        var tooltip_span = $('<span/>');\n",
       "        tooltip_span.addClass('ui-button-text');\n",
       "        tooltip_span.html(tooltip);\n",
       "\n",
       "        button.append(icon_img);\n",
       "        button.append(tooltip_span);\n",
       "\n",
       "        nav_element.append(button);\n",
       "    }\n",
       "\n",
       "    var fmt_picker_span = $('<span/>');\n",
       "\n",
       "    var fmt_picker = $('<select/>');\n",
       "    fmt_picker.addClass('mpl-toolbar-option ui-widget ui-widget-content');\n",
       "    fmt_picker_span.append(fmt_picker);\n",
       "    nav_element.append(fmt_picker_span);\n",
       "    this.format_dropdown = fmt_picker[0];\n",
       "\n",
       "    for (var ind in mpl.extensions) {\n",
       "        var fmt = mpl.extensions[ind];\n",
       "        var option = $(\n",
       "            '<option/>', {selected: fmt === mpl.default_extension}).html(fmt);\n",
       "        fmt_picker.append(option)\n",
       "    }\n",
       "\n",
       "    // Add hover states to the ui-buttons\n",
       "    $( \".ui-button\" ).hover(\n",
       "        function() { $(this).addClass(\"ui-state-hover\");},\n",
       "        function() { $(this).removeClass(\"ui-state-hover\");}\n",
       "    );\n",
       "\n",
       "    var status_bar = $('<span class=\"mpl-message\"/>');\n",
       "    nav_element.append(status_bar);\n",
       "    this.message = status_bar[0];\n",
       "}\n",
       "\n",
       "mpl.figure.prototype.request_resize = function(x_pixels, y_pixels) {\n",
       "    // Request matplotlib to resize the figure. Matplotlib will then trigger a resize in the client,\n",
       "    // which will in turn request a refresh of the image.\n",
       "    this.send_message('resize', {'width': x_pixels, 'height': y_pixels});\n",
       "}\n",
       "\n",
       "mpl.figure.prototype.send_message = function(type, properties) {\n",
       "    properties['type'] = type;\n",
       "    properties['figure_id'] = this.id;\n",
       "    this.ws.send(JSON.stringify(properties));\n",
       "}\n",
       "\n",
       "mpl.figure.prototype.send_draw_message = function() {\n",
       "    if (!this.waiting) {\n",
       "        this.waiting = true;\n",
       "        this.ws.send(JSON.stringify({type: \"draw\", figure_id: this.id}));\n",
       "    }\n",
       "}\n",
       "\n",
       "\n",
       "mpl.figure.prototype.handle_save = function(fig, msg) {\n",
       "    var format_dropdown = fig.format_dropdown;\n",
       "    var format = format_dropdown.options[format_dropdown.selectedIndex].value;\n",
       "    fig.ondownload(fig, format);\n",
       "}\n",
       "\n",
       "\n",
       "mpl.figure.prototype.handle_resize = function(fig, msg) {\n",
       "    var size = msg['size'];\n",
       "    if (size[0] != fig.canvas.width || size[1] != fig.canvas.height) {\n",
       "        fig._resize_canvas(size[0], size[1]);\n",
       "        fig.send_message(\"refresh\", {});\n",
       "    };\n",
       "}\n",
       "\n",
       "mpl.figure.prototype.handle_rubberband = function(fig, msg) {\n",
       "    var x0 = msg['x0'] / mpl.ratio;\n",
       "    var y0 = (fig.canvas.height - msg['y0']) / mpl.ratio;\n",
       "    var x1 = msg['x1'] / mpl.ratio;\n",
       "    var y1 = (fig.canvas.height - msg['y1']) / mpl.ratio;\n",
       "    x0 = Math.floor(x0) + 0.5;\n",
       "    y0 = Math.floor(y0) + 0.5;\n",
       "    x1 = Math.floor(x1) + 0.5;\n",
       "    y1 = Math.floor(y1) + 0.5;\n",
       "    var min_x = Math.min(x0, x1);\n",
       "    var min_y = Math.min(y0, y1);\n",
       "    var width = Math.abs(x1 - x0);\n",
       "    var height = Math.abs(y1 - y0);\n",
       "\n",
       "    fig.rubberband_context.clearRect(\n",
       "        0, 0, fig.canvas.width, fig.canvas.height);\n",
       "\n",
       "    fig.rubberband_context.strokeRect(min_x, min_y, width, height);\n",
       "}\n",
       "\n",
       "mpl.figure.prototype.handle_figure_label = function(fig, msg) {\n",
       "    // Updates the figure title.\n",
       "    fig.header.textContent = msg['label'];\n",
       "}\n",
       "\n",
       "mpl.figure.prototype.handle_cursor = function(fig, msg) {\n",
       "    var cursor = msg['cursor'];\n",
       "    switch(cursor)\n",
       "    {\n",
       "    case 0:\n",
       "        cursor = 'pointer';\n",
       "        break;\n",
       "    case 1:\n",
       "        cursor = 'default';\n",
       "        break;\n",
       "    case 2:\n",
       "        cursor = 'crosshair';\n",
       "        break;\n",
       "    case 3:\n",
       "        cursor = 'move';\n",
       "        break;\n",
       "    }\n",
       "    fig.rubberband_canvas.style.cursor = cursor;\n",
       "}\n",
       "\n",
       "mpl.figure.prototype.handle_message = function(fig, msg) {\n",
       "    fig.message.textContent = msg['message'];\n",
       "}\n",
       "\n",
       "mpl.figure.prototype.handle_draw = function(fig, msg) {\n",
       "    // Request the server to send over a new figure.\n",
       "    fig.send_draw_message();\n",
       "}\n",
       "\n",
       "mpl.figure.prototype.handle_image_mode = function(fig, msg) {\n",
       "    fig.image_mode = msg['mode'];\n",
       "}\n",
       "\n",
       "mpl.figure.prototype.updated_canvas_event = function() {\n",
       "    // Called whenever the canvas gets updated.\n",
       "    this.send_message(\"ack\", {});\n",
       "}\n",
       "\n",
       "// A function to construct a web socket function for onmessage handling.\n",
       "// Called in the figure constructor.\n",
       "mpl.figure.prototype._make_on_message_function = function(fig) {\n",
       "    return function socket_on_message(evt) {\n",
       "        if (evt.data instanceof Blob) {\n",
       "            /* FIXME: We get \"Resource interpreted as Image but\n",
       "             * transferred with MIME type text/plain:\" errors on\n",
       "             * Chrome.  But how to set the MIME type?  It doesn't seem\n",
       "             * to be part of the websocket stream */\n",
       "            evt.data.type = \"image/png\";\n",
       "\n",
       "            /* Free the memory for the previous frames */\n",
       "            if (fig.imageObj.src) {\n",
       "                (window.URL || window.webkitURL).revokeObjectURL(\n",
       "                    fig.imageObj.src);\n",
       "            }\n",
       "\n",
       "            fig.imageObj.src = (window.URL || window.webkitURL).createObjectURL(\n",
       "                evt.data);\n",
       "            fig.updated_canvas_event();\n",
       "            fig.waiting = false;\n",
       "            return;\n",
       "        }\n",
       "        else if (typeof evt.data === 'string' && evt.data.slice(0, 21) == \"data:image/png;base64\") {\n",
       "            fig.imageObj.src = evt.data;\n",
       "            fig.updated_canvas_event();\n",
       "            fig.waiting = false;\n",
       "            return;\n",
       "        }\n",
       "\n",
       "        var msg = JSON.parse(evt.data);\n",
       "        var msg_type = msg['type'];\n",
       "\n",
       "        // Call the  \"handle_{type}\" callback, which takes\n",
       "        // the figure and JSON message as its only arguments.\n",
       "        try {\n",
       "            var callback = fig[\"handle_\" + msg_type];\n",
       "        } catch (e) {\n",
       "            console.log(\"No handler for the '\" + msg_type + \"' message type: \", msg);\n",
       "            return;\n",
       "        }\n",
       "\n",
       "        if (callback) {\n",
       "            try {\n",
       "                // console.log(\"Handling '\" + msg_type + \"' message: \", msg);\n",
       "                callback(fig, msg);\n",
       "            } catch (e) {\n",
       "                console.log(\"Exception inside the 'handler_\" + msg_type + \"' callback:\", e, e.stack, msg);\n",
       "            }\n",
       "        }\n",
       "    };\n",
       "}\n",
       "\n",
       "// from http://stackoverflow.com/questions/1114465/getting-mouse-location-in-canvas\n",
       "mpl.findpos = function(e) {\n",
       "    //this section is from http://www.quirksmode.org/js/events_properties.html\n",
       "    var targ;\n",
       "    if (!e)\n",
       "        e = window.event;\n",
       "    if (e.target)\n",
       "        targ = e.target;\n",
       "    else if (e.srcElement)\n",
       "        targ = e.srcElement;\n",
       "    if (targ.nodeType == 3) // defeat Safari bug\n",
       "        targ = targ.parentNode;\n",
       "\n",
       "    // jQuery normalizes the pageX and pageY\n",
       "    // pageX,Y are the mouse positions relative to the document\n",
       "    // offset() returns the position of the element relative to the document\n",
       "    var x = e.pageX - $(targ).offset().left;\n",
       "    var y = e.pageY - $(targ).offset().top;\n",
       "\n",
       "    return {\"x\": x, \"y\": y};\n",
       "};\n",
       "\n",
       "/*\n",
       " * return a copy of an object with only non-object keys\n",
       " * we need this to avoid circular references\n",
       " * http://stackoverflow.com/a/24161582/3208463\n",
       " */\n",
       "function simpleKeys (original) {\n",
       "  return Object.keys(original).reduce(function (obj, key) {\n",
       "    if (typeof original[key] !== 'object')\n",
       "        obj[key] = original[key]\n",
       "    return obj;\n",
       "  }, {});\n",
       "}\n",
       "\n",
       "mpl.figure.prototype.mouse_event = function(event, name) {\n",
       "    var canvas_pos = mpl.findpos(event)\n",
       "\n",
       "    if (name === 'button_press')\n",
       "    {\n",
       "        this.canvas.focus();\n",
       "        this.canvas_div.focus();\n",
       "    }\n",
       "\n",
       "    var x = canvas_pos.x * mpl.ratio;\n",
       "    var y = canvas_pos.y * mpl.ratio;\n",
       "\n",
       "    this.send_message(name, {x: x, y: y, button: event.button,\n",
       "                             step: event.step,\n",
       "                             guiEvent: simpleKeys(event)});\n",
       "\n",
       "    /* This prevents the web browser from automatically changing to\n",
       "     * the text insertion cursor when the button is pressed.  We want\n",
       "     * to control all of the cursor setting manually through the\n",
       "     * 'cursor' event from matplotlib */\n",
       "    event.preventDefault();\n",
       "    return false;\n",
       "}\n",
       "\n",
       "mpl.figure.prototype._key_event_extra = function(event, name) {\n",
       "    // Handle any extra behaviour associated with a key event\n",
       "}\n",
       "\n",
       "mpl.figure.prototype.key_event = function(event, name) {\n",
       "\n",
       "    // Prevent repeat events\n",
       "    if (name == 'key_press')\n",
       "    {\n",
       "        if (event.which === this._key)\n",
       "            return;\n",
       "        else\n",
       "            this._key = event.which;\n",
       "    }\n",
       "    if (name == 'key_release')\n",
       "        this._key = null;\n",
       "\n",
       "    var value = '';\n",
       "    if (event.ctrlKey && event.which != 17)\n",
       "        value += \"ctrl+\";\n",
       "    if (event.altKey && event.which != 18)\n",
       "        value += \"alt+\";\n",
       "    if (event.shiftKey && event.which != 16)\n",
       "        value += \"shift+\";\n",
       "\n",
       "    value += 'k';\n",
       "    value += event.which.toString();\n",
       "\n",
       "    this._key_event_extra(event, name);\n",
       "\n",
       "    this.send_message(name, {key: value,\n",
       "                             guiEvent: simpleKeys(event)});\n",
       "    return false;\n",
       "}\n",
       "\n",
       "mpl.figure.prototype.toolbar_button_onclick = function(name) {\n",
       "    if (name == 'download') {\n",
       "        this.handle_save(this, null);\n",
       "    } else {\n",
       "        this.send_message(\"toolbar_button\", {name: name});\n",
       "    }\n",
       "};\n",
       "\n",
       "mpl.figure.prototype.toolbar_button_onmouseover = function(tooltip) {\n",
       "    this.message.textContent = tooltip;\n",
       "};\n",
       "mpl.toolbar_items = [[\"Home\", \"Reset original view\", \"fa fa-home icon-home\", \"home\"], [\"Back\", \"Back to  previous view\", \"fa fa-arrow-left icon-arrow-left\", \"back\"], [\"Forward\", \"Forward to next view\", \"fa fa-arrow-right icon-arrow-right\", \"forward\"], [\"\", \"\", \"\", \"\"], [\"Pan\", \"Pan axes with left mouse, zoom with right\", \"fa fa-arrows icon-move\", \"pan\"], [\"Zoom\", \"Zoom to rectangle\", \"fa fa-square-o icon-check-empty\", \"zoom\"], [\"\", \"\", \"\", \"\"], [\"Download\", \"Download plot\", \"fa fa-floppy-o icon-save\", \"download\"]];\n",
       "\n",
       "mpl.extensions = [\"eps\", \"jpeg\", \"pdf\", \"png\", \"ps\", \"raw\", \"svg\", \"tif\"];\n",
       "\n",
       "mpl.default_extension = \"png\";var comm_websocket_adapter = function(comm) {\n",
       "    // Create a \"websocket\"-like object which calls the given IPython comm\n",
       "    // object with the appropriate methods. Currently this is a non binary\n",
       "    // socket, so there is still some room for performance tuning.\n",
       "    var ws = {};\n",
       "\n",
       "    ws.close = function() {\n",
       "        comm.close()\n",
       "    };\n",
       "    ws.send = function(m) {\n",
       "        //console.log('sending', m);\n",
       "        comm.send(m);\n",
       "    };\n",
       "    // Register the callback with on_msg.\n",
       "    comm.on_msg(function(msg) {\n",
       "        //console.log('receiving', msg['content']['data'], msg);\n",
       "        // Pass the mpl event to the overriden (by mpl) onmessage function.\n",
       "        ws.onmessage(msg['content']['data'])\n",
       "    });\n",
       "    return ws;\n",
       "}\n",
       "\n",
       "mpl.mpl_figure_comm = function(comm, msg) {\n",
       "    // This is the function which gets called when the mpl process\n",
       "    // starts-up an IPython Comm through the \"matplotlib\" channel.\n",
       "\n",
       "    var id = msg.content.data.id;\n",
       "    // Get hold of the div created by the display call when the Comm\n",
       "    // socket was opened in Python.\n",
       "    var element = $(\"#\" + id);\n",
       "    var ws_proxy = comm_websocket_adapter(comm)\n",
       "\n",
       "    function ondownload(figure, format) {\n",
       "        window.open(figure.imageObj.src);\n",
       "    }\n",
       "\n",
       "    var fig = new mpl.figure(id, ws_proxy,\n",
       "                           ondownload,\n",
       "                           element.get(0));\n",
       "\n",
       "    // Call onopen now - mpl needs it, as it is assuming we've passed it a real\n",
       "    // web socket which is closed, not our websocket->open comm proxy.\n",
       "    ws_proxy.onopen();\n",
       "\n",
       "    fig.parent_element = element.get(0);\n",
       "    fig.cell_info = mpl.find_output_cell(\"<div id='\" + id + \"'></div>\");\n",
       "    if (!fig.cell_info) {\n",
       "        console.error(\"Failed to find cell for figure\", id, fig);\n",
       "        return;\n",
       "    }\n",
       "\n",
       "    var output_index = fig.cell_info[2]\n",
       "    var cell = fig.cell_info[0];\n",
       "\n",
       "};\n",
       "\n",
       "mpl.figure.prototype.handle_close = function(fig, msg) {\n",
       "    var width = fig.canvas.width/mpl.ratio\n",
       "    fig.root.unbind('remove')\n",
       "\n",
       "    // Update the output cell to use the data from the current canvas.\n",
       "    fig.push_to_output();\n",
       "    var dataURL = fig.canvas.toDataURL();\n",
       "    // Re-enable the keyboard manager in IPython - without this line, in FF,\n",
       "    // the notebook keyboard shortcuts fail.\n",
       "    IPython.keyboard_manager.enable()\n",
       "    $(fig.parent_element).html('<img src=\"' + dataURL + '\" width=\"' + width + '\">');\n",
       "    fig.close_ws(fig, msg);\n",
       "}\n",
       "\n",
       "mpl.figure.prototype.close_ws = function(fig, msg){\n",
       "    fig.send_message('closing', msg);\n",
       "    // fig.ws.close()\n",
       "}\n",
       "\n",
       "mpl.figure.prototype.push_to_output = function(remove_interactive) {\n",
       "    // Turn the data on the canvas into data in the output cell.\n",
       "    var width = this.canvas.width/mpl.ratio\n",
       "    var dataURL = this.canvas.toDataURL();\n",
       "    this.cell_info[1]['text/html'] = '<img src=\"' + dataURL + '\" width=\"' + width + '\">';\n",
       "}\n",
       "\n",
       "mpl.figure.prototype.updated_canvas_event = function() {\n",
       "    // Tell IPython that the notebook contents must change.\n",
       "    IPython.notebook.set_dirty(true);\n",
       "    this.send_message(\"ack\", {});\n",
       "    var fig = this;\n",
       "    // Wait a second, then push the new image to the DOM so\n",
       "    // that it is saved nicely (might be nice to debounce this).\n",
       "    setTimeout(function () { fig.push_to_output() }, 1000);\n",
       "}\n",
       "\n",
       "mpl.figure.prototype._init_toolbar = function() {\n",
       "    var fig = this;\n",
       "\n",
       "    var nav_element = $('<div/>')\n",
       "    nav_element.attr('style', 'width: 100%');\n",
       "    this.root.append(nav_element);\n",
       "\n",
       "    // Define a callback function for later on.\n",
       "    function toolbar_event(event) {\n",
       "        return fig.toolbar_button_onclick(event['data']);\n",
       "    }\n",
       "    function toolbar_mouse_event(event) {\n",
       "        return fig.toolbar_button_onmouseover(event['data']);\n",
       "    }\n",
       "\n",
       "    for(var toolbar_ind in mpl.toolbar_items){\n",
       "        var name = mpl.toolbar_items[toolbar_ind][0];\n",
       "        var tooltip = mpl.toolbar_items[toolbar_ind][1];\n",
       "        var image = mpl.toolbar_items[toolbar_ind][2];\n",
       "        var method_name = mpl.toolbar_items[toolbar_ind][3];\n",
       "\n",
       "        if (!name) { continue; };\n",
       "\n",
       "        var button = $('<button class=\"btn btn-default\" href=\"#\" title=\"' + name + '\"><i class=\"fa ' + image + ' fa-lg\"></i></button>');\n",
       "        button.click(method_name, toolbar_event);\n",
       "        button.mouseover(tooltip, toolbar_mouse_event);\n",
       "        nav_element.append(button);\n",
       "    }\n",
       "\n",
       "    // Add the status bar.\n",
       "    var status_bar = $('<span class=\"mpl-message\" style=\"text-align:right; float: right;\"/>');\n",
       "    nav_element.append(status_bar);\n",
       "    this.message = status_bar[0];\n",
       "\n",
       "    // Add the close button to the window.\n",
       "    var buttongrp = $('<div class=\"btn-group inline pull-right\"></div>');\n",
       "    var button = $('<button class=\"btn btn-mini btn-primary\" href=\"#\" title=\"Stop Interaction\"><i class=\"fa fa-power-off icon-remove icon-large\"></i></button>');\n",
       "    button.click(function (evt) { fig.handle_close(fig, {}); } );\n",
       "    button.mouseover('Stop Interaction', toolbar_mouse_event);\n",
       "    buttongrp.append(button);\n",
       "    var titlebar = this.root.find($('.ui-dialog-titlebar'));\n",
       "    titlebar.prepend(buttongrp);\n",
       "}\n",
       "\n",
       "mpl.figure.prototype._root_extra_style = function(el){\n",
       "    var fig = this\n",
       "    el.on(\"remove\", function(){\n",
       "\tfig.close_ws(fig, {});\n",
       "    });\n",
       "}\n",
       "\n",
       "mpl.figure.prototype._canvas_extra_style = function(el){\n",
       "    // this is important to make the div 'focusable\n",
       "    el.attr('tabindex', 0)\n",
       "    // reach out to IPython and tell the keyboard manager to turn it's self\n",
       "    // off when our div gets focus\n",
       "\n",
       "    // location in version 3\n",
       "    if (IPython.notebook.keyboard_manager) {\n",
       "        IPython.notebook.keyboard_manager.register_events(el);\n",
       "    }\n",
       "    else {\n",
       "        // location in version 2\n",
       "        IPython.keyboard_manager.register_events(el);\n",
       "    }\n",
       "\n",
       "}\n",
       "\n",
       "mpl.figure.prototype._key_event_extra = function(event, name) {\n",
       "    var manager = IPython.notebook.keyboard_manager;\n",
       "    if (!manager)\n",
       "        manager = IPython.keyboard_manager;\n",
       "\n",
       "    // Check for shift+enter\n",
       "    if (event.shiftKey && event.which == 13) {\n",
       "        this.canvas_div.blur();\n",
       "        // select the cell after this one\n",
       "        var index = IPython.notebook.find_cell_index(this.cell_info[0]);\n",
       "        IPython.notebook.select(index + 1);\n",
       "    }\n",
       "}\n",
       "\n",
       "mpl.figure.prototype.handle_save = function(fig, msg) {\n",
       "    fig.ondownload(fig, null);\n",
       "}\n",
       "\n",
       "\n",
       "mpl.find_output_cell = function(html_output) {\n",
       "    // Return the cell and output element which can be found *uniquely* in the notebook.\n",
       "    // Note - this is a bit hacky, but it is done because the \"notebook_saving.Notebook\"\n",
       "    // IPython event is triggered only after the cells have been serialised, which for\n",
       "    // our purposes (turning an active figure into a static one), is too late.\n",
       "    var cells = IPython.notebook.get_cells();\n",
       "    var ncells = cells.length;\n",
       "    for (var i=0; i<ncells; i++) {\n",
       "        var cell = cells[i];\n",
       "        if (cell.cell_type === 'code'){\n",
       "            for (var j=0; j<cell.output_area.outputs.length; j++) {\n",
       "                var data = cell.output_area.outputs[j];\n",
       "                if (data.data) {\n",
       "                    // IPython >= 3 moved mimebundle to data attribute of output\n",
       "                    data = data.data;\n",
       "                }\n",
       "                if (data['text/html'] == html_output) {\n",
       "                    return [cell, data, j];\n",
       "                }\n",
       "            }\n",
       "        }\n",
       "    }\n",
       "}\n",
       "\n",
       "// Register the function which deals with the matplotlib target/channel.\n",
       "// The kernel may be null if the page has been refreshed.\n",
       "if (IPython.notebook.kernel != null) {\n",
       "    IPython.notebook.kernel.comm_manager.register_target('matplotlib', mpl.mpl_figure_comm);\n",
       "}\n"
      ],
      "text/plain": [
       "<IPython.core.display.Javascript object>"
      ]
     },
     "metadata": {},
     "output_type": "display_data"
    },
    {
     "data": {
      "text/html": [
       "<img src=\"data:image/png;base64,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\" width=\"600\">"
      ],
      "text/plain": [
       "<IPython.core.display.HTML object>"
      ]
     },
     "metadata": {},
     "output_type": "display_data"
    }
   ],
   "source": [
    "plt.figure(figsize=(6,4))\n",
    "plot_sqe(iqe)\n",
    "# plt.xlim(0, 11)\n",
    "plt.clim(0, 10)"
   ]
  },
  {
   "cell_type": "markdown",
   "metadata": {},
   "source": [
    "You can improve the Q,E grid parameters if you like, by re-executing the above cell of\n",
    "\n",
    "`QEGridWizardStart(context).show()`"
   ]
  },
  {
   "cell_type": "markdown",
   "metadata": {},
   "source": [
    "Plot I(E)"
   ]
  },
  {
   "cell_type": "code",
   "execution_count": 13,
   "metadata": {},
   "outputs": [
    {
     "data": {
      "application/javascript": [
       "/* Put everything inside the global mpl namespace */\n",
       "window.mpl = {};\n",
       "\n",
       "\n",
       "mpl.get_websocket_type = function() {\n",
       "    if (typeof(WebSocket) !== 'undefined') {\n",
       "        return WebSocket;\n",
       "    } else if (typeof(MozWebSocket) !== 'undefined') {\n",
       "        return MozWebSocket;\n",
       "    } else {\n",
       "        alert('Your browser does not have WebSocket support.' +\n",
       "              'Please try Chrome, Safari or Firefox ≥ 6. ' +\n",
       "              'Firefox 4 and 5 are also supported but you ' +\n",
       "              'have to enable WebSockets in about:config.');\n",
       "    };\n",
       "}\n",
       "\n",
       "mpl.figure = function(figure_id, websocket, ondownload, parent_element) {\n",
       "    this.id = figure_id;\n",
       "\n",
       "    this.ws = websocket;\n",
       "\n",
       "    this.supports_binary = (this.ws.binaryType != undefined);\n",
       "\n",
       "    if (!this.supports_binary) {\n",
       "        var warnings = document.getElementById(\"mpl-warnings\");\n",
       "        if (warnings) {\n",
       "            warnings.style.display = 'block';\n",
       "            warnings.textContent = (\n",
       "                \"This browser does not support binary websocket messages. \" +\n",
       "                    \"Performance may be slow.\");\n",
       "        }\n",
       "    }\n",
       "\n",
       "    this.imageObj = new Image();\n",
       "\n",
       "    this.context = undefined;\n",
       "    this.message = undefined;\n",
       "    this.canvas = undefined;\n",
       "    this.rubberband_canvas = undefined;\n",
       "    this.rubberband_context = undefined;\n",
       "    this.format_dropdown = undefined;\n",
       "\n",
       "    this.image_mode = 'full';\n",
       "\n",
       "    this.root = $('<div/>');\n",
       "    this._root_extra_style(this.root)\n",
       "    this.root.attr('style', 'display: inline-block');\n",
       "\n",
       "    $(parent_element).append(this.root);\n",
       "\n",
       "    this._init_header(this);\n",
       "    this._init_canvas(this);\n",
       "    this._init_toolbar(this);\n",
       "\n",
       "    var fig = this;\n",
       "\n",
       "    this.waiting = false;\n",
       "\n",
       "    this.ws.onopen =  function () {\n",
       "            fig.send_message(\"supports_binary\", {value: fig.supports_binary});\n",
       "            fig.send_message(\"send_image_mode\", {});\n",
       "            if (mpl.ratio != 1) {\n",
       "                fig.send_message(\"set_dpi_ratio\", {'dpi_ratio': mpl.ratio});\n",
       "            }\n",
       "            fig.send_message(\"refresh\", {});\n",
       "        }\n",
       "\n",
       "    this.imageObj.onload = function() {\n",
       "            if (fig.image_mode == 'full') {\n",
       "                // Full images could contain transparency (where diff images\n",
       "                // almost always do), so we need to clear the canvas so that\n",
       "                // there is no ghosting.\n",
       "                fig.context.clearRect(0, 0, fig.canvas.width, fig.canvas.height);\n",
       "            }\n",
       "            fig.context.drawImage(fig.imageObj, 0, 0);\n",
       "        };\n",
       "\n",
       "    this.imageObj.onunload = function() {\n",
       "        this.ws.close();\n",
       "    }\n",
       "\n",
       "    this.ws.onmessage = this._make_on_message_function(this);\n",
       "\n",
       "    this.ondownload = ondownload;\n",
       "}\n",
       "\n",
       "mpl.figure.prototype._init_header = function() {\n",
       "    var titlebar = $(\n",
       "        '<div class=\"ui-dialog-titlebar ui-widget-header ui-corner-all ' +\n",
       "        'ui-helper-clearfix\"/>');\n",
       "    var titletext = $(\n",
       "        '<div class=\"ui-dialog-title\" style=\"width: 100%; ' +\n",
       "        'text-align: center; padding: 3px;\"/>');\n",
       "    titlebar.append(titletext)\n",
       "    this.root.append(titlebar);\n",
       "    this.header = titletext[0];\n",
       "}\n",
       "\n",
       "\n",
       "\n",
       "mpl.figure.prototype._canvas_extra_style = function(canvas_div) {\n",
       "\n",
       "}\n",
       "\n",
       "\n",
       "mpl.figure.prototype._root_extra_style = function(canvas_div) {\n",
       "\n",
       "}\n",
       "\n",
       "mpl.figure.prototype._init_canvas = function() {\n",
       "    var fig = this;\n",
       "\n",
       "    var canvas_div = $('<div/>');\n",
       "\n",
       "    canvas_div.attr('style', 'position: relative; clear: both; outline: 0');\n",
       "\n",
       "    function canvas_keyboard_event(event) {\n",
       "        return fig.key_event(event, event['data']);\n",
       "    }\n",
       "\n",
       "    canvas_div.keydown('key_press', canvas_keyboard_event);\n",
       "    canvas_div.keyup('key_release', canvas_keyboard_event);\n",
       "    this.canvas_div = canvas_div\n",
       "    this._canvas_extra_style(canvas_div)\n",
       "    this.root.append(canvas_div);\n",
       "\n",
       "    var canvas = $('<canvas/>');\n",
       "    canvas.addClass('mpl-canvas');\n",
       "    canvas.attr('style', \"left: 0; top: 0; z-index: 0; outline: 0\")\n",
       "\n",
       "    this.canvas = canvas[0];\n",
       "    this.context = canvas[0].getContext(\"2d\");\n",
       "\n",
       "    var backingStore = this.context.backingStorePixelRatio ||\n",
       "\tthis.context.webkitBackingStorePixelRatio ||\n",
       "\tthis.context.mozBackingStorePixelRatio ||\n",
       "\tthis.context.msBackingStorePixelRatio ||\n",
       "\tthis.context.oBackingStorePixelRatio ||\n",
       "\tthis.context.backingStorePixelRatio || 1;\n",
       "\n",
       "    mpl.ratio = (window.devicePixelRatio || 1) / backingStore;\n",
       "\n",
       "    var rubberband = $('<canvas/>');\n",
       "    rubberband.attr('style', \"position: absolute; left: 0; top: 0; z-index: 1;\")\n",
       "\n",
       "    var pass_mouse_events = true;\n",
       "\n",
       "    canvas_div.resizable({\n",
       "        start: function(event, ui) {\n",
       "            pass_mouse_events = false;\n",
       "        },\n",
       "        resize: function(event, ui) {\n",
       "            fig.request_resize(ui.size.width, ui.size.height);\n",
       "        },\n",
       "        stop: function(event, ui) {\n",
       "            pass_mouse_events = true;\n",
       "            fig.request_resize(ui.size.width, ui.size.height);\n",
       "        },\n",
       "    });\n",
       "\n",
       "    function mouse_event_fn(event) {\n",
       "        if (pass_mouse_events)\n",
       "            return fig.mouse_event(event, event['data']);\n",
       "    }\n",
       "\n",
       "    rubberband.mousedown('button_press', mouse_event_fn);\n",
       "    rubberband.mouseup('button_release', mouse_event_fn);\n",
       "    // Throttle sequential mouse events to 1 every 20ms.\n",
       "    rubberband.mousemove('motion_notify', mouse_event_fn);\n",
       "\n",
       "    rubberband.mouseenter('figure_enter', mouse_event_fn);\n",
       "    rubberband.mouseleave('figure_leave', mouse_event_fn);\n",
       "\n",
       "    canvas_div.on(\"wheel\", function (event) {\n",
       "        event = event.originalEvent;\n",
       "        event['data'] = 'scroll'\n",
       "        if (event.deltaY < 0) {\n",
       "            event.step = 1;\n",
       "        } else {\n",
       "            event.step = -1;\n",
       "        }\n",
       "        mouse_event_fn(event);\n",
       "    });\n",
       "\n",
       "    canvas_div.append(canvas);\n",
       "    canvas_div.append(rubberband);\n",
       "\n",
       "    this.rubberband = rubberband;\n",
       "    this.rubberband_canvas = rubberband[0];\n",
       "    this.rubberband_context = rubberband[0].getContext(\"2d\");\n",
       "    this.rubberband_context.strokeStyle = \"#000000\";\n",
       "\n",
       "    this._resize_canvas = function(width, height) {\n",
       "        // Keep the size of the canvas, canvas container, and rubber band\n",
       "        // canvas in synch.\n",
       "        canvas_div.css('width', width)\n",
       "        canvas_div.css('height', height)\n",
       "\n",
       "        canvas.attr('width', width * mpl.ratio);\n",
       "        canvas.attr('height', height * mpl.ratio);\n",
       "        canvas.attr('style', 'width: ' + width + 'px; height: ' + height + 'px;');\n",
       "\n",
       "        rubberband.attr('width', width);\n",
       "        rubberband.attr('height', height);\n",
       "    }\n",
       "\n",
       "    // Set the figure to an initial 600x600px, this will subsequently be updated\n",
       "    // upon first draw.\n",
       "    this._resize_canvas(600, 600);\n",
       "\n",
       "    // Disable right mouse context menu.\n",
       "    $(this.rubberband_canvas).bind(\"contextmenu\",function(e){\n",
       "        return false;\n",
       "    });\n",
       "\n",
       "    function set_focus () {\n",
       "        canvas.focus();\n",
       "        canvas_div.focus();\n",
       "    }\n",
       "\n",
       "    window.setTimeout(set_focus, 100);\n",
       "}\n",
       "\n",
       "mpl.figure.prototype._init_toolbar = function() {\n",
       "    var fig = this;\n",
       "\n",
       "    var nav_element = $('<div/>')\n",
       "    nav_element.attr('style', 'width: 100%');\n",
       "    this.root.append(nav_element);\n",
       "\n",
       "    // Define a callback function for later on.\n",
       "    function toolbar_event(event) {\n",
       "        return fig.toolbar_button_onclick(event['data']);\n",
       "    }\n",
       "    function toolbar_mouse_event(event) {\n",
       "        return fig.toolbar_button_onmouseover(event['data']);\n",
       "    }\n",
       "\n",
       "    for(var toolbar_ind in mpl.toolbar_items) {\n",
       "        var name = mpl.toolbar_items[toolbar_ind][0];\n",
       "        var tooltip = mpl.toolbar_items[toolbar_ind][1];\n",
       "        var image = mpl.toolbar_items[toolbar_ind][2];\n",
       "        var method_name = mpl.toolbar_items[toolbar_ind][3];\n",
       "\n",
       "        if (!name) {\n",
       "            // put a spacer in here.\n",
       "            continue;\n",
       "        }\n",
       "        var button = $('<button/>');\n",
       "        button.addClass('ui-button ui-widget ui-state-default ui-corner-all ' +\n",
       "                        'ui-button-icon-only');\n",
       "        button.attr('role', 'button');\n",
       "        button.attr('aria-disabled', 'false');\n",
       "        button.click(method_name, toolbar_event);\n",
       "        button.mouseover(tooltip, toolbar_mouse_event);\n",
       "\n",
       "        var icon_img = $('<span/>');\n",
       "        icon_img.addClass('ui-button-icon-primary ui-icon');\n",
       "        icon_img.addClass(image);\n",
       "        icon_img.addClass('ui-corner-all');\n",
       "\n",
       "        var tooltip_span = $('<span/>');\n",
       "        tooltip_span.addClass('ui-button-text');\n",
       "        tooltip_span.html(tooltip);\n",
       "\n",
       "        button.append(icon_img);\n",
       "        button.append(tooltip_span);\n",
       "\n",
       "        nav_element.append(button);\n",
       "    }\n",
       "\n",
       "    var fmt_picker_span = $('<span/>');\n",
       "\n",
       "    var fmt_picker = $('<select/>');\n",
       "    fmt_picker.addClass('mpl-toolbar-option ui-widget ui-widget-content');\n",
       "    fmt_picker_span.append(fmt_picker);\n",
       "    nav_element.append(fmt_picker_span);\n",
       "    this.format_dropdown = fmt_picker[0];\n",
       "\n",
       "    for (var ind in mpl.extensions) {\n",
       "        var fmt = mpl.extensions[ind];\n",
       "        var option = $(\n",
       "            '<option/>', {selected: fmt === mpl.default_extension}).html(fmt);\n",
       "        fmt_picker.append(option)\n",
       "    }\n",
       "\n",
       "    // Add hover states to the ui-buttons\n",
       "    $( \".ui-button\" ).hover(\n",
       "        function() { $(this).addClass(\"ui-state-hover\");},\n",
       "        function() { $(this).removeClass(\"ui-state-hover\");}\n",
       "    );\n",
       "\n",
       "    var status_bar = $('<span class=\"mpl-message\"/>');\n",
       "    nav_element.append(status_bar);\n",
       "    this.message = status_bar[0];\n",
       "}\n",
       "\n",
       "mpl.figure.prototype.request_resize = function(x_pixels, y_pixels) {\n",
       "    // Request matplotlib to resize the figure. Matplotlib will then trigger a resize in the client,\n",
       "    // which will in turn request a refresh of the image.\n",
       "    this.send_message('resize', {'width': x_pixels, 'height': y_pixels});\n",
       "}\n",
       "\n",
       "mpl.figure.prototype.send_message = function(type, properties) {\n",
       "    properties['type'] = type;\n",
       "    properties['figure_id'] = this.id;\n",
       "    this.ws.send(JSON.stringify(properties));\n",
       "}\n",
       "\n",
       "mpl.figure.prototype.send_draw_message = function() {\n",
       "    if (!this.waiting) {\n",
       "        this.waiting = true;\n",
       "        this.ws.send(JSON.stringify({type: \"draw\", figure_id: this.id}));\n",
       "    }\n",
       "}\n",
       "\n",
       "\n",
       "mpl.figure.prototype.handle_save = function(fig, msg) {\n",
       "    var format_dropdown = fig.format_dropdown;\n",
       "    var format = format_dropdown.options[format_dropdown.selectedIndex].value;\n",
       "    fig.ondownload(fig, format);\n",
       "}\n",
       "\n",
       "\n",
       "mpl.figure.prototype.handle_resize = function(fig, msg) {\n",
       "    var size = msg['size'];\n",
       "    if (size[0] != fig.canvas.width || size[1] != fig.canvas.height) {\n",
       "        fig._resize_canvas(size[0], size[1]);\n",
       "        fig.send_message(\"refresh\", {});\n",
       "    };\n",
       "}\n",
       "\n",
       "mpl.figure.prototype.handle_rubberband = function(fig, msg) {\n",
       "    var x0 = msg['x0'] / mpl.ratio;\n",
       "    var y0 = (fig.canvas.height - msg['y0']) / mpl.ratio;\n",
       "    var x1 = msg['x1'] / mpl.ratio;\n",
       "    var y1 = (fig.canvas.height - msg['y1']) / mpl.ratio;\n",
       "    x0 = Math.floor(x0) + 0.5;\n",
       "    y0 = Math.floor(y0) + 0.5;\n",
       "    x1 = Math.floor(x1) + 0.5;\n",
       "    y1 = Math.floor(y1) + 0.5;\n",
       "    var min_x = Math.min(x0, x1);\n",
       "    var min_y = Math.min(y0, y1);\n",
       "    var width = Math.abs(x1 - x0);\n",
       "    var height = Math.abs(y1 - y0);\n",
       "\n",
       "    fig.rubberband_context.clearRect(\n",
       "        0, 0, fig.canvas.width, fig.canvas.height);\n",
       "\n",
       "    fig.rubberband_context.strokeRect(min_x, min_y, width, height);\n",
       "}\n",
       "\n",
       "mpl.figure.prototype.handle_figure_label = function(fig, msg) {\n",
       "    // Updates the figure title.\n",
       "    fig.header.textContent = msg['label'];\n",
       "}\n",
       "\n",
       "mpl.figure.prototype.handle_cursor = function(fig, msg) {\n",
       "    var cursor = msg['cursor'];\n",
       "    switch(cursor)\n",
       "    {\n",
       "    case 0:\n",
       "        cursor = 'pointer';\n",
       "        break;\n",
       "    case 1:\n",
       "        cursor = 'default';\n",
       "        break;\n",
       "    case 2:\n",
       "        cursor = 'crosshair';\n",
       "        break;\n",
       "    case 3:\n",
       "        cursor = 'move';\n",
       "        break;\n",
       "    }\n",
       "    fig.rubberband_canvas.style.cursor = cursor;\n",
       "}\n",
       "\n",
       "mpl.figure.prototype.handle_message = function(fig, msg) {\n",
       "    fig.message.textContent = msg['message'];\n",
       "}\n",
       "\n",
       "mpl.figure.prototype.handle_draw = function(fig, msg) {\n",
       "    // Request the server to send over a new figure.\n",
       "    fig.send_draw_message();\n",
       "}\n",
       "\n",
       "mpl.figure.prototype.handle_image_mode = function(fig, msg) {\n",
       "    fig.image_mode = msg['mode'];\n",
       "}\n",
       "\n",
       "mpl.figure.prototype.updated_canvas_event = function() {\n",
       "    // Called whenever the canvas gets updated.\n",
       "    this.send_message(\"ack\", {});\n",
       "}\n",
       "\n",
       "// A function to construct a web socket function for onmessage handling.\n",
       "// Called in the figure constructor.\n",
       "mpl.figure.prototype._make_on_message_function = function(fig) {\n",
       "    return function socket_on_message(evt) {\n",
       "        if (evt.data instanceof Blob) {\n",
       "            /* FIXME: We get \"Resource interpreted as Image but\n",
       "             * transferred with MIME type text/plain:\" errors on\n",
       "             * Chrome.  But how to set the MIME type?  It doesn't seem\n",
       "             * to be part of the websocket stream */\n",
       "            evt.data.type = \"image/png\";\n",
       "\n",
       "            /* Free the memory for the previous frames */\n",
       "            if (fig.imageObj.src) {\n",
       "                (window.URL || window.webkitURL).revokeObjectURL(\n",
       "                    fig.imageObj.src);\n",
       "            }\n",
       "\n",
       "            fig.imageObj.src = (window.URL || window.webkitURL).createObjectURL(\n",
       "                evt.data);\n",
       "            fig.updated_canvas_event();\n",
       "            fig.waiting = false;\n",
       "            return;\n",
       "        }\n",
       "        else if (typeof evt.data === 'string' && evt.data.slice(0, 21) == \"data:image/png;base64\") {\n",
       "            fig.imageObj.src = evt.data;\n",
       "            fig.updated_canvas_event();\n",
       "            fig.waiting = false;\n",
       "            return;\n",
       "        }\n",
       "\n",
       "        var msg = JSON.parse(evt.data);\n",
       "        var msg_type = msg['type'];\n",
       "\n",
       "        // Call the  \"handle_{type}\" callback, which takes\n",
       "        // the figure and JSON message as its only arguments.\n",
       "        try {\n",
       "            var callback = fig[\"handle_\" + msg_type];\n",
       "        } catch (e) {\n",
       "            console.log(\"No handler for the '\" + msg_type + \"' message type: \", msg);\n",
       "            return;\n",
       "        }\n",
       "\n",
       "        if (callback) {\n",
       "            try {\n",
       "                // console.log(\"Handling '\" + msg_type + \"' message: \", msg);\n",
       "                callback(fig, msg);\n",
       "            } catch (e) {\n",
       "                console.log(\"Exception inside the 'handler_\" + msg_type + \"' callback:\", e, e.stack, msg);\n",
       "            }\n",
       "        }\n",
       "    };\n",
       "}\n",
       "\n",
       "// from http://stackoverflow.com/questions/1114465/getting-mouse-location-in-canvas\n",
       "mpl.findpos = function(e) {\n",
       "    //this section is from http://www.quirksmode.org/js/events_properties.html\n",
       "    var targ;\n",
       "    if (!e)\n",
       "        e = window.event;\n",
       "    if (e.target)\n",
       "        targ = e.target;\n",
       "    else if (e.srcElement)\n",
       "        targ = e.srcElement;\n",
       "    if (targ.nodeType == 3) // defeat Safari bug\n",
       "        targ = targ.parentNode;\n",
       "\n",
       "    // jQuery normalizes the pageX and pageY\n",
       "    // pageX,Y are the mouse positions relative to the document\n",
       "    // offset() returns the position of the element relative to the document\n",
       "    var x = e.pageX - $(targ).offset().left;\n",
       "    var y = e.pageY - $(targ).offset().top;\n",
       "\n",
       "    return {\"x\": x, \"y\": y};\n",
       "};\n",
       "\n",
       "/*\n",
       " * return a copy of an object with only non-object keys\n",
       " * we need this to avoid circular references\n",
       " * http://stackoverflow.com/a/24161582/3208463\n",
       " */\n",
       "function simpleKeys (original) {\n",
       "  return Object.keys(original).reduce(function (obj, key) {\n",
       "    if (typeof original[key] !== 'object')\n",
       "        obj[key] = original[key]\n",
       "    return obj;\n",
       "  }, {});\n",
       "}\n",
       "\n",
       "mpl.figure.prototype.mouse_event = function(event, name) {\n",
       "    var canvas_pos = mpl.findpos(event)\n",
       "\n",
       "    if (name === 'button_press')\n",
       "    {\n",
       "        this.canvas.focus();\n",
       "        this.canvas_div.focus();\n",
       "    }\n",
       "\n",
       "    var x = canvas_pos.x * mpl.ratio;\n",
       "    var y = canvas_pos.y * mpl.ratio;\n",
       "\n",
       "    this.send_message(name, {x: x, y: y, button: event.button,\n",
       "                             step: event.step,\n",
       "                             guiEvent: simpleKeys(event)});\n",
       "\n",
       "    /* This prevents the web browser from automatically changing to\n",
       "     * the text insertion cursor when the button is pressed.  We want\n",
       "     * to control all of the cursor setting manually through the\n",
       "     * 'cursor' event from matplotlib */\n",
       "    event.preventDefault();\n",
       "    return false;\n",
       "}\n",
       "\n",
       "mpl.figure.prototype._key_event_extra = function(event, name) {\n",
       "    // Handle any extra behaviour associated with a key event\n",
       "}\n",
       "\n",
       "mpl.figure.prototype.key_event = function(event, name) {\n",
       "\n",
       "    // Prevent repeat events\n",
       "    if (name == 'key_press')\n",
       "    {\n",
       "        if (event.which === this._key)\n",
       "            return;\n",
       "        else\n",
       "            this._key = event.which;\n",
       "    }\n",
       "    if (name == 'key_release')\n",
       "        this._key = null;\n",
       "\n",
       "    var value = '';\n",
       "    if (event.ctrlKey && event.which != 17)\n",
       "        value += \"ctrl+\";\n",
       "    if (event.altKey && event.which != 18)\n",
       "        value += \"alt+\";\n",
       "    if (event.shiftKey && event.which != 16)\n",
       "        value += \"shift+\";\n",
       "\n",
       "    value += 'k';\n",
       "    value += event.which.toString();\n",
       "\n",
       "    this._key_event_extra(event, name);\n",
       "\n",
       "    this.send_message(name, {key: value,\n",
       "                             guiEvent: simpleKeys(event)});\n",
       "    return false;\n",
       "}\n",
       "\n",
       "mpl.figure.prototype.toolbar_button_onclick = function(name) {\n",
       "    if (name == 'download') {\n",
       "        this.handle_save(this, null);\n",
       "    } else {\n",
       "        this.send_message(\"toolbar_button\", {name: name});\n",
       "    }\n",
       "};\n",
       "\n",
       "mpl.figure.prototype.toolbar_button_onmouseover = function(tooltip) {\n",
       "    this.message.textContent = tooltip;\n",
       "};\n",
       "mpl.toolbar_items = [[\"Home\", \"Reset original view\", \"fa fa-home icon-home\", \"home\"], [\"Back\", \"Back to  previous view\", \"fa fa-arrow-left icon-arrow-left\", \"back\"], [\"Forward\", \"Forward to next view\", \"fa fa-arrow-right icon-arrow-right\", \"forward\"], [\"\", \"\", \"\", \"\"], [\"Pan\", \"Pan axes with left mouse, zoom with right\", \"fa fa-arrows icon-move\", \"pan\"], [\"Zoom\", \"Zoom to rectangle\", \"fa fa-square-o icon-check-empty\", \"zoom\"], [\"\", \"\", \"\", \"\"], [\"Download\", \"Download plot\", \"fa fa-floppy-o icon-save\", \"download\"]];\n",
       "\n",
       "mpl.extensions = [\"eps\", \"jpeg\", \"pdf\", \"png\", \"ps\", \"raw\", \"svg\", \"tif\"];\n",
       "\n",
       "mpl.default_extension = \"png\";var comm_websocket_adapter = function(comm) {\n",
       "    // Create a \"websocket\"-like object which calls the given IPython comm\n",
       "    // object with the appropriate methods. Currently this is a non binary\n",
       "    // socket, so there is still some room for performance tuning.\n",
       "    var ws = {};\n",
       "\n",
       "    ws.close = function() {\n",
       "        comm.close()\n",
       "    };\n",
       "    ws.send = function(m) {\n",
       "        //console.log('sending', m);\n",
       "        comm.send(m);\n",
       "    };\n",
       "    // Register the callback with on_msg.\n",
       "    comm.on_msg(function(msg) {\n",
       "        //console.log('receiving', msg['content']['data'], msg);\n",
       "        // Pass the mpl event to the overriden (by mpl) onmessage function.\n",
       "        ws.onmessage(msg['content']['data'])\n",
       "    });\n",
       "    return ws;\n",
       "}\n",
       "\n",
       "mpl.mpl_figure_comm = function(comm, msg) {\n",
       "    // This is the function which gets called when the mpl process\n",
       "    // starts-up an IPython Comm through the \"matplotlib\" channel.\n",
       "\n",
       "    var id = msg.content.data.id;\n",
       "    // Get hold of the div created by the display call when the Comm\n",
       "    // socket was opened in Python.\n",
       "    var element = $(\"#\" + id);\n",
       "    var ws_proxy = comm_websocket_adapter(comm)\n",
       "\n",
       "    function ondownload(figure, format) {\n",
       "        window.open(figure.imageObj.src);\n",
       "    }\n",
       "\n",
       "    var fig = new mpl.figure(id, ws_proxy,\n",
       "                           ondownload,\n",
       "                           element.get(0));\n",
       "\n",
       "    // Call onopen now - mpl needs it, as it is assuming we've passed it a real\n",
       "    // web socket which is closed, not our websocket->open comm proxy.\n",
       "    ws_proxy.onopen();\n",
       "\n",
       "    fig.parent_element = element.get(0);\n",
       "    fig.cell_info = mpl.find_output_cell(\"<div id='\" + id + \"'></div>\");\n",
       "    if (!fig.cell_info) {\n",
       "        console.error(\"Failed to find cell for figure\", id, fig);\n",
       "        return;\n",
       "    }\n",
       "\n",
       "    var output_index = fig.cell_info[2]\n",
       "    var cell = fig.cell_info[0];\n",
       "\n",
       "};\n",
       "\n",
       "mpl.figure.prototype.handle_close = function(fig, msg) {\n",
       "    var width = fig.canvas.width/mpl.ratio\n",
       "    fig.root.unbind('remove')\n",
       "\n",
       "    // Update the output cell to use the data from the current canvas.\n",
       "    fig.push_to_output();\n",
       "    var dataURL = fig.canvas.toDataURL();\n",
       "    // Re-enable the keyboard manager in IPython - without this line, in FF,\n",
       "    // the notebook keyboard shortcuts fail.\n",
       "    IPython.keyboard_manager.enable()\n",
       "    $(fig.parent_element).html('<img src=\"' + dataURL + '\" width=\"' + width + '\">');\n",
       "    fig.close_ws(fig, msg);\n",
       "}\n",
       "\n",
       "mpl.figure.prototype.close_ws = function(fig, msg){\n",
       "    fig.send_message('closing', msg);\n",
       "    // fig.ws.close()\n",
       "}\n",
       "\n",
       "mpl.figure.prototype.push_to_output = function(remove_interactive) {\n",
       "    // Turn the data on the canvas into data in the output cell.\n",
       "    var width = this.canvas.width/mpl.ratio\n",
       "    var dataURL = this.canvas.toDataURL();\n",
       "    this.cell_info[1]['text/html'] = '<img src=\"' + dataURL + '\" width=\"' + width + '\">';\n",
       "}\n",
       "\n",
       "mpl.figure.prototype.updated_canvas_event = function() {\n",
       "    // Tell IPython that the notebook contents must change.\n",
       "    IPython.notebook.set_dirty(true);\n",
       "    this.send_message(\"ack\", {});\n",
       "    var fig = this;\n",
       "    // Wait a second, then push the new image to the DOM so\n",
       "    // that it is saved nicely (might be nice to debounce this).\n",
       "    setTimeout(function () { fig.push_to_output() }, 1000);\n",
       "}\n",
       "\n",
       "mpl.figure.prototype._init_toolbar = function() {\n",
       "    var fig = this;\n",
       "\n",
       "    var nav_element = $('<div/>')\n",
       "    nav_element.attr('style', 'width: 100%');\n",
       "    this.root.append(nav_element);\n",
       "\n",
       "    // Define a callback function for later on.\n",
       "    function toolbar_event(event) {\n",
       "        return fig.toolbar_button_onclick(event['data']);\n",
       "    }\n",
       "    function toolbar_mouse_event(event) {\n",
       "        return fig.toolbar_button_onmouseover(event['data']);\n",
       "    }\n",
       "\n",
       "    for(var toolbar_ind in mpl.toolbar_items){\n",
       "        var name = mpl.toolbar_items[toolbar_ind][0];\n",
       "        var tooltip = mpl.toolbar_items[toolbar_ind][1];\n",
       "        var image = mpl.toolbar_items[toolbar_ind][2];\n",
       "        var method_name = mpl.toolbar_items[toolbar_ind][3];\n",
       "\n",
       "        if (!name) { continue; };\n",
       "\n",
       "        var button = $('<button class=\"btn btn-default\" href=\"#\" title=\"' + name + '\"><i class=\"fa ' + image + ' fa-lg\"></i></button>');\n",
       "        button.click(method_name, toolbar_event);\n",
       "        button.mouseover(tooltip, toolbar_mouse_event);\n",
       "        nav_element.append(button);\n",
       "    }\n",
       "\n",
       "    // Add the status bar.\n",
       "    var status_bar = $('<span class=\"mpl-message\" style=\"text-align:right; float: right;\"/>');\n",
       "    nav_element.append(status_bar);\n",
       "    this.message = status_bar[0];\n",
       "\n",
       "    // Add the close button to the window.\n",
       "    var buttongrp = $('<div class=\"btn-group inline pull-right\"></div>');\n",
       "    var button = $('<button class=\"btn btn-mini btn-primary\" href=\"#\" title=\"Stop Interaction\"><i class=\"fa fa-power-off icon-remove icon-large\"></i></button>');\n",
       "    button.click(function (evt) { fig.handle_close(fig, {}); } );\n",
       "    button.mouseover('Stop Interaction', toolbar_mouse_event);\n",
       "    buttongrp.append(button);\n",
       "    var titlebar = this.root.find($('.ui-dialog-titlebar'));\n",
       "    titlebar.prepend(buttongrp);\n",
       "}\n",
       "\n",
       "mpl.figure.prototype._root_extra_style = function(el){\n",
       "    var fig = this\n",
       "    el.on(\"remove\", function(){\n",
       "\tfig.close_ws(fig, {});\n",
       "    });\n",
       "}\n",
       "\n",
       "mpl.figure.prototype._canvas_extra_style = function(el){\n",
       "    // this is important to make the div 'focusable\n",
       "    el.attr('tabindex', 0)\n",
       "    // reach out to IPython and tell the keyboard manager to turn it's self\n",
       "    // off when our div gets focus\n",
       "\n",
       "    // location in version 3\n",
       "    if (IPython.notebook.keyboard_manager) {\n",
       "        IPython.notebook.keyboard_manager.register_events(el);\n",
       "    }\n",
       "    else {\n",
       "        // location in version 2\n",
       "        IPython.keyboard_manager.register_events(el);\n",
       "    }\n",
       "\n",
       "}\n",
       "\n",
       "mpl.figure.prototype._key_event_extra = function(event, name) {\n",
       "    var manager = IPython.notebook.keyboard_manager;\n",
       "    if (!manager)\n",
       "        manager = IPython.keyboard_manager;\n",
       "\n",
       "    // Check for shift+enter\n",
       "    if (event.shiftKey && event.which == 13) {\n",
       "        this.canvas_div.blur();\n",
       "        // select the cell after this one\n",
       "        var index = IPython.notebook.find_cell_index(this.cell_info[0]);\n",
       "        IPython.notebook.select(index + 1);\n",
       "    }\n",
       "}\n",
       "\n",
       "mpl.figure.prototype.handle_save = function(fig, msg) {\n",
       "    fig.ondownload(fig, null);\n",
       "}\n",
       "\n",
       "\n",
       "mpl.find_output_cell = function(html_output) {\n",
       "    // Return the cell and output element which can be found *uniquely* in the notebook.\n",
       "    // Note - this is a bit hacky, but it is done because the \"notebook_saving.Notebook\"\n",
       "    // IPython event is triggered only after the cells have been serialised, which for\n",
       "    // our purposes (turning an active figure into a static one), is too late.\n",
       "    var cells = IPython.notebook.get_cells();\n",
       "    var ncells = cells.length;\n",
       "    for (var i=0; i<ncells; i++) {\n",
       "        var cell = cells[i];\n",
       "        if (cell.cell_type === 'code'){\n",
       "            for (var j=0; j<cell.output_area.outputs.length; j++) {\n",
       "                var data = cell.output_area.outputs[j];\n",
       "                if (data.data) {\n",
       "                    // IPython >= 3 moved mimebundle to data attribute of output\n",
       "                    data = data.data;\n",
       "                }\n",
       "                if (data['text/html'] == html_output) {\n",
       "                    return [cell, data, j];\n",
       "                }\n",
       "            }\n",
       "        }\n",
       "    }\n",
       "}\n",
       "\n",
       "// Register the function which deals with the matplotlib target/channel.\n",
       "// The kernel may be null if the page has been refreshed.\n",
       "if (IPython.notebook.kernel != null) {\n",
       "    IPython.notebook.kernel.comm_manager.register_target('matplotlib', mpl.mpl_figure_comm);\n",
       "}\n"
      ],
      "text/plain": [
       "<IPython.core.display.Javascript object>"
      ]
     },
     "metadata": {},
     "output_type": "display_data"
    },
    {
     "data": {
      "text/html": [
       "<img src=\"data:image/png;base64,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\" width=\"600\">"
      ],
      "text/plain": [
       "<IPython.core.display.HTML object>"
      ]
     },
     "metadata": {},
     "output_type": "display_data"
    },
    {
     "data": {
      "text/plain": [
       "[<matplotlib.lines.Line2D at 0x7fd101330b50>]"
      ]
     },
     "execution_count": 13,
     "metadata": {},
     "output_type": "execute_result"
    }
   ],
   "source": [
    "iqe2 = iqe.copy()\n",
    "I = iqe2.I; I[I!=I] = 0 # remove NaNs\n",
    "IE = iqe2.sum('Q')  # sum over Q\n",
    "plt.figure(figsize=(6,4))\n",
    "plt.plot(IE.E, IE.I)"
   ]
  },
  {
   "cell_type": "markdown",
   "metadata": {},
   "source": [
    "The plots above provide clues to selecting parameters for the getdos procedure"
   ]
  },
  {
   "cell_type": "markdown",
   "metadata": {},
   "source": [
    "Save configuration so you can reuse it"
   ]
  },
  {
   "cell_type": "code",
   "execution_count": 14,
   "metadata": {
    "collapsed": true
   },
   "outputs": [],
   "source": [
    "context.to_yaml('./getdos2-context.yaml')"
   ]
  },
  {
   "cell_type": "markdown",
   "metadata": {},
   "source": [
    "## Run GetDOS\n",
    "\n",
    "DOS will be obtained from SQE by an iterative procedure where multiphonon and multiple scattering corrections are applied to the measured SQE spectrum, assuming\n",
    "incoherent approximation, and the corrected spectrum\n",
    "is then converted to DOS.\n",
    "\n",
    "An example DOS plot:\n",
    "<img width=\"300\" src=\"Al-DOS.png\"/>"
   ]
  },
  {
   "cell_type": "code",
   "execution_count": 21,
   "metadata": {
    "scrolled": true
   },
   "outputs": [
    {
     "data": {
      "application/vnd.jupyter.widget-view+json": {
       "model_id": "5589ef7f5d804f78b5f12bbda662d2eb"
      }
     },
     "metadata": {},
     "output_type": "display_data"
    },
    {
     "data": {
      "application/vnd.jupyter.widget-view+json": {
       "model_id": "1a62ee5fd5af4fc793c2aaa6f7d6d142"
      }
     },
     "metadata": {},
     "output_type": "display_data"
    },
    {
     "data": {
      "application/vnd.jupyter.widget-view+json": {
       "model_id": "111a4e99937a4b15b4a2cf8c19101768"
      }
     },
     "metadata": {},
     "output_type": "display_data"
    },
    {
     "data": {
      "application/vnd.jupyter.widget-view+json": {
       "model_id": "074b4a8488aa49eb838e97c3b86af3c0"
      }
     },
     "metadata": {},
     "output_type": "display_data"
    },
    {
     "data": {
      "application/vnd.jupyter.widget-view+json": {
       "model_id": "b49b1b763b0a4cd1958ff0bb5ef1e43b"
      }
     },
     "metadata": {},
     "output_type": "display_data"
    },
    {
     "name": "stderr",
     "output_type": "stream",
     "text": [
      "/home/fi0/anaconda2/lib/python2.7/site-packages/multiphonon-0.1.1-py2.7.egg/multiphonon/backward/singlephonon_sqe2dos.py:125: UserWarning: Scaling factor to combine DOSes calculated is not stable: 0.000307368051557 (using continuous criteria) vs 0.000327777325469 (using area criteria)\n",
      "You may want to consider adjusting the parameters such as E range (Emax more specifically)\n"
     ]
    }
   ],
   "source": [
    "GetDOSWizStart(context).show()"
   ]
  },
  {
   "cell_type": "markdown",
   "metadata": {},
   "source": [
    "Save context"
   ]
  },
  {
   "cell_type": "code",
   "execution_count": 22,
   "metadata": {
    "collapsed": true
   },
   "outputs": [],
   "source": [
    "context.to_yaml('./getdos2-context.yaml')"
   ]
  },
  {
   "cell_type": "markdown",
   "metadata": {},
   "source": [
    "Print context"
   ]
  },
  {
   "cell_type": "code",
   "execution_count": 23,
   "metadata": {},
   "outputs": [
    {
     "name": "stdout",
     "output_type": "stream",
     "text": [
      "ElasticPeakMax=8.0\n",
      "update_strategy_weights=(0.5, 0.5)\n",
      "initdos=/home/fi0/dev/figures_for_paper/final-dos_300.h5\n",
      "mt_nxs=/SNS/ARCS/IPTS-15398/shared/mantidred/MT/MT_130p00.nxspe\n",
      "Qmin=0.0\n",
      "maxiter=10\n",
      "const_bg_fraction=0.0\n",
      "sample_nxs=/SNS/ARCS/IPTS-15398/shared/mantidred/non-radC/non-radC_130p00.nxspe\n",
      "workdir=work\n",
      "Emin=-130.0\n",
      "Eaxis=(-130.0, 130.5, 1.0)\n",
      "M=12.0\n",
      "Qmax=24.0\n",
      "mtiqe_h5=/home/fi0/dev/figures_for_paper/130_spacings2/130_spacings1/work/mt-iqe.h5\n",
      "iqe_h5=/home/fi0/dev/figures_for_paper/130_spacings2/130_spacings1/work/iqe.h5\n",
      "Ecutoff=100.0\n",
      "Ei=130.0\n",
      "T=300.0\n",
      "Emax=130.0\n",
      "dE=1.0\n",
      "ElasticPeakMin=-13.0\n",
      "mt_fraction=0.9\n",
      "C_ms=0.1\n",
      "Qaxis=(0.0, 24.1, 0.2)\n",
      "dQ=0.2\n"
     ]
    }
   ],
   "source": [
    "print context"
   ]
  },
  {
   "cell_type": "markdown",
   "metadata": {},
   "source": [
    "## Check output"
   ]
  },
  {
   "cell_type": "markdown",
   "metadata": {},
   "source": [
    "Results are saved in \"work\" directory"
   ]
  },
  {
   "cell_type": "code",
   "execution_count": 24,
   "metadata": {},
   "outputs": [
    {
     "name": "stdout",
     "output_type": "stream",
     "text": [
      "\u001b[0m\u001b[01;34mdirdydos\u001b[0m/          iqe.h5.bkup-wrongEaxis     \u001b[01;32mplot_dos_iteration.py\u001b[0m*  \u001b[01;34mround-0\u001b[0m/\r\n",
      "final-dos.h5       iqe.nxs                    \u001b[01;32mplot_residual.py\u001b[0m*       \u001b[01;34mround-1\u001b[0m/\r\n",
      "getdos-kargs.yaml  mt-iqe.h5                  raw2iqe-MT.params       \u001b[01;34mround-2\u001b[0m/\r\n",
      "I_E-exp-posE.h5    mt-iqe.h5.bkup-wrongEaxis  raw2iqe-sample.params\r\n",
      "iqe.h5             mt-iqe.nxs                 residual_E-posE.h5\r\n"
     ]
    }
   ],
   "source": [
    "ls work/"
   ]
  },
  {
   "cell_type": "markdown",
   "metadata": {},
   "source": [
    "Plot the final result for DOS"
   ]
  },
  {
   "cell_type": "code",
   "execution_count": 25,
   "metadata": {},
   "outputs": [
    {
     "data": {
      "application/javascript": [
       "/* Put everything inside the global mpl namespace */\n",
       "window.mpl = {};\n",
       "\n",
       "\n",
       "mpl.get_websocket_type = function() {\n",
       "    if (typeof(WebSocket) !== 'undefined') {\n",
       "        return WebSocket;\n",
       "    } else if (typeof(MozWebSocket) !== 'undefined') {\n",
       "        return MozWebSocket;\n",
       "    } else {\n",
       "        alert('Your browser does not have WebSocket support.' +\n",
       "              'Please try Chrome, Safari or Firefox ≥ 6. ' +\n",
       "              'Firefox 4 and 5 are also supported but you ' +\n",
       "              'have to enable WebSockets in about:config.');\n",
       "    };\n",
       "}\n",
       "\n",
       "mpl.figure = function(figure_id, websocket, ondownload, parent_element) {\n",
       "    this.id = figure_id;\n",
       "\n",
       "    this.ws = websocket;\n",
       "\n",
       "    this.supports_binary = (this.ws.binaryType != undefined);\n",
       "\n",
       "    if (!this.supports_binary) {\n",
       "        var warnings = document.getElementById(\"mpl-warnings\");\n",
       "        if (warnings) {\n",
       "            warnings.style.display = 'block';\n",
       "            warnings.textContent = (\n",
       "                \"This browser does not support binary websocket messages. \" +\n",
       "                    \"Performance may be slow.\");\n",
       "        }\n",
       "    }\n",
       "\n",
       "    this.imageObj = new Image();\n",
       "\n",
       "    this.context = undefined;\n",
       "    this.message = undefined;\n",
       "    this.canvas = undefined;\n",
       "    this.rubberband_canvas = undefined;\n",
       "    this.rubberband_context = undefined;\n",
       "    this.format_dropdown = undefined;\n",
       "\n",
       "    this.image_mode = 'full';\n",
       "\n",
       "    this.root = $('<div/>');\n",
       "    this._root_extra_style(this.root)\n",
       "    this.root.attr('style', 'display: inline-block');\n",
       "\n",
       "    $(parent_element).append(this.root);\n",
       "\n",
       "    this._init_header(this);\n",
       "    this._init_canvas(this);\n",
       "    this._init_toolbar(this);\n",
       "\n",
       "    var fig = this;\n",
       "\n",
       "    this.waiting = false;\n",
       "\n",
       "    this.ws.onopen =  function () {\n",
       "            fig.send_message(\"supports_binary\", {value: fig.supports_binary});\n",
       "            fig.send_message(\"send_image_mode\", {});\n",
       "            if (mpl.ratio != 1) {\n",
       "                fig.send_message(\"set_dpi_ratio\", {'dpi_ratio': mpl.ratio});\n",
       "            }\n",
       "            fig.send_message(\"refresh\", {});\n",
       "        }\n",
       "\n",
       "    this.imageObj.onload = function() {\n",
       "            if (fig.image_mode == 'full') {\n",
       "                // Full images could contain transparency (where diff images\n",
       "                // almost always do), so we need to clear the canvas so that\n",
       "                // there is no ghosting.\n",
       "                fig.context.clearRect(0, 0, fig.canvas.width, fig.canvas.height);\n",
       "            }\n",
       "            fig.context.drawImage(fig.imageObj, 0, 0);\n",
       "        };\n",
       "\n",
       "    this.imageObj.onunload = function() {\n",
       "        this.ws.close();\n",
       "    }\n",
       "\n",
       "    this.ws.onmessage = this._make_on_message_function(this);\n",
       "\n",
       "    this.ondownload = ondownload;\n",
       "}\n",
       "\n",
       "mpl.figure.prototype._init_header = function() {\n",
       "    var titlebar = $(\n",
       "        '<div class=\"ui-dialog-titlebar ui-widget-header ui-corner-all ' +\n",
       "        'ui-helper-clearfix\"/>');\n",
       "    var titletext = $(\n",
       "        '<div class=\"ui-dialog-title\" style=\"width: 100%; ' +\n",
       "        'text-align: center; padding: 3px;\"/>');\n",
       "    titlebar.append(titletext)\n",
       "    this.root.append(titlebar);\n",
       "    this.header = titletext[0];\n",
       "}\n",
       "\n",
       "\n",
       "\n",
       "mpl.figure.prototype._canvas_extra_style = function(canvas_div) {\n",
       "\n",
       "}\n",
       "\n",
       "\n",
       "mpl.figure.prototype._root_extra_style = function(canvas_div) {\n",
       "\n",
       "}\n",
       "\n",
       "mpl.figure.prototype._init_canvas = function() {\n",
       "    var fig = this;\n",
       "\n",
       "    var canvas_div = $('<div/>');\n",
       "\n",
       "    canvas_div.attr('style', 'position: relative; clear: both; outline: 0');\n",
       "\n",
       "    function canvas_keyboard_event(event) {\n",
       "        return fig.key_event(event, event['data']);\n",
       "    }\n",
       "\n",
       "    canvas_div.keydown('key_press', canvas_keyboard_event);\n",
       "    canvas_div.keyup('key_release', canvas_keyboard_event);\n",
       "    this.canvas_div = canvas_div\n",
       "    this._canvas_extra_style(canvas_div)\n",
       "    this.root.append(canvas_div);\n",
       "\n",
       "    var canvas = $('<canvas/>');\n",
       "    canvas.addClass('mpl-canvas');\n",
       "    canvas.attr('style', \"left: 0; top: 0; z-index: 0; outline: 0\")\n",
       "\n",
       "    this.canvas = canvas[0];\n",
       "    this.context = canvas[0].getContext(\"2d\");\n",
       "\n",
       "    var backingStore = this.context.backingStorePixelRatio ||\n",
       "\tthis.context.webkitBackingStorePixelRatio ||\n",
       "\tthis.context.mozBackingStorePixelRatio ||\n",
       "\tthis.context.msBackingStorePixelRatio ||\n",
       "\tthis.context.oBackingStorePixelRatio ||\n",
       "\tthis.context.backingStorePixelRatio || 1;\n",
       "\n",
       "    mpl.ratio = (window.devicePixelRatio || 1) / backingStore;\n",
       "\n",
       "    var rubberband = $('<canvas/>');\n",
       "    rubberband.attr('style', \"position: absolute; left: 0; top: 0; z-index: 1;\")\n",
       "\n",
       "    var pass_mouse_events = true;\n",
       "\n",
       "    canvas_div.resizable({\n",
       "        start: function(event, ui) {\n",
       "            pass_mouse_events = false;\n",
       "        },\n",
       "        resize: function(event, ui) {\n",
       "            fig.request_resize(ui.size.width, ui.size.height);\n",
       "        },\n",
       "        stop: function(event, ui) {\n",
       "            pass_mouse_events = true;\n",
       "            fig.request_resize(ui.size.width, ui.size.height);\n",
       "        },\n",
       "    });\n",
       "\n",
       "    function mouse_event_fn(event) {\n",
       "        if (pass_mouse_events)\n",
       "            return fig.mouse_event(event, event['data']);\n",
       "    }\n",
       "\n",
       "    rubberband.mousedown('button_press', mouse_event_fn);\n",
       "    rubberband.mouseup('button_release', mouse_event_fn);\n",
       "    // Throttle sequential mouse events to 1 every 20ms.\n",
       "    rubberband.mousemove('motion_notify', mouse_event_fn);\n",
       "\n",
       "    rubberband.mouseenter('figure_enter', mouse_event_fn);\n",
       "    rubberband.mouseleave('figure_leave', mouse_event_fn);\n",
       "\n",
       "    canvas_div.on(\"wheel\", function (event) {\n",
       "        event = event.originalEvent;\n",
       "        event['data'] = 'scroll'\n",
       "        if (event.deltaY < 0) {\n",
       "            event.step = 1;\n",
       "        } else {\n",
       "            event.step = -1;\n",
       "        }\n",
       "        mouse_event_fn(event);\n",
       "    });\n",
       "\n",
       "    canvas_div.append(canvas);\n",
       "    canvas_div.append(rubberband);\n",
       "\n",
       "    this.rubberband = rubberband;\n",
       "    this.rubberband_canvas = rubberband[0];\n",
       "    this.rubberband_context = rubberband[0].getContext(\"2d\");\n",
       "    this.rubberband_context.strokeStyle = \"#000000\";\n",
       "\n",
       "    this._resize_canvas = function(width, height) {\n",
       "        // Keep the size of the canvas, canvas container, and rubber band\n",
       "        // canvas in synch.\n",
       "        canvas_div.css('width', width)\n",
       "        canvas_div.css('height', height)\n",
       "\n",
       "        canvas.attr('width', width * mpl.ratio);\n",
       "        canvas.attr('height', height * mpl.ratio);\n",
       "        canvas.attr('style', 'width: ' + width + 'px; height: ' + height + 'px;');\n",
       "\n",
       "        rubberband.attr('width', width);\n",
       "        rubberband.attr('height', height);\n",
       "    }\n",
       "\n",
       "    // Set the figure to an initial 600x600px, this will subsequently be updated\n",
       "    // upon first draw.\n",
       "    this._resize_canvas(600, 600);\n",
       "\n",
       "    // Disable right mouse context menu.\n",
       "    $(this.rubberband_canvas).bind(\"contextmenu\",function(e){\n",
       "        return false;\n",
       "    });\n",
       "\n",
       "    function set_focus () {\n",
       "        canvas.focus();\n",
       "        canvas_div.focus();\n",
       "    }\n",
       "\n",
       "    window.setTimeout(set_focus, 100);\n",
       "}\n",
       "\n",
       "mpl.figure.prototype._init_toolbar = function() {\n",
       "    var fig = this;\n",
       "\n",
       "    var nav_element = $('<div/>')\n",
       "    nav_element.attr('style', 'width: 100%');\n",
       "    this.root.append(nav_element);\n",
       "\n",
       "    // Define a callback function for later on.\n",
       "    function toolbar_event(event) {\n",
       "        return fig.toolbar_button_onclick(event['data']);\n",
       "    }\n",
       "    function toolbar_mouse_event(event) {\n",
       "        return fig.toolbar_button_onmouseover(event['data']);\n",
       "    }\n",
       "\n",
       "    for(var toolbar_ind in mpl.toolbar_items) {\n",
       "        var name = mpl.toolbar_items[toolbar_ind][0];\n",
       "        var tooltip = mpl.toolbar_items[toolbar_ind][1];\n",
       "        var image = mpl.toolbar_items[toolbar_ind][2];\n",
       "        var method_name = mpl.toolbar_items[toolbar_ind][3];\n",
       "\n",
       "        if (!name) {\n",
       "            // put a spacer in here.\n",
       "            continue;\n",
       "        }\n",
       "        var button = $('<button/>');\n",
       "        button.addClass('ui-button ui-widget ui-state-default ui-corner-all ' +\n",
       "                        'ui-button-icon-only');\n",
       "        button.attr('role', 'button');\n",
       "        button.attr('aria-disabled', 'false');\n",
       "        button.click(method_name, toolbar_event);\n",
       "        button.mouseover(tooltip, toolbar_mouse_event);\n",
       "\n",
       "        var icon_img = $('<span/>');\n",
       "        icon_img.addClass('ui-button-icon-primary ui-icon');\n",
       "        icon_img.addClass(image);\n",
       "        icon_img.addClass('ui-corner-all');\n",
       "\n",
       "        var tooltip_span = $('<span/>');\n",
       "        tooltip_span.addClass('ui-button-text');\n",
       "        tooltip_span.html(tooltip);\n",
       "\n",
       "        button.append(icon_img);\n",
       "        button.append(tooltip_span);\n",
       "\n",
       "        nav_element.append(button);\n",
       "    }\n",
       "\n",
       "    var fmt_picker_span = $('<span/>');\n",
       "\n",
       "    var fmt_picker = $('<select/>');\n",
       "    fmt_picker.addClass('mpl-toolbar-option ui-widget ui-widget-content');\n",
       "    fmt_picker_span.append(fmt_picker);\n",
       "    nav_element.append(fmt_picker_span);\n",
       "    this.format_dropdown = fmt_picker[0];\n",
       "\n",
       "    for (var ind in mpl.extensions) {\n",
       "        var fmt = mpl.extensions[ind];\n",
       "        var option = $(\n",
       "            '<option/>', {selected: fmt === mpl.default_extension}).html(fmt);\n",
       "        fmt_picker.append(option)\n",
       "    }\n",
       "\n",
       "    // Add hover states to the ui-buttons\n",
       "    $( \".ui-button\" ).hover(\n",
       "        function() { $(this).addClass(\"ui-state-hover\");},\n",
       "        function() { $(this).removeClass(\"ui-state-hover\");}\n",
       "    );\n",
       "\n",
       "    var status_bar = $('<span class=\"mpl-message\"/>');\n",
       "    nav_element.append(status_bar);\n",
       "    this.message = status_bar[0];\n",
       "}\n",
       "\n",
       "mpl.figure.prototype.request_resize = function(x_pixels, y_pixels) {\n",
       "    // Request matplotlib to resize the figure. Matplotlib will then trigger a resize in the client,\n",
       "    // which will in turn request a refresh of the image.\n",
       "    this.send_message('resize', {'width': x_pixels, 'height': y_pixels});\n",
       "}\n",
       "\n",
       "mpl.figure.prototype.send_message = function(type, properties) {\n",
       "    properties['type'] = type;\n",
       "    properties['figure_id'] = this.id;\n",
       "    this.ws.send(JSON.stringify(properties));\n",
       "}\n",
       "\n",
       "mpl.figure.prototype.send_draw_message = function() {\n",
       "    if (!this.waiting) {\n",
       "        this.waiting = true;\n",
       "        this.ws.send(JSON.stringify({type: \"draw\", figure_id: this.id}));\n",
       "    }\n",
       "}\n",
       "\n",
       "\n",
       "mpl.figure.prototype.handle_save = function(fig, msg) {\n",
       "    var format_dropdown = fig.format_dropdown;\n",
       "    var format = format_dropdown.options[format_dropdown.selectedIndex].value;\n",
       "    fig.ondownload(fig, format);\n",
       "}\n",
       "\n",
       "\n",
       "mpl.figure.prototype.handle_resize = function(fig, msg) {\n",
       "    var size = msg['size'];\n",
       "    if (size[0] != fig.canvas.width || size[1] != fig.canvas.height) {\n",
       "        fig._resize_canvas(size[0], size[1]);\n",
       "        fig.send_message(\"refresh\", {});\n",
       "    };\n",
       "}\n",
       "\n",
       "mpl.figure.prototype.handle_rubberband = function(fig, msg) {\n",
       "    var x0 = msg['x0'] / mpl.ratio;\n",
       "    var y0 = (fig.canvas.height - msg['y0']) / mpl.ratio;\n",
       "    var x1 = msg['x1'] / mpl.ratio;\n",
       "    var y1 = (fig.canvas.height - msg['y1']) / mpl.ratio;\n",
       "    x0 = Math.floor(x0) + 0.5;\n",
       "    y0 = Math.floor(y0) + 0.5;\n",
       "    x1 = Math.floor(x1) + 0.5;\n",
       "    y1 = Math.floor(y1) + 0.5;\n",
       "    var min_x = Math.min(x0, x1);\n",
       "    var min_y = Math.min(y0, y1);\n",
       "    var width = Math.abs(x1 - x0);\n",
       "    var height = Math.abs(y1 - y0);\n",
       "\n",
       "    fig.rubberband_context.clearRect(\n",
       "        0, 0, fig.canvas.width, fig.canvas.height);\n",
       "\n",
       "    fig.rubberband_context.strokeRect(min_x, min_y, width, height);\n",
       "}\n",
       "\n",
       "mpl.figure.prototype.handle_figure_label = function(fig, msg) {\n",
       "    // Updates the figure title.\n",
       "    fig.header.textContent = msg['label'];\n",
       "}\n",
       "\n",
       "mpl.figure.prototype.handle_cursor = function(fig, msg) {\n",
       "    var cursor = msg['cursor'];\n",
       "    switch(cursor)\n",
       "    {\n",
       "    case 0:\n",
       "        cursor = 'pointer';\n",
       "        break;\n",
       "    case 1:\n",
       "        cursor = 'default';\n",
       "        break;\n",
       "    case 2:\n",
       "        cursor = 'crosshair';\n",
       "        break;\n",
       "    case 3:\n",
       "        cursor = 'move';\n",
       "        break;\n",
       "    }\n",
       "    fig.rubberband_canvas.style.cursor = cursor;\n",
       "}\n",
       "\n",
       "mpl.figure.prototype.handle_message = function(fig, msg) {\n",
       "    fig.message.textContent = msg['message'];\n",
       "}\n",
       "\n",
       "mpl.figure.prototype.handle_draw = function(fig, msg) {\n",
       "    // Request the server to send over a new figure.\n",
       "    fig.send_draw_message();\n",
       "}\n",
       "\n",
       "mpl.figure.prototype.handle_image_mode = function(fig, msg) {\n",
       "    fig.image_mode = msg['mode'];\n",
       "}\n",
       "\n",
       "mpl.figure.prototype.updated_canvas_event = function() {\n",
       "    // Called whenever the canvas gets updated.\n",
       "    this.send_message(\"ack\", {});\n",
       "}\n",
       "\n",
       "// A function to construct a web socket function for onmessage handling.\n",
       "// Called in the figure constructor.\n",
       "mpl.figure.prototype._make_on_message_function = function(fig) {\n",
       "    return function socket_on_message(evt) {\n",
       "        if (evt.data instanceof Blob) {\n",
       "            /* FIXME: We get \"Resource interpreted as Image but\n",
       "             * transferred with MIME type text/plain:\" errors on\n",
       "             * Chrome.  But how to set the MIME type?  It doesn't seem\n",
       "             * to be part of the websocket stream */\n",
       "            evt.data.type = \"image/png\";\n",
       "\n",
       "            /* Free the memory for the previous frames */\n",
       "            if (fig.imageObj.src) {\n",
       "                (window.URL || window.webkitURL).revokeObjectURL(\n",
       "                    fig.imageObj.src);\n",
       "            }\n",
       "\n",
       "            fig.imageObj.src = (window.URL || window.webkitURL).createObjectURL(\n",
       "                evt.data);\n",
       "            fig.updated_canvas_event();\n",
       "            fig.waiting = false;\n",
       "            return;\n",
       "        }\n",
       "        else if (typeof evt.data === 'string' && evt.data.slice(0, 21) == \"data:image/png;base64\") {\n",
       "            fig.imageObj.src = evt.data;\n",
       "            fig.updated_canvas_event();\n",
       "            fig.waiting = false;\n",
       "            return;\n",
       "        }\n",
       "\n",
       "        var msg = JSON.parse(evt.data);\n",
       "        var msg_type = msg['type'];\n",
       "\n",
       "        // Call the  \"handle_{type}\" callback, which takes\n",
       "        // the figure and JSON message as its only arguments.\n",
       "        try {\n",
       "            var callback = fig[\"handle_\" + msg_type];\n",
       "        } catch (e) {\n",
       "            console.log(\"No handler for the '\" + msg_type + \"' message type: \", msg);\n",
       "            return;\n",
       "        }\n",
       "\n",
       "        if (callback) {\n",
       "            try {\n",
       "                // console.log(\"Handling '\" + msg_type + \"' message: \", msg);\n",
       "                callback(fig, msg);\n",
       "            } catch (e) {\n",
       "                console.log(\"Exception inside the 'handler_\" + msg_type + \"' callback:\", e, e.stack, msg);\n",
       "            }\n",
       "        }\n",
       "    };\n",
       "}\n",
       "\n",
       "// from http://stackoverflow.com/questions/1114465/getting-mouse-location-in-canvas\n",
       "mpl.findpos = function(e) {\n",
       "    //this section is from http://www.quirksmode.org/js/events_properties.html\n",
       "    var targ;\n",
       "    if (!e)\n",
       "        e = window.event;\n",
       "    if (e.target)\n",
       "        targ = e.target;\n",
       "    else if (e.srcElement)\n",
       "        targ = e.srcElement;\n",
       "    if (targ.nodeType == 3) // defeat Safari bug\n",
       "        targ = targ.parentNode;\n",
       "\n",
       "    // jQuery normalizes the pageX and pageY\n",
       "    // pageX,Y are the mouse positions relative to the document\n",
       "    // offset() returns the position of the element relative to the document\n",
       "    var x = e.pageX - $(targ).offset().left;\n",
       "    var y = e.pageY - $(targ).offset().top;\n",
       "\n",
       "    return {\"x\": x, \"y\": y};\n",
       "};\n",
       "\n",
       "/*\n",
       " * return a copy of an object with only non-object keys\n",
       " * we need this to avoid circular references\n",
       " * http://stackoverflow.com/a/24161582/3208463\n",
       " */\n",
       "function simpleKeys (original) {\n",
       "  return Object.keys(original).reduce(function (obj, key) {\n",
       "    if (typeof original[key] !== 'object')\n",
       "        obj[key] = original[key]\n",
       "    return obj;\n",
       "  }, {});\n",
       "}\n",
       "\n",
       "mpl.figure.prototype.mouse_event = function(event, name) {\n",
       "    var canvas_pos = mpl.findpos(event)\n",
       "\n",
       "    if (name === 'button_press')\n",
       "    {\n",
       "        this.canvas.focus();\n",
       "        this.canvas_div.focus();\n",
       "    }\n",
       "\n",
       "    var x = canvas_pos.x * mpl.ratio;\n",
       "    var y = canvas_pos.y * mpl.ratio;\n",
       "\n",
       "    this.send_message(name, {x: x, y: y, button: event.button,\n",
       "                             step: event.step,\n",
       "                             guiEvent: simpleKeys(event)});\n",
       "\n",
       "    /* This prevents the web browser from automatically changing to\n",
       "     * the text insertion cursor when the button is pressed.  We want\n",
       "     * to control all of the cursor setting manually through the\n",
       "     * 'cursor' event from matplotlib */\n",
       "    event.preventDefault();\n",
       "    return false;\n",
       "}\n",
       "\n",
       "mpl.figure.prototype._key_event_extra = function(event, name) {\n",
       "    // Handle any extra behaviour associated with a key event\n",
       "}\n",
       "\n",
       "mpl.figure.prototype.key_event = function(event, name) {\n",
       "\n",
       "    // Prevent repeat events\n",
       "    if (name == 'key_press')\n",
       "    {\n",
       "        if (event.which === this._key)\n",
       "            return;\n",
       "        else\n",
       "            this._key = event.which;\n",
       "    }\n",
       "    if (name == 'key_release')\n",
       "        this._key = null;\n",
       "\n",
       "    var value = '';\n",
       "    if (event.ctrlKey && event.which != 17)\n",
       "        value += \"ctrl+\";\n",
       "    if (event.altKey && event.which != 18)\n",
       "        value += \"alt+\";\n",
       "    if (event.shiftKey && event.which != 16)\n",
       "        value += \"shift+\";\n",
       "\n",
       "    value += 'k';\n",
       "    value += event.which.toString();\n",
       "\n",
       "    this._key_event_extra(event, name);\n",
       "\n",
       "    this.send_message(name, {key: value,\n",
       "                             guiEvent: simpleKeys(event)});\n",
       "    return false;\n",
       "}\n",
       "\n",
       "mpl.figure.prototype.toolbar_button_onclick = function(name) {\n",
       "    if (name == 'download') {\n",
       "        this.handle_save(this, null);\n",
       "    } else {\n",
       "        this.send_message(\"toolbar_button\", {name: name});\n",
       "    }\n",
       "};\n",
       "\n",
       "mpl.figure.prototype.toolbar_button_onmouseover = function(tooltip) {\n",
       "    this.message.textContent = tooltip;\n",
       "};\n",
       "mpl.toolbar_items = [[\"Home\", \"Reset original view\", \"fa fa-home icon-home\", \"home\"], [\"Back\", \"Back to  previous view\", \"fa fa-arrow-left icon-arrow-left\", \"back\"], [\"Forward\", \"Forward to next view\", \"fa fa-arrow-right icon-arrow-right\", \"forward\"], [\"\", \"\", \"\", \"\"], [\"Pan\", \"Pan axes with left mouse, zoom with right\", \"fa fa-arrows icon-move\", \"pan\"], [\"Zoom\", \"Zoom to rectangle\", \"fa fa-square-o icon-check-empty\", \"zoom\"], [\"\", \"\", \"\", \"\"], [\"Download\", \"Download plot\", \"fa fa-floppy-o icon-save\", \"download\"]];\n",
       "\n",
       "mpl.extensions = [\"eps\", \"jpeg\", \"pdf\", \"png\", \"ps\", \"raw\", \"svg\", \"tif\"];\n",
       "\n",
       "mpl.default_extension = \"png\";var comm_websocket_adapter = function(comm) {\n",
       "    // Create a \"websocket\"-like object which calls the given IPython comm\n",
       "    // object with the appropriate methods. Currently this is a non binary\n",
       "    // socket, so there is still some room for performance tuning.\n",
       "    var ws = {};\n",
       "\n",
       "    ws.close = function() {\n",
       "        comm.close()\n",
       "    };\n",
       "    ws.send = function(m) {\n",
       "        //console.log('sending', m);\n",
       "        comm.send(m);\n",
       "    };\n",
       "    // Register the callback with on_msg.\n",
       "    comm.on_msg(function(msg) {\n",
       "        //console.log('receiving', msg['content']['data'], msg);\n",
       "        // Pass the mpl event to the overriden (by mpl) onmessage function.\n",
       "        ws.onmessage(msg['content']['data'])\n",
       "    });\n",
       "    return ws;\n",
       "}\n",
       "\n",
       "mpl.mpl_figure_comm = function(comm, msg) {\n",
       "    // This is the function which gets called when the mpl process\n",
       "    // starts-up an IPython Comm through the \"matplotlib\" channel.\n",
       "\n",
       "    var id = msg.content.data.id;\n",
       "    // Get hold of the div created by the display call when the Comm\n",
       "    // socket was opened in Python.\n",
       "    var element = $(\"#\" + id);\n",
       "    var ws_proxy = comm_websocket_adapter(comm)\n",
       "\n",
       "    function ondownload(figure, format) {\n",
       "        window.open(figure.imageObj.src);\n",
       "    }\n",
       "\n",
       "    var fig = new mpl.figure(id, ws_proxy,\n",
       "                           ondownload,\n",
       "                           element.get(0));\n",
       "\n",
       "    // Call onopen now - mpl needs it, as it is assuming we've passed it a real\n",
       "    // web socket which is closed, not our websocket->open comm proxy.\n",
       "    ws_proxy.onopen();\n",
       "\n",
       "    fig.parent_element = element.get(0);\n",
       "    fig.cell_info = mpl.find_output_cell(\"<div id='\" + id + \"'></div>\");\n",
       "    if (!fig.cell_info) {\n",
       "        console.error(\"Failed to find cell for figure\", id, fig);\n",
       "        return;\n",
       "    }\n",
       "\n",
       "    var output_index = fig.cell_info[2]\n",
       "    var cell = fig.cell_info[0];\n",
       "\n",
       "};\n",
       "\n",
       "mpl.figure.prototype.handle_close = function(fig, msg) {\n",
       "    var width = fig.canvas.width/mpl.ratio\n",
       "    fig.root.unbind('remove')\n",
       "\n",
       "    // Update the output cell to use the data from the current canvas.\n",
       "    fig.push_to_output();\n",
       "    var dataURL = fig.canvas.toDataURL();\n",
       "    // Re-enable the keyboard manager in IPython - without this line, in FF,\n",
       "    // the notebook keyboard shortcuts fail.\n",
       "    IPython.keyboard_manager.enable()\n",
       "    $(fig.parent_element).html('<img src=\"' + dataURL + '\" width=\"' + width + '\">');\n",
       "    fig.close_ws(fig, msg);\n",
       "}\n",
       "\n",
       "mpl.figure.prototype.close_ws = function(fig, msg){\n",
       "    fig.send_message('closing', msg);\n",
       "    // fig.ws.close()\n",
       "}\n",
       "\n",
       "mpl.figure.prototype.push_to_output = function(remove_interactive) {\n",
       "    // Turn the data on the canvas into data in the output cell.\n",
       "    var width = this.canvas.width/mpl.ratio\n",
       "    var dataURL = this.canvas.toDataURL();\n",
       "    this.cell_info[1]['text/html'] = '<img src=\"' + dataURL + '\" width=\"' + width + '\">';\n",
       "}\n",
       "\n",
       "mpl.figure.prototype.updated_canvas_event = function() {\n",
       "    // Tell IPython that the notebook contents must change.\n",
       "    IPython.notebook.set_dirty(true);\n",
       "    this.send_message(\"ack\", {});\n",
       "    var fig = this;\n",
       "    // Wait a second, then push the new image to the DOM so\n",
       "    // that it is saved nicely (might be nice to debounce this).\n",
       "    setTimeout(function () { fig.push_to_output() }, 1000);\n",
       "}\n",
       "\n",
       "mpl.figure.prototype._init_toolbar = function() {\n",
       "    var fig = this;\n",
       "\n",
       "    var nav_element = $('<div/>')\n",
       "    nav_element.attr('style', 'width: 100%');\n",
       "    this.root.append(nav_element);\n",
       "\n",
       "    // Define a callback function for later on.\n",
       "    function toolbar_event(event) {\n",
       "        return fig.toolbar_button_onclick(event['data']);\n",
       "    }\n",
       "    function toolbar_mouse_event(event) {\n",
       "        return fig.toolbar_button_onmouseover(event['data']);\n",
       "    }\n",
       "\n",
       "    for(var toolbar_ind in mpl.toolbar_items){\n",
       "        var name = mpl.toolbar_items[toolbar_ind][0];\n",
       "        var tooltip = mpl.toolbar_items[toolbar_ind][1];\n",
       "        var image = mpl.toolbar_items[toolbar_ind][2];\n",
       "        var method_name = mpl.toolbar_items[toolbar_ind][3];\n",
       "\n",
       "        if (!name) { continue; };\n",
       "\n",
       "        var button = $('<button class=\"btn btn-default\" href=\"#\" title=\"' + name + '\"><i class=\"fa ' + image + ' fa-lg\"></i></button>');\n",
       "        button.click(method_name, toolbar_event);\n",
       "        button.mouseover(tooltip, toolbar_mouse_event);\n",
       "        nav_element.append(button);\n",
       "    }\n",
       "\n",
       "    // Add the status bar.\n",
       "    var status_bar = $('<span class=\"mpl-message\" style=\"text-align:right; float: right;\"/>');\n",
       "    nav_element.append(status_bar);\n",
       "    this.message = status_bar[0];\n",
       "\n",
       "    // Add the close button to the window.\n",
       "    var buttongrp = $('<div class=\"btn-group inline pull-right\"></div>');\n",
       "    var button = $('<button class=\"btn btn-mini btn-primary\" href=\"#\" title=\"Stop Interaction\"><i class=\"fa fa-power-off icon-remove icon-large\"></i></button>');\n",
       "    button.click(function (evt) { fig.handle_close(fig, {}); } );\n",
       "    button.mouseover('Stop Interaction', toolbar_mouse_event);\n",
       "    buttongrp.append(button);\n",
       "    var titlebar = this.root.find($('.ui-dialog-titlebar'));\n",
       "    titlebar.prepend(buttongrp);\n",
       "}\n",
       "\n",
       "mpl.figure.prototype._root_extra_style = function(el){\n",
       "    var fig = this\n",
       "    el.on(\"remove\", function(){\n",
       "\tfig.close_ws(fig, {});\n",
       "    });\n",
       "}\n",
       "\n",
       "mpl.figure.prototype._canvas_extra_style = function(el){\n",
       "    // this is important to make the div 'focusable\n",
       "    el.attr('tabindex', 0)\n",
       "    // reach out to IPython and tell the keyboard manager to turn it's self\n",
       "    // off when our div gets focus\n",
       "\n",
       "    // location in version 3\n",
       "    if (IPython.notebook.keyboard_manager) {\n",
       "        IPython.notebook.keyboard_manager.register_events(el);\n",
       "    }\n",
       "    else {\n",
       "        // location in version 2\n",
       "        IPython.keyboard_manager.register_events(el);\n",
       "    }\n",
       "\n",
       "}\n",
       "\n",
       "mpl.figure.prototype._key_event_extra = function(event, name) {\n",
       "    var manager = IPython.notebook.keyboard_manager;\n",
       "    if (!manager)\n",
       "        manager = IPython.keyboard_manager;\n",
       "\n",
       "    // Check for shift+enter\n",
       "    if (event.shiftKey && event.which == 13) {\n",
       "        this.canvas_div.blur();\n",
       "        // select the cell after this one\n",
       "        var index = IPython.notebook.find_cell_index(this.cell_info[0]);\n",
       "        IPython.notebook.select(index + 1);\n",
       "    }\n",
       "}\n",
       "\n",
       "mpl.figure.prototype.handle_save = function(fig, msg) {\n",
       "    fig.ondownload(fig, null);\n",
       "}\n",
       "\n",
       "\n",
       "mpl.find_output_cell = function(html_output) {\n",
       "    // Return the cell and output element which can be found *uniquely* in the notebook.\n",
       "    // Note - this is a bit hacky, but it is done because the \"notebook_saving.Notebook\"\n",
       "    // IPython event is triggered only after the cells have been serialised, which for\n",
       "    // our purposes (turning an active figure into a static one), is too late.\n",
       "    var cells = IPython.notebook.get_cells();\n",
       "    var ncells = cells.length;\n",
       "    for (var i=0; i<ncells; i++) {\n",
       "        var cell = cells[i];\n",
       "        if (cell.cell_type === 'code'){\n",
       "            for (var j=0; j<cell.output_area.outputs.length; j++) {\n",
       "                var data = cell.output_area.outputs[j];\n",
       "                if (data.data) {\n",
       "                    // IPython >= 3 moved mimebundle to data attribute of output\n",
       "                    data = data.data;\n",
       "                }\n",
       "                if (data['text/html'] == html_output) {\n",
       "                    return [cell, data, j];\n",
       "                }\n",
       "            }\n",
       "        }\n",
       "    }\n",
       "}\n",
       "\n",
       "// Register the function which deals with the matplotlib target/channel.\n",
       "// The kernel may be null if the page has been refreshed.\n",
       "if (IPython.notebook.kernel != null) {\n",
       "    IPython.notebook.kernel.comm_manager.register_target('matplotlib', mpl.mpl_figure_comm);\n",
       "}\n"
      ],
      "text/plain": [
       "<IPython.core.display.Javascript object>"
      ]
     },
     "metadata": {},
     "output_type": "display_data"
    },
    {
     "data": {
      "text/html": [
       "<img src=\"data:image/png;base64,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\" width=\"500\">"
      ],
      "text/plain": [
       "<IPython.core.display.HTML object>"
      ]
     },
     "metadata": {},
     "output_type": "display_data"
    },
    {
     "data": {
      "text/plain": [
       "<matplotlib.text.Text at 0x7fd0f45bae10>"
      ]
     },
     "execution_count": 25,
     "metadata": {},
     "output_type": "execute_result"
    }
   ],
   "source": [
    "dos = hh.load('work/final-dos.h5')\n",
    "plt.figure(figsize=(5,3))\n",
    "plt.plot(dos.E, dos.I)\n",
    "plt.xlabel('Energy (meV)')\n",
    "# plt.xlim(0, 30)"
   ]
  },
  {
   "cell_type": "markdown",
   "metadata": {},
   "source": [
    "More plotting utils are available"
   ]
  },
  {
   "cell_type": "code",
   "execution_count": null,
   "metadata": {
    "collapsed": true
   },
   "outputs": [],
   "source": [
    "from multiphonon.backward import plotutils as pu"
   ]
  },
  {
   "cell_type": "code",
   "execution_count": null,
   "metadata": {
    "collapsed": true
   },
   "outputs": [],
   "source": [
    "plt.figure(figsize=(5,3))\n",
    "pu.plot_dos_iteration('work/')"
   ]
  },
  {
   "cell_type": "code",
   "execution_count": null,
   "metadata": {
    "collapsed": true
   },
   "outputs": [],
   "source": [
    "plt.figure(figsize=(6,4))\n",
    "pu.plot_residual('work/')"
   ]
  },
  {
   "cell_type": "code",
   "execution_count": null,
   "metadata": {
    "collapsed": true
   },
   "outputs": [],
   "source": [
    "plt.figure(figsize=(10, 4))\n",
    "pu.plot_intermediate_result_se('work/round-3')"
   ]
  },
  {
   "cell_type": "code",
   "execution_count": null,
   "metadata": {
    "collapsed": true
   },
   "outputs": [],
   "source": []
  }
 ],
 "metadata": {
  "kernelspec": {
   "display_name": "Python 2",
   "language": "python",
   "name": "python2"
  },
  "language_info": {
   "codemirror_mode": {
    "name": "ipython",
    "version": 2
   },
   "file_extension": ".py",
   "mimetype": "text/x-python",
   "name": "python",
   "nbconvert_exporter": "python",
   "pygments_lexer": "ipython2",
   "version": "2.7.13"
  },
  "widgets": {
   "state": {
    "00d6d1a106a542ad8e1e42308da0d176": {
     "views": [
      {
       "cell_index": 6
      }
     ]
    },
    "05cadaef338f46b2ab82e578636953f9": {
     "views": [
      {
       "cell_index": 6
      }
     ]
    },
    "09a112da61f64b44bc1c131bcb96c221": {
     "views": [
      {
       "cell_index": 6
      }
     ]
    },
    "0bf45f2160da410aaa58af9cc8bde24a": {
     "views": [
      {
       "cell_index": 6
      }
     ]
    },
    "13a422d4e0594ef78ce8612002e103c1": {
     "views": [
      {
       "cell_index": 6
      }
     ]
    },
    "17e4841f303849efb8b80263236483b0": {
     "views": [
      {
       "cell_index": 5
      }
     ]
    },
    "180c8da4c43344cdb5336a8d97bd6958": {
     "views": [
      {
       "cell_index": 6
      }
     ]
    },
    "188ad23345584d2eb2e5fe5e0d34d3f1": {
     "views": [
      {
       "cell_index": 6
      }
     ]
    },
    "1a577c721f8846ebaa5a675ba5cf797b": {
     "views": [
      {
       "cell_index": 6
      }
     ]
    },
    "1fc18503c284444d91b2b2524e03166b": {
     "views": [
      {
       "cell_index": 6
      }
     ]
    },
    "1fd3af1e79694c7bac7834f8db67262b": {
     "views": [
      {
       "cell_index": 6
      }
     ]
    },
    "222411f7173b4b4e88b44dbc46476f08": {
     "views": [
      {
       "cell_index": 6
      }
     ]
    },
    "22a6c515967640a590502abb83d1bdca": {
     "views": [
      {
       "cell_index": 6
      }
     ]
    },
    "235919b136e540e29e20fdd2352b6453": {
     "views": [
      {
       "cell_index": 6
      }
     ]
    },
    "23712214e4524548ae8fc287bf0b825d": {
     "views": [
      {
       "cell_index": 6
      }
     ]
    },
    "23874805bd3548ef9ce1b55a8beedb19": {
     "views": [
      {
       "cell_index": 6
      }
     ]
    },
    "23fc7d5b5dd24de79932e42efd529f1b": {
     "views": [
      {
       "cell_index": 6
      }
     ]
    },
    "2d727964b44b4456a7d7cc900dfd5e30": {
     "views": [
      {
       "cell_index": 6
      }
     ]
    },
    "2e07026a80ec4c86bea5801f6593068a": {
     "views": [
      {
       "cell_index": 6
      }
     ]
    },
    "318e457f17db4b6eaf70cce037133585": {
     "views": [
      {
       "cell_index": 8
      }
     ]
    },
    "383c447b61b04a0e848b79fd7618da66": {
     "views": [
      {
       "cell_index": 5
      }
     ]
    },
    "3bf8bc48f93d49f99fdd3ef7b3405161": {
     "views": [
      {
       "cell_index": 6
      }
     ]
    },
    "43e9a26974d24b1e9408c0cfee717d68": {
     "views": [
      {
       "cell_index": 6
      }
     ]
    },
    "45e4b3ef287c41788d501e7cfb284596": {
     "views": [
      {
       "cell_index": 6
      }
     ]
    },
    "47c322eb80824fe884bc9c0d616a7ea5": {
     "views": [
      {
       "cell_index": 6
      }
     ]
    },
    "492ec180bb08428cb70c7c93529a4556": {
     "views": [
      {
       "cell_index": 6
      }
     ]
    },
    "4cd5da30e61d47e4b8a222e0064bc2d6": {
     "views": [
      {
       "cell_index": 6
      }
     ]
    },
    "4e01b74a4e3647dd8b4b90392d24f123": {
     "views": [
      {
       "cell_index": 6
      }
     ]
    },
    "4e6e5f71237a4a82884487f879ded77c": {
     "views": [
      {
       "cell_index": 6
      }
     ]
    },
    "4e8a7bbafca04f79bbbbf39ce1c44cf0": {
     "views": [
      {
       "cell_index": 6
      }
     ]
    },
    "5030855016084c9a8b2fd43a77a12def": {
     "views": [
      {
       "cell_index": 6
      }
     ]
    },
    "50a4b87deef641249cf2a76c2d01f150": {
     "views": [
      {
       "cell_index": 6
      }
     ]
    },
    "524f61084f3a4dec864447d57211e24f": {
     "views": [
      {
       "cell_index": 5
      }
     ]
    },
    "53d80e00efcf4e04b8379844370a5a32": {
     "views": [
      {
       "cell_index": 6
      }
     ]
    },
    "54751c89b2944ababb0f6bd36db7fc90": {
     "views": [
      {
       "cell_index": 6
      }
     ]
    },
    "58f1a5742a2841d295e192e78e96241a": {
     "views": [
      {
       "cell_index": 6
      }
     ]
    },
    "5965242f72204da4a6fefc9660a25ee0": {
     "views": [
      {
       "cell_index": 5
      }
     ]
    },
    "5b31ad8774784485abf8e27bca116511": {
     "views": [
      {
       "cell_index": 6
      }
     ]
    },
    "5b519a5bfe9348babf48295a16f895e1": {
     "views": [
      {
       "cell_index": 6
      }
     ]
    },
    "60c719bca26b48468d313bf5a67f54da": {
     "views": [
      {
       "cell_index": 6
      }
     ]
    },
    "616d024c0e43477faab57820285e8c0e": {
     "views": [
      {
       "cell_index": 6
      }
     ]
    },
    "62c97b89f3664ee9a40e6677cbf821b2": {
     "views": [
      {
       "cell_index": 5
      }
     ]
    },
    "6405400b70304a17b8ae3d7b9449ba99": {
     "views": [
      {
       "cell_index": 6
      }
     ]
    },
    "660da110cd1049a6b9665330b6219926": {
     "views": [
      {
       "cell_index": 6
      }
     ]
    },
    "668d25dc642d4268bd97731ab6c23407": {
     "views": [
      {
       "cell_index": 6
      }
     ]
    },
    "67396748fc184453ac7e276b7c8d05d2": {
     "views": [
      {
       "cell_index": 6
      }
     ]
    },
    "68a902cb9538461f8dde10a6d0e53ecb": {
     "views": [
      {
       "cell_index": 6
      }
     ]
    },
    "719c99308fad4db29a39f94829794b2a": {
     "views": [
      {
       "cell_index": 6
      }
     ]
    },
    "73a977dcbe6b4c25a40ed6dadcf7132c": {
     "views": [
      {
       "cell_index": 6
      }
     ]
    },
    "7430fd9d4f56474d91e8f1eb3644bd5e": {
     "views": [
      {
       "cell_index": 6
      }
     ]
    },
    "77e1e1b5e55944db91b89583bcaf1807": {
     "views": [
      {
       "cell_index": 6
      }
     ]
    },
    "7d2de4fa4f794d5d979dede6677b8670": {
     "views": [
      {
       "cell_index": 8
      }
     ]
    },
    "7ebec58a0944417c992f581a704c31e1": {
     "views": [
      {
       "cell_index": 5
      }
     ]
    },
    "85c4f9ad6429499f83a36b1abd253ca6": {
     "views": [
      {
       "cell_index": 5
      }
     ]
    },
    "881e93bf32f44287ab36924465cf8958": {
     "views": [
      {
       "cell_index": 8
      }
     ]
    },
    "8c27bd0ae8f848abbade0547bfdf32bb": {
     "views": [
      {
       "cell_index": 6
      }
     ]
    },
    "8d70dfc2429243cc876930061dddb176": {
     "views": [
      {
       "cell_index": 6
      }
     ]
    },
    "8f7591aa3d42470c8dfea8dfb5dd7ac8": {
     "views": [
      {
       "cell_index": 8
      }
     ]
    },
    "9035c86d812d4cfc91842c0490b0c99b": {
     "views": [
      {
       "cell_index": 6
      }
     ]
    },
    "930f8ef291d04ea3afd6eacbc46ee7ac": {
     "views": [
      {
       "cell_index": 6
      }
     ]
    },
    "949f879a7e7b4a0e806ee8f96f06022a": {
     "views": [
      {
       "cell_index": 6
      }
     ]
    },
    "96682718ae6b449ba9204d1d1273fa6a": {
     "views": [
      {
       "cell_index": 6
      }
     ]
    },
    "9808fbbfbbdb47108569f8c4f6b059c2": {
     "views": [
      {
       "cell_index": 6
      }
     ]
    },
    "9a4959c62894418e94916e0d6bb807fd": {
     "views": [
      {
       "cell_index": 6
      }
     ]
    },
    "9b6a7b2087c74031bcb09adb94be937b": {
     "views": [
      {
       "cell_index": 6
      }
     ]
    },
    "9b6ba99c72644b6a8c57c60497cb2419": {
     "views": [
      {
       "cell_index": 6
      }
     ]
    },
    "9ee5c7e5eea847919b7dc44dff10ca83": {
     "views": [
      {
       "cell_index": 6
      }
     ]
    },
    "9f7c0bd531164c3bb4a084db5fc31f5e": {
     "views": [
      {
       "cell_index": 6
      }
     ]
    },
    "a01319c20b08455fa775243e943b6c10": {
     "views": [
      {
       "cell_index": 6
      }
     ]
    },
    "a4062607e2924a80bf59ba1caeb1835a": {
     "views": [
      {
       "cell_index": 6
      }
     ]
    },
    "ab0036695ff84c0db64c90ab4f98aee8": {
     "views": [
      {
       "cell_index": 8
      }
     ]
    },
    "ab1757ae6edb41cc83c1f9c5c8ce4b46": {
     "views": [
      {
       "cell_index": 6
      }
     ]
    },
    "acbbd939c02d45bc9f6f650b2488b16f": {
     "views": [
      {
       "cell_index": 6
      }
     ]
    },
    "ae21db2ecd5744a79651bf54e67dedcf": {
     "views": [
      {
       "cell_index": 8
      }
     ]
    },
    "ae7fa5c3408b424eb019960dc6deec7a": {
     "views": [
      {
       "cell_index": 6
      }
     ]
    },
    "b04dc8542dc347e48297bbf727330f26": {
     "views": [
      {
       "cell_index": 6
      }
     ]
    },
    "b074f7fea5a648388d2c2fad6b8f3592": {
     "views": [
      {
       "cell_index": 6
      }
     ]
    },
    "b1e4edb07b754f39bd48adba09006102": {
     "views": [
      {
       "cell_index": 8
      }
     ]
    },
    "b275282110044c11bf822c30999a91cf": {
     "views": [
      {
       "cell_index": 6
      }
     ]
    },
    "b87de7205acf4af3ab03561241012734": {
     "views": [
      {
       "cell_index": 6
      }
     ]
    },
    "b9695eb0f1d64aaa9875c9f8d1c48547": {
     "views": [
      {
       "cell_index": 6
      }
     ]
    },
    "bbc13992cb0d4706abbb447c368f04e3": {
     "views": [
      {
       "cell_index": 5
      }
     ]
    },
    "bcb7c55b6c1f45039df99d0b74f039dc": {
     "views": [
      {
       "cell_index": 6
      }
     ]
    },
    "bdd219dc05434f0db1d56135a6f356d6": {
     "views": [
      {
       "cell_index": 6
      }
     ]
    },
    "beedf02ec68a4bf38819db53087ee381": {
     "views": [
      {
       "cell_index": 6
      }
     ]
    },
    "c4057a78352a4cd9b3a8874cb724050c": {
     "views": [
      {
       "cell_index": 6
      }
     ]
    },
    "c98cb9651c95470d95614e27eb10b045": {
     "views": [
      {
       "cell_index": 6
      }
     ]
    },
    "cb6931148ced4667b60335dbf4667b06": {
     "views": [
      {
       "cell_index": 6
      }
     ]
    },
    "cc32ad0ed0c44c1b8b854bd3b98d2aa5": {
     "views": [
      {
       "cell_index": 6
      }
     ]
    },
    "ce96cf9a63af47e5abcaea9fd63688f3": {
     "views": [
      {
       "cell_index": 6
      }
     ]
    },
    "db4a263478ab4c33b333f71cf786aa45": {
     "views": [
      {
       "cell_index": 6
      }
     ]
    },
    "e2a65d36219b4e219a2eb53d9e2afde4": {
     "views": [
      {
       "cell_index": 6
      }
     ]
    },
    "e48ee6c2511f4231aeb742d900a80f84": {
     "views": [
      {
       "cell_index": 6
      }
     ]
    },
    "e56e3dece9bc451fb7e58ae34eb65d2c": {
     "views": [
      {
       "cell_index": 6
      }
     ]
    },
    "e7473e1b8a924eed9ee3e1e6b49ba24d": {
     "views": [
      {
       "cell_index": 6
      }
     ]
    },
    "e77464a3befb44df86160e644a08df40": {
     "views": [
      {
       "cell_index": 6
      }
     ]
    },
    "e777a7a91a3749598893e6c3a61fb661": {
     "views": [
      {
       "cell_index": 6
      }
     ]
    },
    "e8b2248aeec7474f8a3fe8abd62391dc": {
     "views": [
      {
       "cell_index": 6
      }
     ]
    },
    "e9f2a67d7bc94e1d97dd136db63625f4": {
     "views": [
      {
       "cell_index": 8
      }
     ]
    },
    "eb3d39f0cfbc42f797cd5d1d1453599c": {
     "views": [
      {
       "cell_index": 6
      }
     ]
    },
    "ec613117ab7540c68e3f6ad6e9ffeabc": {
     "views": [
      {
       "cell_index": 6
      }
     ]
    },
    "f16994c6977c4f1696f96652907021ab": {
     "views": [
      {
       "cell_index": 6
      }
     ]
    },
    "f4d0393521484fea9eae949ef122734e": {
     "views": [
      {
       "cell_index": 6
      }
     ]
    },
    "f4f87ad86dae4e56817835e841f557b0": {
     "views": [
      {
       "cell_index": 6
      }
     ]
    },
    "fdaf38047e6a4d38aec4d8fd76880ba4": {
     "views": [
      {
       "cell_index": 6
      }
     ]
    }
   },
   "version": "1.2.0"
  }
 },
 "nbformat": 4,
 "nbformat_minor": 1
}
