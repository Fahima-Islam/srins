{
 "cells": [
  {
   "cell_type": "markdown",
   "metadata": {},
   "source": [
    "For one Ei, calculate resolution functions at a bunch of energy transfers"
   ]
  },
  {
   "cell_type": "code",
   "execution_count": 2,
   "metadata": {},
   "outputs": [
    {
     "name": "stdout",
     "output_type": "stream",
     "text": [
      "/home/lj7/dv/srins/graphite-DOS/notebooks\n"
     ]
    }
   ],
   "source": [
    "%cd ~/dv/srins/graphite-DOS/notebooks/"
   ]
  },
  {
   "cell_type": "code",
   "execution_count": 3,
   "metadata": {
    "collapsed": true
   },
   "outputs": [],
   "source": [
    "import numpy as np, os\n",
    "from matplotlib import pyplot as plt\n",
    "%matplotlib inline\n",
    "import histogram.hdf as hh, histogram as H"
   ]
  },
  {
   "cell_type": "code",
   "execution_count": 4,
   "metadata": {
    "collapsed": true
   },
   "outputs": [],
   "source": [
    "from dgsres.powder import use_ConstantQEKernel"
   ]
  },
  {
   "cell_type": "markdown",
   "metadata": {},
   "source": [
    "## Explanation of parameters\n",
    "* Q=11. If choose center of the dynamic range, Q should be around 12. But the coverage of ARCS det system is not very good near that. That is why we use Q=11\n",
    "* ncount=1e7 and nodes=20 takes about 10min per energy\n",
    "* dE probably should be around 0.5% of the Ei"
   ]
  },
  {
   "cell_type": "code",
   "execution_count": 5,
   "metadata": {
    "collapsed": true
   },
   "outputs": [],
   "source": [
    "sim = use_ConstantQEKernel.Sim(\n",
    "    workdir = \"/SNS/users/lj7/simulations/ARCS/graphite/resolution/Ei_300_demo\",\n",
    "    beamdir = \"/SNS/users/lj7/simulations/ARCS/beam/300meV-n3e9\",\n",
    "    Ei = 300,\n",
    "    Q = 11.,\n",
    "    dQ_axis = (-1, 1, 0.02),\n",
    "    dE_axis = (-60, 40, 1.),\n",
    "    ncount = 1e7,\n",
    "    nodes = 20\n",
    ")"
   ]
  },
  {
   "cell_type": "markdown",
   "metadata": {},
   "source": [
    "## Test one E"
   ]
  },
  {
   "cell_type": "code",
   "execution_count": 8,
   "metadata": {},
   "outputs": [
    {
     "name": "stderr",
     "output_type": "stream",
     "text": [
      "/home/lj7/miniconda2/envs/dev-mcvine/lib/python2.7/site-packages/histogram/hdf/Loader.py:129: FutureWarning: elementwise comparison failed; returning scalar instead, but in the future will perform elementwise comparison\n",
      "  if 'storage' in list(dataGroup): # this uses the 'storage' convention\n"
     ]
    }
   ],
   "source": [
    "sim.run(E=260.)"
   ]
  },
  {
   "cell_type": "code",
   "execution_count": 9,
   "metadata": {},
   "outputs": [
    {
     "name": "stdout",
     "output_type": "stream",
     "text": [
      "ie-Q_11.0-E_260.0.h5  iqe-Q_11.0-E_260.0.h5\r\n"
     ]
    }
   ],
   "source": [
    "ls {sim.workdir}/out"
   ]
  },
  {
   "cell_type": "code",
   "execution_count": 18,
   "metadata": {},
   "outputs": [
    {
     "data": {
      "image/png": "[encoded data removed]",
      "text/plain": [
       "<matplotlib.figure.Figure at 0x7f01f16d9490>"
      ]
     },
     "metadata": {},
     "output_type": "display_data"
    }
   ],
   "source": [
    "H.plot(hh.load(os.path.join(sim.outdir, 'ie-Q_11.0-E_260.0.h5')))"
   ]
  },
  {
   "cell_type": "markdown",
   "metadata": {},
   "source": [
    "## Run all Es"
   ]
  },
  {
   "cell_type": "code",
   "execution_count": 10,
   "metadata": {},
   "outputs": [
    {
     "name": "stdout",
     "output_type": "stream",
     "text": [
      "15.0\n"
     ]
    },
    {
     "name": "stderr",
     "output_type": "stream",
     "text": [
      "/home/lj7/miniconda2/envs/dev-mcvine/lib/python2.7/site-packages/histogram/hdf/Loader.py:129: FutureWarning: elementwise comparison failed; returning scalar instead, but in the future will perform elementwise comparison\n",
      "  if 'storage' in list(dataGroup): # this uses the 'storage' convention\n"
     ]
    },
    {
     "name": "stdout",
     "output_type": "stream",
     "text": [
      "45.0\n",
      "75.0\n",
      "105.0\n",
      "135.0\n",
      "165.0\n",
      "195.0\n",
      "225.0\n",
      "255.0\n",
      "285.0\n",
      "CPU times: user 864 ms, sys: 220 ms, total: 1.08 s\n",
      "Wall time: 1h 21min 14s\n"
     ]
    }
   ],
   "source": [
    "%%time\n",
    "for E in np.arange(0., 300., 15.):\n",
    "    if os.path.exists(os.path.join(sim.outdir, 'iqe-Q_11.0-E_%s.h5' % E)): continue\n",
    "    print E\n",
    "    sim.run(E)"
   ]
  },
  {
   "cell_type": "code",
   "execution_count": 11,
   "metadata": {},
   "outputs": [
    {
     "name": "stdout",
     "output_type": "stream",
     "text": [
      "ie-Q_11.0-E_0.0.h5    ie-Q_11.0-E_270.0.h5   iqe-Q_11.0-E_180.0.h5\r\n",
      "ie-Q_11.0-E_105.0.h5  ie-Q_11.0-E_285.0.h5   iqe-Q_11.0-E_195.0.h5\r\n",
      "ie-Q_11.0-E_120.0.h5  ie-Q_11.0-E_30.0.h5    iqe-Q_11.0-E_210.0.h5\r\n",
      "ie-Q_11.0-E_135.0.h5  ie-Q_11.0-E_45.0.h5    iqe-Q_11.0-E_225.0.h5\r\n",
      "ie-Q_11.0-E_150.0.h5  ie-Q_11.0-E_60.0.h5    iqe-Q_11.0-E_240.0.h5\r\n",
      "ie-Q_11.0-E_15.0.h5   ie-Q_11.0-E_75.0.h5    iqe-Q_11.0-E_255.0.h5\r\n",
      "ie-Q_11.0-E_165.0.h5  ie-Q_11.0-E_90.0.h5    iqe-Q_11.0-E_260.0.h5\r\n",
      "ie-Q_11.0-E_180.0.h5  iqe-Q_11.0-E_0.0.h5    iqe-Q_11.0-E_270.0.h5\r\n",
      "ie-Q_11.0-E_195.0.h5  iqe-Q_11.0-E_105.0.h5  iqe-Q_11.0-E_285.0.h5\r\n",
      "ie-Q_11.0-E_210.0.h5  iqe-Q_11.0-E_120.0.h5  iqe-Q_11.0-E_30.0.h5\r\n",
      "ie-Q_11.0-E_225.0.h5  iqe-Q_11.0-E_135.0.h5  iqe-Q_11.0-E_45.0.h5\r\n",
      "ie-Q_11.0-E_240.0.h5  iqe-Q_11.0-E_150.0.h5  iqe-Q_11.0-E_60.0.h5\r\n",
      "ie-Q_11.0-E_255.0.h5  iqe-Q_11.0-E_15.0.h5   iqe-Q_11.0-E_75.0.h5\r\n",
      "ie-Q_11.0-E_260.0.h5  iqe-Q_11.0-E_165.0.h5  iqe-Q_11.0-E_90.0.h5\r\n"
     ]
    }
   ],
   "source": [
    "ls {sim.outdir}"
   ]
  },
  {
   "cell_type": "code",
   "execution_count": 12,
   "metadata": {},
   "outputs": [
    {
     "data": {
      "image/png": "[encoded data removed]",
      "text/plain": [
       "<matplotlib.figure.Figure at 0x7fb0b5630e90>"
      ]
     },
     "metadata": {},
     "output_type": "display_data"
    }
   ],
   "source": [
    "H.plot(hh.load(os.path.join(sim.outdir, 'ie-Q_11.0-E_0.0.h5')))"
   ]
  },
  {
   "cell_type": "code",
   "execution_count": null,
   "metadata": {
    "collapsed": true
   },
   "outputs": [],
   "source": []
  },
  {
   "cell_type": "markdown",
   "metadata": {},
   "source": [
    "## Code for Debugging"
   ]
  },
  {
   "cell_type": "code",
   "execution_count": null,
   "metadata": {
    "collapsed": true
   },
   "outputs": [],
   "source": [
    "%cd {sim.simdir}"
   ]
  },
  {
   "cell_type": "code",
   "execution_count": null,
   "metadata": {
    "collapsed": true,
    "scrolled": true
   },
   "outputs": [],
   "source": [
    "!time mcvine instruments arcs nxs reduce sim.nxs --qaxis 11 13 0.1 --eaxis 210 290 2 --tof2E"
   ]
  },
  {
   "cell_type": "code",
   "execution_count": null,
   "metadata": {
    "collapsed": true
   },
   "outputs": [],
   "source": [
    "H.plot(hh.load(os.path.join(sim.simdir, 'iqe.h5')), min=0)"
   ]
  },
  {
   "cell_type": "code",
   "execution_count": null,
   "metadata": {
    "collapsed": true
   },
   "outputs": [],
   "source": [
    "iqe.I[iqe.I!=iqe.I] = 0"
   ]
  },
  {
   "cell_type": "code",
   "execution_count": null,
   "metadata": {
    "collapsed": true
   },
   "outputs": [],
   "source": [
    "ie = iqe.sum('Q')"
   ]
  },
  {
   "cell_type": "code",
   "execution_count": null,
   "metadata": {
    "collapsed": true
   },
   "outputs": [],
   "source": [
    "plt.plot(ie.E, ie.I)\n",
    "plt.show()"
   ]
  },
  {
   "cell_type": "code",
   "execution_count": null,
   "metadata": {
    "collapsed": true
   },
   "outputs": [],
   "source": []
  }
 ],
 "metadata": {
  "kernelspec": {
   "display_name": "dev-mcvine",
   "language": "python",
   "name": "dev-mcvine"
  },
  "language_info": {
   "codemirror_mode": {
    "name": "ipython",
    "version": 2
   },
   "file_extension": ".py",
   "mimetype": "text/x-python",
   "name": "python",
   "nbconvert_exporter": "python",
   "pygments_lexer": "ipython2",
   "version": "2.7.12"
  }
 },
 "nbformat": 4,
 "nbformat_minor": 2
}
