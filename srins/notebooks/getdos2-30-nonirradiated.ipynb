{
 "cells": [
  {
   "cell_type": "markdown",
   "metadata": {},
   "source": [
    "# Density of States Analysis Example\n",
    "* Given sample and empty-can data, compute phonon DOS\n",
    "* To use this notebook, first click jupyter menu File->Make a copy\n",
    "* Click the title of the copied jupyter notebook and change it to a new title\n",
    "* Start executing cells"
   ]
  },
  {
   "cell_type": "markdown",
   "metadata": {},
   "source": [
    "## Summary of processing steps\n",
    "\n",
    "* Gather experimental information and experimental raw data\n",
    "* Reduce raw data to S(Q,E)\n",
    "* Convert S(Q,E) to DOS"
   ]
  },
  {
   "cell_type": "markdown",
   "metadata": {},
   "source": [
    "## Preparation"
   ]
  },
  {
   "cell_type": "markdown",
   "metadata": {},
   "source": [
    "Create a new working directory and change into it.\n",
    "\n",
    "Please modify the following path to suit your need!"
   ]
  },
  {
   "cell_type": "code",
   "execution_count": 1,
   "metadata": {},
   "outputs": [
    {
     "name": "stdout",
     "output_type": "stream",
     "text": [
      "/home/fi0/dev/figures_for_paper\r\n"
     ]
    }
   ],
   "source": [
    "!pwd"
   ]
  },
  {
   "cell_type": "code",
   "execution_count": 2,
   "metadata": {},
   "outputs": [
    {
     "name": "stdout",
     "output_type": "stream",
     "text": [
      "/home/fi0/dev/figures_for_paper/30_spacing1\n"
     ]
    }
   ],
   "source": [
    "workdir = '30_spacing1'\n",
    "!mkdir -p {workdir}\n",
    "%cd {workdir}"
   ]
  },
  {
   "cell_type": "markdown",
   "metadata": {},
   "source": [
    "Get tools ready"
   ]
  },
  {
   "cell_type": "code",
   "execution_count": 3,
   "metadata": {
    "collapsed": true
   },
   "outputs": [],
   "source": [
    "import os, numpy as np\n",
    "import histogram.hdf as hh, histogram as H\n",
    "from matplotlib import pyplot as plt\n",
    "%matplotlib notebook\n",
    "# %matplotlib inline\n",
    "\n",
    "from multiphonon.sqe import plot as plot_sqe\n",
    "from multiphonon.ui.getdos import Context, NxsWizardStart, QEGridWizardStart, GetDOSWizStart"
   ]
  },
  {
   "cell_type": "markdown",
   "metadata": {},
   "source": [
    "Create a context for getdos"
   ]
  },
  {
   "cell_type": "code",
   "execution_count": 4,
   "metadata": {
    "collapsed": true
   },
   "outputs": [],
   "source": [
    "context=Context()"
   ]
  },
  {
   "cell_type": "markdown",
   "metadata": {},
   "source": [
    "If you want to reuse a previously-saved context, please uncomment the following cell and execute"
   ]
  },
  {
   "cell_type": "code",
   "execution_count": 5,
   "metadata": {
    "collapsed": true
   },
   "outputs": [],
   "source": [
    "# context.from_yaml('./getdos2-context.yaml')"
   ]
  },
  {
   "cell_type": "markdown",
   "metadata": {},
   "source": [
    "## Experimental data and condition"
   ]
  },
  {
   "cell_type": "markdown",
   "metadata": {},
   "source": [
    "Phonon Density of States (DOS) can be obtained from inelastic neutron scattering (INS) spectrum.\n",
    "This notebook allows for extracting DOS from INS spectrum measured at the ARCS instrument at SNS.\n",
    "To start, we need data files measured for the sample and the empty can, as well as experimental conditions such as incident energy and sample temperature.\n",
    "The following wizard help you go through these steps.\n",
    "\n",
    "<img src=\"getdos2-select_raw_data.png\" width=\"500\"/>"
   ]
  },
  {
   "cell_type": "markdown",
   "metadata": {},
   "source": [
    "Example datasets:\n",
    "\n",
    "* samplenxs = \"/SNS/ARCS/2014_1_18_CAL/0/47435/NeXus/ARCS_47435_event.nxs\"\n",
    "* mtnxs = Skip\n",
    "* Ei=80\n",
    "* T=300"
   ]
  },
  {
   "cell_type": "markdown",
   "metadata": {},
   "source": [
    "Save configuration so you can reuse it"
   ]
  },
  {
   "cell_type": "code",
   "execution_count": 6,
   "metadata": {
    "collapsed": true
   },
   "outputs": [],
   "source": [
    "context.to_yaml('./getdos2-context.yaml')"
   ]
  },
  {
   "cell_type": "code",
   "execution_count": 7,
   "metadata": {},
   "outputs": [
    {
     "data": {
      "application/vnd.jupyter.widget-view+json": {
       "model_id": "7f7d0fd59915488591e305de40b53cf8"
      }
     },
     "metadata": {},
     "output_type": "display_data"
    },
    {
     "data": {
      "application/vnd.jupyter.widget-view+json": {
       "model_id": "46e35bb3ede94dafa937c2e8623d2a82"
      }
     },
     "metadata": {},
     "output_type": "display_data"
    },
    {
     "data": {
      "application/vnd.jupyter.widget-view+json": {
       "model_id": "26d94f01a3b54dc1a18f94ef4923a361"
      }
     },
     "metadata": {},
     "output_type": "display_data"
    },
    {
     "data": {
      "text/html": [
       "\n",
       "        <style type=\"text/css\">\n",
       "        .jupyter-widgets select option {\n",
       "            font-family: \"Lucida Console\", Monaco, monospace;\n",
       "        }\n",
       "        </style>\n",
       "        "
      ],
      "text/plain": [
       "<IPython.core.display.HTML object>"
      ]
     },
     "metadata": {},
     "output_type": "display_data"
    },
    {
     "data": {
      "application/vnd.jupyter.widget-view+json": {
       "model_id": "b99026bfc3784bf08aebb3a6beae0929"
      }
     },
     "metadata": {},
     "output_type": "display_data"
    },
    {
     "data": {
      "application/vnd.jupyter.widget-view+json": {
       "model_id": "7ad9be6059cb46f9b0d5c49058f5f93b"
      }
     },
     "metadata": {},
     "output_type": "display_data"
    },
    {
     "data": {
      "text/html": [
       "\n",
       "        <style type=\"text/css\">\n",
       "        .jupyter-widgets select option {\n",
       "            font-family: \"Lucida Console\", Monaco, monospace;\n",
       "        }\n",
       "        </style>\n",
       "        "
      ],
      "text/plain": [
       "<IPython.core.display.HTML object>"
      ]
     },
     "metadata": {},
     "output_type": "display_data"
    },
    {
     "data": {
      "application/vnd.jupyter.widget-view+json": {
       "model_id": "0cb7304b1d664115ab3d5cfdc3abe39e"
      }
     },
     "metadata": {},
     "output_type": "display_data"
    },
    {
     "data": {
      "application/vnd.jupyter.widget-view+json": {
       "model_id": "6f64c7583d814c15971aa2dfbee65e27"
      }
     },
     "metadata": {},
     "output_type": "display_data"
    },
    {
     "data": {
      "text/html": [
       "\n",
       "        <style type=\"text/css\">\n",
       "        .jupyter-widgets select option {\n",
       "            font-family: \"Lucida Console\", Monaco, monospace;\n",
       "        }\n",
       "        </style>\n",
       "        "
      ],
      "text/plain": [
       "<IPython.core.display.HTML object>"
      ]
     },
     "metadata": {},
     "output_type": "display_data"
    },
    {
     "data": {
      "application/vnd.jupyter.widget-view+json": {
       "model_id": "0af72cf75bec48798b80ae9a53b147a7"
      }
     },
     "metadata": {},
     "output_type": "display_data"
    },
    {
     "data": {
      "application/vnd.jupyter.widget-view+json": {
       "model_id": "6d3d8f20d56d402681fdcc9c207548ae"
      }
     },
     "metadata": {},
     "output_type": "display_data"
    },
    {
     "data": {
      "text/html": [
       "\n",
       "        <style type=\"text/css\">\n",
       "        .jupyter-widgets select option {\n",
       "            font-family: \"Lucida Console\", Monaco, monospace;\n",
       "        }\n",
       "        </style>\n",
       "        "
      ],
      "text/plain": [
       "<IPython.core.display.HTML object>"
      ]
     },
     "metadata": {},
     "output_type": "display_data"
    },
    {
     "data": {
      "application/vnd.jupyter.widget-view+json": {
       "model_id": "7f3847d726fc4190b8c22bf53fa9a26d"
      }
     },
     "metadata": {},
     "output_type": "display_data"
    },
    {
     "data": {
      "application/vnd.jupyter.widget-view+json": {
       "model_id": "370ae2a8032846d58ab661c2fd5b3202"
      }
     },
     "metadata": {},
     "output_type": "display_data"
    },
    {
     "data": {
      "application/vnd.jupyter.widget-view+json": {
       "model_id": "d16d83d004124bb7af13e8ddaad75cb1"
      }
     },
     "metadata": {},
     "output_type": "display_data"
    },
    {
     "data": {
      "application/vnd.jupyter.widget-view+json": {
       "model_id": "1541a2c0d4644f91bcb1c2d88eb41dfe"
      }
     },
     "metadata": {},
     "output_type": "display_data"
    },
    {
     "data": {
      "text/html": [
       "\n",
       "        <style type=\"text/css\">\n",
       "        .jupyter-widgets select option {\n",
       "            font-family: \"Lucida Console\", Monaco, monospace;\n",
       "        }\n",
       "        </style>\n",
       "        "
      ],
      "text/plain": [
       "<IPython.core.display.HTML object>"
      ]
     },
     "metadata": {},
     "output_type": "display_data"
    },
    {
     "data": {
      "application/vnd.jupyter.widget-view+json": {
       "model_id": "db46adf6697448ff81d2eebfae43caaf"
      }
     },
     "metadata": {},
     "output_type": "display_data"
    },
    {
     "data": {
      "application/vnd.jupyter.widget-view+json": {
       "model_id": "e29ac5eefe06492cba5b989810ea399d"
      }
     },
     "metadata": {},
     "output_type": "display_data"
    },
    {
     "data": {
      "text/html": [
       "\n",
       "        <style type=\"text/css\">\n",
       "        .jupyter-widgets select option {\n",
       "            font-family: \"Lucida Console\", Monaco, monospace;\n",
       "        }\n",
       "        </style>\n",
       "        "
      ],
      "text/plain": [
       "<IPython.core.display.HTML object>"
      ]
     },
     "metadata": {},
     "output_type": "display_data"
    },
    {
     "data": {
      "application/vnd.jupyter.widget-view+json": {
       "model_id": "2bc579d8b651403482f6af6dc6febb03"
      }
     },
     "metadata": {},
     "output_type": "display_data"
    },
    {
     "data": {
      "application/vnd.jupyter.widget-view+json": {
       "model_id": "d06d9a6d60bd44faa4c1dbccc7069c08"
      }
     },
     "metadata": {},
     "output_type": "display_data"
    },
    {
     "name": "stdout",
     "output_type": "stream",
     "text": [
      "Done.\n"
     ]
    }
   ],
   "source": [
    "NxsWizardStart(context).show()"
   ]
  },
  {
   "cell_type": "markdown",
   "metadata": {},
   "source": [
    "## Obtain S(Q,E)\n",
    "\n",
    "S(Q,E) spectra for both the sample and the empty can is the starting point for getdos processing. Here is an example:\n",
    "\n",
    "<img width=\"300\" src=\"Al-SQE.png\"/>\n",
    "\n",
    "Run the following wizard to define the E and Q axes so that S(Q,E) spectra can be obtained the INS raw data."
   ]
  },
  {
   "cell_type": "code",
   "execution_count": 30,
   "metadata": {},
   "outputs": [
    {
     "data": {
      "application/vnd.jupyter.widget-view+json": {
       "model_id": "c8cb568a90454000b5e0d7edfd186aa9"
      }
     },
     "metadata": {},
     "output_type": "display_data"
    },
    {
     "data": {
      "application/vnd.jupyter.widget-view+json": {
       "model_id": "82dccbf1412e42a79b917be7b6818a8e"
      }
     },
     "metadata": {},
     "output_type": "display_data"
    },
    {
     "name": "stdout",
     "output_type": "stream",
     "text": [
      "Converting sample data to powder I(Q,E)...\n",
      "Converting MT data to powder I(Q,E)...\n",
      "Results: sample IQE, MT IQE, Qaxis, Eaxis\n",
      "('/home/fi0/dev/figures_for_paper/30_spacing1/work/iqe.h5', '/home/fi0/dev/figures_for_paper/30_spacing1/work/mt-iqe.h5', (0.0, 11.05, 0.1), (-30.0, 30.5, 1.0))\n",
      "Done.\n"
     ]
    }
   ],
   "source": [
    "QEGridWizardStart(context).show()"
   ]
  },
  {
   "cell_type": "markdown",
   "metadata": {},
   "source": [
    "Parameters are saved in the work dir. Uncomment the script below to see."
   ]
  },
  {
   "cell_type": "code",
   "execution_count": 31,
   "metadata": {
    "collapsed": true
   },
   "outputs": [],
   "source": [
    "%%script bash\n",
    "# ls work/\n",
    "# cat work/raw2iqe-sample.params"
   ]
  },
  {
   "cell_type": "markdown",
   "metadata": {},
   "source": [
    "Plot sample IQE"
   ]
  },
  {
   "cell_type": "code",
   "execution_count": 32,
   "metadata": {
    "collapsed": true
   },
   "outputs": [],
   "source": [
    "iqe = hh.load('work/iqe.h5')"
   ]
  },
  {
   "cell_type": "code",
   "execution_count": 33,
   "metadata": {},
   "outputs": [
    {
     "data": {
      "application/javascript": [
       "/* Put everything inside the global mpl namespace */\n",
       "window.mpl = {};\n",
       "\n",
       "\n",
       "mpl.get_websocket_type = function() {\n",
       "    if (typeof(WebSocket) !== 'undefined') {\n",
       "        return WebSocket;\n",
       "    } else if (typeof(MozWebSocket) !== 'undefined') {\n",
       "        return MozWebSocket;\n",
       "    } else {\n",
       "        alert('Your browser does not have WebSocket support.' +\n",
       "              'Please try Chrome, Safari or Firefox ≥ 6. ' +\n",
       "              'Firefox 4 and 5 are also supported but you ' +\n",
       "              'have to enable WebSockets in about:config.');\n",
       "    };\n",
       "}\n",
       "\n",
       "mpl.figure = function(figure_id, websocket, ondownload, parent_element) {\n",
       "    this.id = figure_id;\n",
       "\n",
       "    this.ws = websocket;\n",
       "\n",
       "    this.supports_binary = (this.ws.binaryType != undefined);\n",
       "\n",
       "    if (!this.supports_binary) {\n",
       "        var warnings = document.getElementById(\"mpl-warnings\");\n",
       "        if (warnings) {\n",
       "            warnings.style.display = 'block';\n",
       "            warnings.textContent = (\n",
       "                \"This browser does not support binary websocket messages. \" +\n",
       "                    \"Performance may be slow.\");\n",
       "        }\n",
       "    }\n",
       "\n",
       "    this.imageObj = new Image();\n",
       "\n",
       "    this.context = undefined;\n",
       "    this.message = undefined;\n",
       "    this.canvas = undefined;\n",
       "    this.rubberband_canvas = undefined;\n",
       "    this.rubberband_context = undefined;\n",
       "    this.format_dropdown = undefined;\n",
       "\n",
       "    this.image_mode = 'full';\n",
       "\n",
       "    this.root = $('<div/>');\n",
       "    this._root_extra_style(this.root)\n",
       "    this.root.attr('style', 'display: inline-block');\n",
       "\n",
       "    $(parent_element).append(this.root);\n",
       "\n",
       "    this._init_header(this);\n",
       "    this._init_canvas(this);\n",
       "    this._init_toolbar(this);\n",
       "\n",
       "    var fig = this;\n",
       "\n",
       "    this.waiting = false;\n",
       "\n",
       "    this.ws.onopen =  function () {\n",
       "            fig.send_message(\"supports_binary\", {value: fig.supports_binary});\n",
       "            fig.send_message(\"send_image_mode\", {});\n",
       "            if (mpl.ratio != 1) {\n",
       "                fig.send_message(\"set_dpi_ratio\", {'dpi_ratio': mpl.ratio});\n",
       "            }\n",
       "            fig.send_message(\"refresh\", {});\n",
       "        }\n",
       "\n",
       "    this.imageObj.onload = function() {\n",
       "            if (fig.image_mode == 'full') {\n",
       "                // Full images could contain transparency (where diff images\n",
       "                // almost always do), so we need to clear the canvas so that\n",
       "                // there is no ghosting.\n",
       "                fig.context.clearRect(0, 0, fig.canvas.width, fig.canvas.height);\n",
       "            }\n",
       "            fig.context.drawImage(fig.imageObj, 0, 0);\n",
       "        };\n",
       "\n",
       "    this.imageObj.onunload = function() {\n",
       "        this.ws.close();\n",
       "    }\n",
       "\n",
       "    this.ws.onmessage = this._make_on_message_function(this);\n",
       "\n",
       "    this.ondownload = ondownload;\n",
       "}\n",
       "\n",
       "mpl.figure.prototype._init_header = function() {\n",
       "    var titlebar = $(\n",
       "        '<div class=\"ui-dialog-titlebar ui-widget-header ui-corner-all ' +\n",
       "        'ui-helper-clearfix\"/>');\n",
       "    var titletext = $(\n",
       "        '<div class=\"ui-dialog-title\" style=\"width: 100%; ' +\n",
       "        'text-align: center; padding: 3px;\"/>');\n",
       "    titlebar.append(titletext)\n",
       "    this.root.append(titlebar);\n",
       "    this.header = titletext[0];\n",
       "}\n",
       "\n",
       "\n",
       "\n",
       "mpl.figure.prototype._canvas_extra_style = function(canvas_div) {\n",
       "\n",
       "}\n",
       "\n",
       "\n",
       "mpl.figure.prototype._root_extra_style = function(canvas_div) {\n",
       "\n",
       "}\n",
       "\n",
       "mpl.figure.prototype._init_canvas = function() {\n",
       "    var fig = this;\n",
       "\n",
       "    var canvas_div = $('<div/>');\n",
       "\n",
       "    canvas_div.attr('style', 'position: relative; clear: both; outline: 0');\n",
       "\n",
       "    function canvas_keyboard_event(event) {\n",
       "        return fig.key_event(event, event['data']);\n",
       "    }\n",
       "\n",
       "    canvas_div.keydown('key_press', canvas_keyboard_event);\n",
       "    canvas_div.keyup('key_release', canvas_keyboard_event);\n",
       "    this.canvas_div = canvas_div\n",
       "    this._canvas_extra_style(canvas_div)\n",
       "    this.root.append(canvas_div);\n",
       "\n",
       "    var canvas = $('<canvas/>');\n",
       "    canvas.addClass('mpl-canvas');\n",
       "    canvas.attr('style', \"left: 0; top: 0; z-index: 0; outline: 0\")\n",
       "\n",
       "    this.canvas = canvas[0];\n",
       "    this.context = canvas[0].getContext(\"2d\");\n",
       "\n",
       "    var backingStore = this.context.backingStorePixelRatio ||\n",
       "\tthis.context.webkitBackingStorePixelRatio ||\n",
       "\tthis.context.mozBackingStorePixelRatio ||\n",
       "\tthis.context.msBackingStorePixelRatio ||\n",
       "\tthis.context.oBackingStorePixelRatio ||\n",
       "\tthis.context.backingStorePixelRatio || 1;\n",
       "\n",
       "    mpl.ratio = (window.devicePixelRatio || 1) / backingStore;\n",
       "\n",
       "    var rubberband = $('<canvas/>');\n",
       "    rubberband.attr('style', \"position: absolute; left: 0; top: 0; z-index: 1;\")\n",
       "\n",
       "    var pass_mouse_events = true;\n",
       "\n",
       "    canvas_div.resizable({\n",
       "        start: function(event, ui) {\n",
       "            pass_mouse_events = false;\n",
       "        },\n",
       "        resize: function(event, ui) {\n",
       "            fig.request_resize(ui.size.width, ui.size.height);\n",
       "        },\n",
       "        stop: function(event, ui) {\n",
       "            pass_mouse_events = true;\n",
       "            fig.request_resize(ui.size.width, ui.size.height);\n",
       "        },\n",
       "    });\n",
       "\n",
       "    function mouse_event_fn(event) {\n",
       "        if (pass_mouse_events)\n",
       "            return fig.mouse_event(event, event['data']);\n",
       "    }\n",
       "\n",
       "    rubberband.mousedown('button_press', mouse_event_fn);\n",
       "    rubberband.mouseup('button_release', mouse_event_fn);\n",
       "    // Throttle sequential mouse events to 1 every 20ms.\n",
       "    rubberband.mousemove('motion_notify', mouse_event_fn);\n",
       "\n",
       "    rubberband.mouseenter('figure_enter', mouse_event_fn);\n",
       "    rubberband.mouseleave('figure_leave', mouse_event_fn);\n",
       "\n",
       "    canvas_div.on(\"wheel\", function (event) {\n",
       "        event = event.originalEvent;\n",
       "        event['data'] = 'scroll'\n",
       "        if (event.deltaY < 0) {\n",
       "            event.step = 1;\n",
       "        } else {\n",
       "            event.step = -1;\n",
       "        }\n",
       "        mouse_event_fn(event);\n",
       "    });\n",
       "\n",
       "    canvas_div.append(canvas);\n",
       "    canvas_div.append(rubberband);\n",
       "\n",
       "    this.rubberband = rubberband;\n",
       "    this.rubberband_canvas = rubberband[0];\n",
       "    this.rubberband_context = rubberband[0].getContext(\"2d\");\n",
       "    this.rubberband_context.strokeStyle = \"#000000\";\n",
       "\n",
       "    this._resize_canvas = function(width, height) {\n",
       "        // Keep the size of the canvas, canvas container, and rubber band\n",
       "        // canvas in synch.\n",
       "        canvas_div.css('width', width)\n",
       "        canvas_div.css('height', height)\n",
       "\n",
       "        canvas.attr('width', width * mpl.ratio);\n",
       "        canvas.attr('height', height * mpl.ratio);\n",
       "        canvas.attr('style', 'width: ' + width + 'px; height: ' + height + 'px;');\n",
       "\n",
       "        rubberband.attr('width', width);\n",
       "        rubberband.attr('height', height);\n",
       "    }\n",
       "\n",
       "    // Set the figure to an initial 600x600px, this will subsequently be updated\n",
       "    // upon first draw.\n",
       "    this._resize_canvas(600, 600);\n",
       "\n",
       "    // Disable right mouse context menu.\n",
       "    $(this.rubberband_canvas).bind(\"contextmenu\",function(e){\n",
       "        return false;\n",
       "    });\n",
       "\n",
       "    function set_focus () {\n",
       "        canvas.focus();\n",
       "        canvas_div.focus();\n",
       "    }\n",
       "\n",
       "    window.setTimeout(set_focus, 100);\n",
       "}\n",
       "\n",
       "mpl.figure.prototype._init_toolbar = function() {\n",
       "    var fig = this;\n",
       "\n",
       "    var nav_element = $('<div/>')\n",
       "    nav_element.attr('style', 'width: 100%');\n",
       "    this.root.append(nav_element);\n",
       "\n",
       "    // Define a callback function for later on.\n",
       "    function toolbar_event(event) {\n",
       "        return fig.toolbar_button_onclick(event['data']);\n",
       "    }\n",
       "    function toolbar_mouse_event(event) {\n",
       "        return fig.toolbar_button_onmouseover(event['data']);\n",
       "    }\n",
       "\n",
       "    for(var toolbar_ind in mpl.toolbar_items) {\n",
       "        var name = mpl.toolbar_items[toolbar_ind][0];\n",
       "        var tooltip = mpl.toolbar_items[toolbar_ind][1];\n",
       "        var image = mpl.toolbar_items[toolbar_ind][2];\n",
       "        var method_name = mpl.toolbar_items[toolbar_ind][3];\n",
       "\n",
       "        if (!name) {\n",
       "            // put a spacer in here.\n",
       "            continue;\n",
       "        }\n",
       "        var button = $('<button/>');\n",
       "        button.addClass('ui-button ui-widget ui-state-default ui-corner-all ' +\n",
       "                        'ui-button-icon-only');\n",
       "        button.attr('role', 'button');\n",
       "        button.attr('aria-disabled', 'false');\n",
       "        button.click(method_name, toolbar_event);\n",
       "        button.mouseover(tooltip, toolbar_mouse_event);\n",
       "\n",
       "        var icon_img = $('<span/>');\n",
       "        icon_img.addClass('ui-button-icon-primary ui-icon');\n",
       "        icon_img.addClass(image);\n",
       "        icon_img.addClass('ui-corner-all');\n",
       "\n",
       "        var tooltip_span = $('<span/>');\n",
       "        tooltip_span.addClass('ui-button-text');\n",
       "        tooltip_span.html(tooltip);\n",
       "\n",
       "        button.append(icon_img);\n",
       "        button.append(tooltip_span);\n",
       "\n",
       "        nav_element.append(button);\n",
       "    }\n",
       "\n",
       "    var fmt_picker_span = $('<span/>');\n",
       "\n",
       "    var fmt_picker = $('<select/>');\n",
       "    fmt_picker.addClass('mpl-toolbar-option ui-widget ui-widget-content');\n",
       "    fmt_picker_span.append(fmt_picker);\n",
       "    nav_element.append(fmt_picker_span);\n",
       "    this.format_dropdown = fmt_picker[0];\n",
       "\n",
       "    for (var ind in mpl.extensions) {\n",
       "        var fmt = mpl.extensions[ind];\n",
       "        var option = $(\n",
       "            '<option/>', {selected: fmt === mpl.default_extension}).html(fmt);\n",
       "        fmt_picker.append(option)\n",
       "    }\n",
       "\n",
       "    // Add hover states to the ui-buttons\n",
       "    $( \".ui-button\" ).hover(\n",
       "        function() { $(this).addClass(\"ui-state-hover\");},\n",
       "        function() { $(this).removeClass(\"ui-state-hover\");}\n",
       "    );\n",
       "\n",
       "    var status_bar = $('<span class=\"mpl-message\"/>');\n",
       "    nav_element.append(status_bar);\n",
       "    this.message = status_bar[0];\n",
       "}\n",
       "\n",
       "mpl.figure.prototype.request_resize = function(x_pixels, y_pixels) {\n",
       "    // Request matplotlib to resize the figure. Matplotlib will then trigger a resize in the client,\n",
       "    // which will in turn request a refresh of the image.\n",
       "    this.send_message('resize', {'width': x_pixels, 'height': y_pixels});\n",
       "}\n",
       "\n",
       "mpl.figure.prototype.send_message = function(type, properties) {\n",
       "    properties['type'] = type;\n",
       "    properties['figure_id'] = this.id;\n",
       "    this.ws.send(JSON.stringify(properties));\n",
       "}\n",
       "\n",
       "mpl.figure.prototype.send_draw_message = function() {\n",
       "    if (!this.waiting) {\n",
       "        this.waiting = true;\n",
       "        this.ws.send(JSON.stringify({type: \"draw\", figure_id: this.id}));\n",
       "    }\n",
       "}\n",
       "\n",
       "\n",
       "mpl.figure.prototype.handle_save = function(fig, msg) {\n",
       "    var format_dropdown = fig.format_dropdown;\n",
       "    var format = format_dropdown.options[format_dropdown.selectedIndex].value;\n",
       "    fig.ondownload(fig, format);\n",
       "}\n",
       "\n",
       "\n",
       "mpl.figure.prototype.handle_resize = function(fig, msg) {\n",
       "    var size = msg['size'];\n",
       "    if (size[0] != fig.canvas.width || size[1] != fig.canvas.height) {\n",
       "        fig._resize_canvas(size[0], size[1]);\n",
       "        fig.send_message(\"refresh\", {});\n",
       "    };\n",
       "}\n",
       "\n",
       "mpl.figure.prototype.handle_rubberband = function(fig, msg) {\n",
       "    var x0 = msg['x0'] / mpl.ratio;\n",
       "    var y0 = (fig.canvas.height - msg['y0']) / mpl.ratio;\n",
       "    var x1 = msg['x1'] / mpl.ratio;\n",
       "    var y1 = (fig.canvas.height - msg['y1']) / mpl.ratio;\n",
       "    x0 = Math.floor(x0) + 0.5;\n",
       "    y0 = Math.floor(y0) + 0.5;\n",
       "    x1 = Math.floor(x1) + 0.5;\n",
       "    y1 = Math.floor(y1) + 0.5;\n",
       "    var min_x = Math.min(x0, x1);\n",
       "    var min_y = Math.min(y0, y1);\n",
       "    var width = Math.abs(x1 - x0);\n",
       "    var height = Math.abs(y1 - y0);\n",
       "\n",
       "    fig.rubberband_context.clearRect(\n",
       "        0, 0, fig.canvas.width, fig.canvas.height);\n",
       "\n",
       "    fig.rubberband_context.strokeRect(min_x, min_y, width, height);\n",
       "}\n",
       "\n",
       "mpl.figure.prototype.handle_figure_label = function(fig, msg) {\n",
       "    // Updates the figure title.\n",
       "    fig.header.textContent = msg['label'];\n",
       "}\n",
       "\n",
       "mpl.figure.prototype.handle_cursor = function(fig, msg) {\n",
       "    var cursor = msg['cursor'];\n",
       "    switch(cursor)\n",
       "    {\n",
       "    case 0:\n",
       "        cursor = 'pointer';\n",
       "        break;\n",
       "    case 1:\n",
       "        cursor = 'default';\n",
       "        break;\n",
       "    case 2:\n",
       "        cursor = 'crosshair';\n",
       "        break;\n",
       "    case 3:\n",
       "        cursor = 'move';\n",
       "        break;\n",
       "    }\n",
       "    fig.rubberband_canvas.style.cursor = cursor;\n",
       "}\n",
       "\n",
       "mpl.figure.prototype.handle_message = function(fig, msg) {\n",
       "    fig.message.textContent = msg['message'];\n",
       "}\n",
       "\n",
       "mpl.figure.prototype.handle_draw = function(fig, msg) {\n",
       "    // Request the server to send over a new figure.\n",
       "    fig.send_draw_message();\n",
       "}\n",
       "\n",
       "mpl.figure.prototype.handle_image_mode = function(fig, msg) {\n",
       "    fig.image_mode = msg['mode'];\n",
       "}\n",
       "\n",
       "mpl.figure.prototype.updated_canvas_event = function() {\n",
       "    // Called whenever the canvas gets updated.\n",
       "    this.send_message(\"ack\", {});\n",
       "}\n",
       "\n",
       "// A function to construct a web socket function for onmessage handling.\n",
       "// Called in the figure constructor.\n",
       "mpl.figure.prototype._make_on_message_function = function(fig) {\n",
       "    return function socket_on_message(evt) {\n",
       "        if (evt.data instanceof Blob) {\n",
       "            /* FIXME: We get \"Resource interpreted as Image but\n",
       "             * transferred with MIME type text/plain:\" errors on\n",
       "             * Chrome.  But how to set the MIME type?  It doesn't seem\n",
       "             * to be part of the websocket stream */\n",
       "            evt.data.type = \"image/png\";\n",
       "\n",
       "            /* Free the memory for the previous frames */\n",
       "            if (fig.imageObj.src) {\n",
       "                (window.URL || window.webkitURL).revokeObjectURL(\n",
       "                    fig.imageObj.src);\n",
       "            }\n",
       "\n",
       "            fig.imageObj.src = (window.URL || window.webkitURL).createObjectURL(\n",
       "                evt.data);\n",
       "            fig.updated_canvas_event();\n",
       "            fig.waiting = false;\n",
       "            return;\n",
       "        }\n",
       "        else if (typeof evt.data === 'string' && evt.data.slice(0, 21) == \"data:image/png;base64\") {\n",
       "            fig.imageObj.src = evt.data;\n",
       "            fig.updated_canvas_event();\n",
       "            fig.waiting = false;\n",
       "            return;\n",
       "        }\n",
       "\n",
       "        var msg = JSON.parse(evt.data);\n",
       "        var msg_type = msg['type'];\n",
       "\n",
       "        // Call the  \"handle_{type}\" callback, which takes\n",
       "        // the figure and JSON message as its only arguments.\n",
       "        try {\n",
       "            var callback = fig[\"handle_\" + msg_type];\n",
       "        } catch (e) {\n",
       "            console.log(\"No handler for the '\" + msg_type + \"' message type: \", msg);\n",
       "            return;\n",
       "        }\n",
       "\n",
       "        if (callback) {\n",
       "            try {\n",
       "                // console.log(\"Handling '\" + msg_type + \"' message: \", msg);\n",
       "                callback(fig, msg);\n",
       "            } catch (e) {\n",
       "                console.log(\"Exception inside the 'handler_\" + msg_type + \"' callback:\", e, e.stack, msg);\n",
       "            }\n",
       "        }\n",
       "    };\n",
       "}\n",
       "\n",
       "// from http://stackoverflow.com/questions/1114465/getting-mouse-location-in-canvas\n",
       "mpl.findpos = function(e) {\n",
       "    //this section is from http://www.quirksmode.org/js/events_properties.html\n",
       "    var targ;\n",
       "    if (!e)\n",
       "        e = window.event;\n",
       "    if (e.target)\n",
       "        targ = e.target;\n",
       "    else if (e.srcElement)\n",
       "        targ = e.srcElement;\n",
       "    if (targ.nodeType == 3) // defeat Safari bug\n",
       "        targ = targ.parentNode;\n",
       "\n",
       "    // jQuery normalizes the pageX and pageY\n",
       "    // pageX,Y are the mouse positions relative to the document\n",
       "    // offset() returns the position of the element relative to the document\n",
       "    var x = e.pageX - $(targ).offset().left;\n",
       "    var y = e.pageY - $(targ).offset().top;\n",
       "\n",
       "    return {\"x\": x, \"y\": y};\n",
       "};\n",
       "\n",
       "/*\n",
       " * return a copy of an object with only non-object keys\n",
       " * we need this to avoid circular references\n",
       " * http://stackoverflow.com/a/24161582/3208463\n",
       " */\n",
       "function simpleKeys (original) {\n",
       "  return Object.keys(original).reduce(function (obj, key) {\n",
       "    if (typeof original[key] !== 'object')\n",
       "        obj[key] = original[key]\n",
       "    return obj;\n",
       "  }, {});\n",
       "}\n",
       "\n",
       "mpl.figure.prototype.mouse_event = function(event, name) {\n",
       "    var canvas_pos = mpl.findpos(event)\n",
       "\n",
       "    if (name === 'button_press')\n",
       "    {\n",
       "        this.canvas.focus();\n",
       "        this.canvas_div.focus();\n",
       "    }\n",
       "\n",
       "    var x = canvas_pos.x * mpl.ratio;\n",
       "    var y = canvas_pos.y * mpl.ratio;\n",
       "\n",
       "    this.send_message(name, {x: x, y: y, button: event.button,\n",
       "                             step: event.step,\n",
       "                             guiEvent: simpleKeys(event)});\n",
       "\n",
       "    /* This prevents the web browser from automatically changing to\n",
       "     * the text insertion cursor when the button is pressed.  We want\n",
       "     * to control all of the cursor setting manually through the\n",
       "     * 'cursor' event from matplotlib */\n",
       "    event.preventDefault();\n",
       "    return false;\n",
       "}\n",
       "\n",
       "mpl.figure.prototype._key_event_extra = function(event, name) {\n",
       "    // Handle any extra behaviour associated with a key event\n",
       "}\n",
       "\n",
       "mpl.figure.prototype.key_event = function(event, name) {\n",
       "\n",
       "    // Prevent repeat events\n",
       "    if (name == 'key_press')\n",
       "    {\n",
       "        if (event.which === this._key)\n",
       "            return;\n",
       "        else\n",
       "            this._key = event.which;\n",
       "    }\n",
       "    if (name == 'key_release')\n",
       "        this._key = null;\n",
       "\n",
       "    var value = '';\n",
       "    if (event.ctrlKey && event.which != 17)\n",
       "        value += \"ctrl+\";\n",
       "    if (event.altKey && event.which != 18)\n",
       "        value += \"alt+\";\n",
       "    if (event.shiftKey && event.which != 16)\n",
       "        value += \"shift+\";\n",
       "\n",
       "    value += 'k';\n",
       "    value += event.which.toString();\n",
       "\n",
       "    this._key_event_extra(event, name);\n",
       "\n",
       "    this.send_message(name, {key: value,\n",
       "                             guiEvent: simpleKeys(event)});\n",
       "    return false;\n",
       "}\n",
       "\n",
       "mpl.figure.prototype.toolbar_button_onclick = function(name) {\n",
       "    if (name == 'download') {\n",
       "        this.handle_save(this, null);\n",
       "    } else {\n",
       "        this.send_message(\"toolbar_button\", {name: name});\n",
       "    }\n",
       "};\n",
       "\n",
       "mpl.figure.prototype.toolbar_button_onmouseover = function(tooltip) {\n",
       "    this.message.textContent = tooltip;\n",
       "};\n",
       "mpl.toolbar_items = [[\"Home\", \"Reset original view\", \"fa fa-home icon-home\", \"home\"], [\"Back\", \"Back to  previous view\", \"fa fa-arrow-left icon-arrow-left\", \"back\"], [\"Forward\", \"Forward to next view\", \"fa fa-arrow-right icon-arrow-right\", \"forward\"], [\"\", \"\", \"\", \"\"], [\"Pan\", \"Pan axes with left mouse, zoom with right\", \"fa fa-arrows icon-move\", \"pan\"], [\"Zoom\", \"Zoom to rectangle\", \"fa fa-square-o icon-check-empty\", \"zoom\"], [\"\", \"\", \"\", \"\"], [\"Download\", \"Download plot\", \"fa fa-floppy-o icon-save\", \"download\"]];\n",
       "\n",
       "mpl.extensions = [\"eps\", \"jpeg\", \"pdf\", \"png\", \"ps\", \"raw\", \"svg\", \"tif\"];\n",
       "\n",
       "mpl.default_extension = \"png\";var comm_websocket_adapter = function(comm) {\n",
       "    // Create a \"websocket\"-like object which calls the given IPython comm\n",
       "    // object with the appropriate methods. Currently this is a non binary\n",
       "    // socket, so there is still some room for performance tuning.\n",
       "    var ws = {};\n",
       "\n",
       "    ws.close = function() {\n",
       "        comm.close()\n",
       "    };\n",
       "    ws.send = function(m) {\n",
       "        //console.log('sending', m);\n",
       "        comm.send(m);\n",
       "    };\n",
       "    // Register the callback with on_msg.\n",
       "    comm.on_msg(function(msg) {\n",
       "        //console.log('receiving', msg['content']['data'], msg);\n",
       "        // Pass the mpl event to the overriden (by mpl) onmessage function.\n",
       "        ws.onmessage(msg['content']['data'])\n",
       "    });\n",
       "    return ws;\n",
       "}\n",
       "\n",
       "mpl.mpl_figure_comm = function(comm, msg) {\n",
       "    // This is the function which gets called when the mpl process\n",
       "    // starts-up an IPython Comm through the \"matplotlib\" channel.\n",
       "\n",
       "    var id = msg.content.data.id;\n",
       "    // Get hold of the div created by the display call when the Comm\n",
       "    // socket was opened in Python.\n",
       "    var element = $(\"#\" + id);\n",
       "    var ws_proxy = comm_websocket_adapter(comm)\n",
       "\n",
       "    function ondownload(figure, format) {\n",
       "        window.open(figure.imageObj.src);\n",
       "    }\n",
       "\n",
       "    var fig = new mpl.figure(id, ws_proxy,\n",
       "                           ondownload,\n",
       "                           element.get(0));\n",
       "\n",
       "    // Call onopen now - mpl needs it, as it is assuming we've passed it a real\n",
       "    // web socket which is closed, not our websocket->open comm proxy.\n",
       "    ws_proxy.onopen();\n",
       "\n",
       "    fig.parent_element = element.get(0);\n",
       "    fig.cell_info = mpl.find_output_cell(\"<div id='\" + id + \"'></div>\");\n",
       "    if (!fig.cell_info) {\n",
       "        console.error(\"Failed to find cell for figure\", id, fig);\n",
       "        return;\n",
       "    }\n",
       "\n",
       "    var output_index = fig.cell_info[2]\n",
       "    var cell = fig.cell_info[0];\n",
       "\n",
       "};\n",
       "\n",
       "mpl.figure.prototype.handle_close = function(fig, msg) {\n",
       "    var width = fig.canvas.width/mpl.ratio\n",
       "    fig.root.unbind('remove')\n",
       "\n",
       "    // Update the output cell to use the data from the current canvas.\n",
       "    fig.push_to_output();\n",
       "    var dataURL = fig.canvas.toDataURL();\n",
       "    // Re-enable the keyboard manager in IPython - without this line, in FF,\n",
       "    // the notebook keyboard shortcuts fail.\n",
       "    IPython.keyboard_manager.enable()\n",
       "    $(fig.parent_element).html('<img src=\"' + dataURL + '\" width=\"' + width + '\">');\n",
       "    fig.close_ws(fig, msg);\n",
       "}\n",
       "\n",
       "mpl.figure.prototype.close_ws = function(fig, msg){\n",
       "    fig.send_message('closing', msg);\n",
       "    // fig.ws.close()\n",
       "}\n",
       "\n",
       "mpl.figure.prototype.push_to_output = function(remove_interactive) {\n",
       "    // Turn the data on the canvas into data in the output cell.\n",
       "    var width = this.canvas.width/mpl.ratio\n",
       "    var dataURL = this.canvas.toDataURL();\n",
       "    this.cell_info[1]['text/html'] = '<img src=\"' + dataURL + '\" width=\"' + width + '\">';\n",
       "}\n",
       "\n",
       "mpl.figure.prototype.updated_canvas_event = function() {\n",
       "    // Tell IPython that the notebook contents must change.\n",
       "    IPython.notebook.set_dirty(true);\n",
       "    this.send_message(\"ack\", {});\n",
       "    var fig = this;\n",
       "    // Wait a second, then push the new image to the DOM so\n",
       "    // that it is saved nicely (might be nice to debounce this).\n",
       "    setTimeout(function () { fig.push_to_output() }, 1000);\n",
       "}\n",
       "\n",
       "mpl.figure.prototype._init_toolbar = function() {\n",
       "    var fig = this;\n",
       "\n",
       "    var nav_element = $('<div/>')\n",
       "    nav_element.attr('style', 'width: 100%');\n",
       "    this.root.append(nav_element);\n",
       "\n",
       "    // Define a callback function for later on.\n",
       "    function toolbar_event(event) {\n",
       "        return fig.toolbar_button_onclick(event['data']);\n",
       "    }\n",
       "    function toolbar_mouse_event(event) {\n",
       "        return fig.toolbar_button_onmouseover(event['data']);\n",
       "    }\n",
       "\n",
       "    for(var toolbar_ind in mpl.toolbar_items){\n",
       "        var name = mpl.toolbar_items[toolbar_ind][0];\n",
       "        var tooltip = mpl.toolbar_items[toolbar_ind][1];\n",
       "        var image = mpl.toolbar_items[toolbar_ind][2];\n",
       "        var method_name = mpl.toolbar_items[toolbar_ind][3];\n",
       "\n",
       "        if (!name) { continue; };\n",
       "\n",
       "        var button = $('<button class=\"btn btn-default\" href=\"#\" title=\"' + name + '\"><i class=\"fa ' + image + ' fa-lg\"></i></button>');\n",
       "        button.click(method_name, toolbar_event);\n",
       "        button.mouseover(tooltip, toolbar_mouse_event);\n",
       "        nav_element.append(button);\n",
       "    }\n",
       "\n",
       "    // Add the status bar.\n",
       "    var status_bar = $('<span class=\"mpl-message\" style=\"text-align:right; float: right;\"/>');\n",
       "    nav_element.append(status_bar);\n",
       "    this.message = status_bar[0];\n",
       "\n",
       "    // Add the close button to the window.\n",
       "    var buttongrp = $('<div class=\"btn-group inline pull-right\"></div>');\n",
       "    var button = $('<button class=\"btn btn-mini btn-primary\" href=\"#\" title=\"Stop Interaction\"><i class=\"fa fa-power-off icon-remove icon-large\"></i></button>');\n",
       "    button.click(function (evt) { fig.handle_close(fig, {}); } );\n",
       "    button.mouseover('Stop Interaction', toolbar_mouse_event);\n",
       "    buttongrp.append(button);\n",
       "    var titlebar = this.root.find($('.ui-dialog-titlebar'));\n",
       "    titlebar.prepend(buttongrp);\n",
       "}\n",
       "\n",
       "mpl.figure.prototype._root_extra_style = function(el){\n",
       "    var fig = this\n",
       "    el.on(\"remove\", function(){\n",
       "\tfig.close_ws(fig, {});\n",
       "    });\n",
       "}\n",
       "\n",
       "mpl.figure.prototype._canvas_extra_style = function(el){\n",
       "    // this is important to make the div 'focusable\n",
       "    el.attr('tabindex', 0)\n",
       "    // reach out to IPython and tell the keyboard manager to turn it's self\n",
       "    // off when our div gets focus\n",
       "\n",
       "    // location in version 3\n",
       "    if (IPython.notebook.keyboard_manager) {\n",
       "        IPython.notebook.keyboard_manager.register_events(el);\n",
       "    }\n",
       "    else {\n",
       "        // location in version 2\n",
       "        IPython.keyboard_manager.register_events(el);\n",
       "    }\n",
       "\n",
       "}\n",
       "\n",
       "mpl.figure.prototype._key_event_extra = function(event, name) {\n",
       "    var manager = IPython.notebook.keyboard_manager;\n",
       "    if (!manager)\n",
       "        manager = IPython.keyboard_manager;\n",
       "\n",
       "    // Check for shift+enter\n",
       "    if (event.shiftKey && event.which == 13) {\n",
       "        this.canvas_div.blur();\n",
       "        // select the cell after this one\n",
       "        var index = IPython.notebook.find_cell_index(this.cell_info[0]);\n",
       "        IPython.notebook.select(index + 1);\n",
       "    }\n",
       "}\n",
       "\n",
       "mpl.figure.prototype.handle_save = function(fig, msg) {\n",
       "    fig.ondownload(fig, null);\n",
       "}\n",
       "\n",
       "\n",
       "mpl.find_output_cell = function(html_output) {\n",
       "    // Return the cell and output element which can be found *uniquely* in the notebook.\n",
       "    // Note - this is a bit hacky, but it is done because the \"notebook_saving.Notebook\"\n",
       "    // IPython event is triggered only after the cells have been serialised, which for\n",
       "    // our purposes (turning an active figure into a static one), is too late.\n",
       "    var cells = IPython.notebook.get_cells();\n",
       "    var ncells = cells.length;\n",
       "    for (var i=0; i<ncells; i++) {\n",
       "        var cell = cells[i];\n",
       "        if (cell.cell_type === 'code'){\n",
       "            for (var j=0; j<cell.output_area.outputs.length; j++) {\n",
       "                var data = cell.output_area.outputs[j];\n",
       "                if (data.data) {\n",
       "                    // IPython >= 3 moved mimebundle to data attribute of output\n",
       "                    data = data.data;\n",
       "                }\n",
       "                if (data['text/html'] == html_output) {\n",
       "                    return [cell, data, j];\n",
       "                }\n",
       "            }\n",
       "        }\n",
       "    }\n",
       "}\n",
       "\n",
       "// Register the function which deals with the matplotlib target/channel.\n",
       "// The kernel may be null if the page has been refreshed.\n",
       "if (IPython.notebook.kernel != null) {\n",
       "    IPython.notebook.kernel.comm_manager.register_target('matplotlib', mpl.mpl_figure_comm);\n",
       "}\n"
      ],
      "text/plain": [
       "<IPython.core.display.Javascript object>"
      ]
     },
     "metadata": {},
     "output_type": "display_data"
    },
    {
     "data": {
      "text/html": [
       "<img src=\"data:image/png;base64,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\" width=\"600\">"
      ],
      "text/plain": [
       "<IPython.core.display.HTML object>"
      ]
     },
     "metadata": {},
     "output_type": "display_data"
    }
   ],
   "source": [
    "plt.figure(figsize=(6,4))\n",
    "plot_sqe(iqe)\n",
    "# plt.xlim(0, 11)\n",
    "plt.clim(0,12)"
   ]
  },
  {
   "cell_type": "markdown",
   "metadata": {},
   "source": [
    "You can improve the Q,E grid parameters if you like, by re-executing the above cell of\n",
    "\n",
    "`QEGridWizardStart(context).show()`"
   ]
  },
  {
   "cell_type": "markdown",
   "metadata": {},
   "source": [
    "Plot I(E)"
   ]
  },
  {
   "cell_type": "code",
   "execution_count": 34,
   "metadata": {},
   "outputs": [
    {
     "data": {
      "application/javascript": [
       "/* Put everything inside the global mpl namespace */\n",
       "window.mpl = {};\n",
       "\n",
       "\n",
       "mpl.get_websocket_type = function() {\n",
       "    if (typeof(WebSocket) !== 'undefined') {\n",
       "        return WebSocket;\n",
       "    } else if (typeof(MozWebSocket) !== 'undefined') {\n",
       "        return MozWebSocket;\n",
       "    } else {\n",
       "        alert('Your browser does not have WebSocket support.' +\n",
       "              'Please try Chrome, Safari or Firefox ≥ 6. ' +\n",
       "              'Firefox 4 and 5 are also supported but you ' +\n",
       "              'have to enable WebSockets in about:config.');\n",
       "    };\n",
       "}\n",
       "\n",
       "mpl.figure = function(figure_id, websocket, ondownload, parent_element) {\n",
       "    this.id = figure_id;\n",
       "\n",
       "    this.ws = websocket;\n",
       "\n",
       "    this.supports_binary = (this.ws.binaryType != undefined);\n",
       "\n",
       "    if (!this.supports_binary) {\n",
       "        var warnings = document.getElementById(\"mpl-warnings\");\n",
       "        if (warnings) {\n",
       "            warnings.style.display = 'block';\n",
       "            warnings.textContent = (\n",
       "                \"This browser does not support binary websocket messages. \" +\n",
       "                    \"Performance may be slow.\");\n",
       "        }\n",
       "    }\n",
       "\n",
       "    this.imageObj = new Image();\n",
       "\n",
       "    this.context = undefined;\n",
       "    this.message = undefined;\n",
       "    this.canvas = undefined;\n",
       "    this.rubberband_canvas = undefined;\n",
       "    this.rubberband_context = undefined;\n",
       "    this.format_dropdown = undefined;\n",
       "\n",
       "    this.image_mode = 'full';\n",
       "\n",
       "    this.root = $('<div/>');\n",
       "    this._root_extra_style(this.root)\n",
       "    this.root.attr('style', 'display: inline-block');\n",
       "\n",
       "    $(parent_element).append(this.root);\n",
       "\n",
       "    this._init_header(this);\n",
       "    this._init_canvas(this);\n",
       "    this._init_toolbar(this);\n",
       "\n",
       "    var fig = this;\n",
       "\n",
       "    this.waiting = false;\n",
       "\n",
       "    this.ws.onopen =  function () {\n",
       "            fig.send_message(\"supports_binary\", {value: fig.supports_binary});\n",
       "            fig.send_message(\"send_image_mode\", {});\n",
       "            if (mpl.ratio != 1) {\n",
       "                fig.send_message(\"set_dpi_ratio\", {'dpi_ratio': mpl.ratio});\n",
       "            }\n",
       "            fig.send_message(\"refresh\", {});\n",
       "        }\n",
       "\n",
       "    this.imageObj.onload = function() {\n",
       "            if (fig.image_mode == 'full') {\n",
       "                // Full images could contain transparency (where diff images\n",
       "                // almost always do), so we need to clear the canvas so that\n",
       "                // there is no ghosting.\n",
       "                fig.context.clearRect(0, 0, fig.canvas.width, fig.canvas.height);\n",
       "            }\n",
       "            fig.context.drawImage(fig.imageObj, 0, 0);\n",
       "        };\n",
       "\n",
       "    this.imageObj.onunload = function() {\n",
       "        this.ws.close();\n",
       "    }\n",
       "\n",
       "    this.ws.onmessage = this._make_on_message_function(this);\n",
       "\n",
       "    this.ondownload = ondownload;\n",
       "}\n",
       "\n",
       "mpl.figure.prototype._init_header = function() {\n",
       "    var titlebar = $(\n",
       "        '<div class=\"ui-dialog-titlebar ui-widget-header ui-corner-all ' +\n",
       "        'ui-helper-clearfix\"/>');\n",
       "    var titletext = $(\n",
       "        '<div class=\"ui-dialog-title\" style=\"width: 100%; ' +\n",
       "        'text-align: center; padding: 3px;\"/>');\n",
       "    titlebar.append(titletext)\n",
       "    this.root.append(titlebar);\n",
       "    this.header = titletext[0];\n",
       "}\n",
       "\n",
       "\n",
       "\n",
       "mpl.figure.prototype._canvas_extra_style = function(canvas_div) {\n",
       "\n",
       "}\n",
       "\n",
       "\n",
       "mpl.figure.prototype._root_extra_style = function(canvas_div) {\n",
       "\n",
       "}\n",
       "\n",
       "mpl.figure.prototype._init_canvas = function() {\n",
       "    var fig = this;\n",
       "\n",
       "    var canvas_div = $('<div/>');\n",
       "\n",
       "    canvas_div.attr('style', 'position: relative; clear: both; outline: 0');\n",
       "\n",
       "    function canvas_keyboard_event(event) {\n",
       "        return fig.key_event(event, event['data']);\n",
       "    }\n",
       "\n",
       "    canvas_div.keydown('key_press', canvas_keyboard_event);\n",
       "    canvas_div.keyup('key_release', canvas_keyboard_event);\n",
       "    this.canvas_div = canvas_div\n",
       "    this._canvas_extra_style(canvas_div)\n",
       "    this.root.append(canvas_div);\n",
       "\n",
       "    var canvas = $('<canvas/>');\n",
       "    canvas.addClass('mpl-canvas');\n",
       "    canvas.attr('style', \"left: 0; top: 0; z-index: 0; outline: 0\")\n",
       "\n",
       "    this.canvas = canvas[0];\n",
       "    this.context = canvas[0].getContext(\"2d\");\n",
       "\n",
       "    var backingStore = this.context.backingStorePixelRatio ||\n",
       "\tthis.context.webkitBackingStorePixelRatio ||\n",
       "\tthis.context.mozBackingStorePixelRatio ||\n",
       "\tthis.context.msBackingStorePixelRatio ||\n",
       "\tthis.context.oBackingStorePixelRatio ||\n",
       "\tthis.context.backingStorePixelRatio || 1;\n",
       "\n",
       "    mpl.ratio = (window.devicePixelRatio || 1) / backingStore;\n",
       "\n",
       "    var rubberband = $('<canvas/>');\n",
       "    rubberband.attr('style', \"position: absolute; left: 0; top: 0; z-index: 1;\")\n",
       "\n",
       "    var pass_mouse_events = true;\n",
       "\n",
       "    canvas_div.resizable({\n",
       "        start: function(event, ui) {\n",
       "            pass_mouse_events = false;\n",
       "        },\n",
       "        resize: function(event, ui) {\n",
       "            fig.request_resize(ui.size.width, ui.size.height);\n",
       "        },\n",
       "        stop: function(event, ui) {\n",
       "            pass_mouse_events = true;\n",
       "            fig.request_resize(ui.size.width, ui.size.height);\n",
       "        },\n",
       "    });\n",
       "\n",
       "    function mouse_event_fn(event) {\n",
       "        if (pass_mouse_events)\n",
       "            return fig.mouse_event(event, event['data']);\n",
       "    }\n",
       "\n",
       "    rubberband.mousedown('button_press', mouse_event_fn);\n",
       "    rubberband.mouseup('button_release', mouse_event_fn);\n",
       "    // Throttle sequential mouse events to 1 every 20ms.\n",
       "    rubberband.mousemove('motion_notify', mouse_event_fn);\n",
       "\n",
       "    rubberband.mouseenter('figure_enter', mouse_event_fn);\n",
       "    rubberband.mouseleave('figure_leave', mouse_event_fn);\n",
       "\n",
       "    canvas_div.on(\"wheel\", function (event) {\n",
       "        event = event.originalEvent;\n",
       "        event['data'] = 'scroll'\n",
       "        if (event.deltaY < 0) {\n",
       "            event.step = 1;\n",
       "        } else {\n",
       "            event.step = -1;\n",
       "        }\n",
       "        mouse_event_fn(event);\n",
       "    });\n",
       "\n",
       "    canvas_div.append(canvas);\n",
       "    canvas_div.append(rubberband);\n",
       "\n",
       "    this.rubberband = rubberband;\n",
       "    this.rubberband_canvas = rubberband[0];\n",
       "    this.rubberband_context = rubberband[0].getContext(\"2d\");\n",
       "    this.rubberband_context.strokeStyle = \"#000000\";\n",
       "\n",
       "    this._resize_canvas = function(width, height) {\n",
       "        // Keep the size of the canvas, canvas container, and rubber band\n",
       "        // canvas in synch.\n",
       "        canvas_div.css('width', width)\n",
       "        canvas_div.css('height', height)\n",
       "\n",
       "        canvas.attr('width', width * mpl.ratio);\n",
       "        canvas.attr('height', height * mpl.ratio);\n",
       "        canvas.attr('style', 'width: ' + width + 'px; height: ' + height + 'px;');\n",
       "\n",
       "        rubberband.attr('width', width);\n",
       "        rubberband.attr('height', height);\n",
       "    }\n",
       "\n",
       "    // Set the figure to an initial 600x600px, this will subsequently be updated\n",
       "    // upon first draw.\n",
       "    this._resize_canvas(600, 600);\n",
       "\n",
       "    // Disable right mouse context menu.\n",
       "    $(this.rubberband_canvas).bind(\"contextmenu\",function(e){\n",
       "        return false;\n",
       "    });\n",
       "\n",
       "    function set_focus () {\n",
       "        canvas.focus();\n",
       "        canvas_div.focus();\n",
       "    }\n",
       "\n",
       "    window.setTimeout(set_focus, 100);\n",
       "}\n",
       "\n",
       "mpl.figure.prototype._init_toolbar = function() {\n",
       "    var fig = this;\n",
       "\n",
       "    var nav_element = $('<div/>')\n",
       "    nav_element.attr('style', 'width: 100%');\n",
       "    this.root.append(nav_element);\n",
       "\n",
       "    // Define a callback function for later on.\n",
       "    function toolbar_event(event) {\n",
       "        return fig.toolbar_button_onclick(event['data']);\n",
       "    }\n",
       "    function toolbar_mouse_event(event) {\n",
       "        return fig.toolbar_button_onmouseover(event['data']);\n",
       "    }\n",
       "\n",
       "    for(var toolbar_ind in mpl.toolbar_items) {\n",
       "        var name = mpl.toolbar_items[toolbar_ind][0];\n",
       "        var tooltip = mpl.toolbar_items[toolbar_ind][1];\n",
       "        var image = mpl.toolbar_items[toolbar_ind][2];\n",
       "        var method_name = mpl.toolbar_items[toolbar_ind][3];\n",
       "\n",
       "        if (!name) {\n",
       "            // put a spacer in here.\n",
       "            continue;\n",
       "        }\n",
       "        var button = $('<button/>');\n",
       "        button.addClass('ui-button ui-widget ui-state-default ui-corner-all ' +\n",
       "                        'ui-button-icon-only');\n",
       "        button.attr('role', 'button');\n",
       "        button.attr('aria-disabled', 'false');\n",
       "        button.click(method_name, toolbar_event);\n",
       "        button.mouseover(tooltip, toolbar_mouse_event);\n",
       "\n",
       "        var icon_img = $('<span/>');\n",
       "        icon_img.addClass('ui-button-icon-primary ui-icon');\n",
       "        icon_img.addClass(image);\n",
       "        icon_img.addClass('ui-corner-all');\n",
       "\n",
       "        var tooltip_span = $('<span/>');\n",
       "        tooltip_span.addClass('ui-button-text');\n",
       "        tooltip_span.html(tooltip);\n",
       "\n",
       "        button.append(icon_img);\n",
       "        button.append(tooltip_span);\n",
       "\n",
       "        nav_element.append(button);\n",
       "    }\n",
       "\n",
       "    var fmt_picker_span = $('<span/>');\n",
       "\n",
       "    var fmt_picker = $('<select/>');\n",
       "    fmt_picker.addClass('mpl-toolbar-option ui-widget ui-widget-content');\n",
       "    fmt_picker_span.append(fmt_picker);\n",
       "    nav_element.append(fmt_picker_span);\n",
       "    this.format_dropdown = fmt_picker[0];\n",
       "\n",
       "    for (var ind in mpl.extensions) {\n",
       "        var fmt = mpl.extensions[ind];\n",
       "        var option = $(\n",
       "            '<option/>', {selected: fmt === mpl.default_extension}).html(fmt);\n",
       "        fmt_picker.append(option)\n",
       "    }\n",
       "\n",
       "    // Add hover states to the ui-buttons\n",
       "    $( \".ui-button\" ).hover(\n",
       "        function() { $(this).addClass(\"ui-state-hover\");},\n",
       "        function() { $(this).removeClass(\"ui-state-hover\");}\n",
       "    );\n",
       "\n",
       "    var status_bar = $('<span class=\"mpl-message\"/>');\n",
       "    nav_element.append(status_bar);\n",
       "    this.message = status_bar[0];\n",
       "}\n",
       "\n",
       "mpl.figure.prototype.request_resize = function(x_pixels, y_pixels) {\n",
       "    // Request matplotlib to resize the figure. Matplotlib will then trigger a resize in the client,\n",
       "    // which will in turn request a refresh of the image.\n",
       "    this.send_message('resize', {'width': x_pixels, 'height': y_pixels});\n",
       "}\n",
       "\n",
       "mpl.figure.prototype.send_message = function(type, properties) {\n",
       "    properties['type'] = type;\n",
       "    properties['figure_id'] = this.id;\n",
       "    this.ws.send(JSON.stringify(properties));\n",
       "}\n",
       "\n",
       "mpl.figure.prototype.send_draw_message = function() {\n",
       "    if (!this.waiting) {\n",
       "        this.waiting = true;\n",
       "        this.ws.send(JSON.stringify({type: \"draw\", figure_id: this.id}));\n",
       "    }\n",
       "}\n",
       "\n",
       "\n",
       "mpl.figure.prototype.handle_save = function(fig, msg) {\n",
       "    var format_dropdown = fig.format_dropdown;\n",
       "    var format = format_dropdown.options[format_dropdown.selectedIndex].value;\n",
       "    fig.ondownload(fig, format);\n",
       "}\n",
       "\n",
       "\n",
       "mpl.figure.prototype.handle_resize = function(fig, msg) {\n",
       "    var size = msg['size'];\n",
       "    if (size[0] != fig.canvas.width || size[1] != fig.canvas.height) {\n",
       "        fig._resize_canvas(size[0], size[1]);\n",
       "        fig.send_message(\"refresh\", {});\n",
       "    };\n",
       "}\n",
       "\n",
       "mpl.figure.prototype.handle_rubberband = function(fig, msg) {\n",
       "    var x0 = msg['x0'] / mpl.ratio;\n",
       "    var y0 = (fig.canvas.height - msg['y0']) / mpl.ratio;\n",
       "    var x1 = msg['x1'] / mpl.ratio;\n",
       "    var y1 = (fig.canvas.height - msg['y1']) / mpl.ratio;\n",
       "    x0 = Math.floor(x0) + 0.5;\n",
       "    y0 = Math.floor(y0) + 0.5;\n",
       "    x1 = Math.floor(x1) + 0.5;\n",
       "    y1 = Math.floor(y1) + 0.5;\n",
       "    var min_x = Math.min(x0, x1);\n",
       "    var min_y = Math.min(y0, y1);\n",
       "    var width = Math.abs(x1 - x0);\n",
       "    var height = Math.abs(y1 - y0);\n",
       "\n",
       "    fig.rubberband_context.clearRect(\n",
       "        0, 0, fig.canvas.width, fig.canvas.height);\n",
       "\n",
       "    fig.rubberband_context.strokeRect(min_x, min_y, width, height);\n",
       "}\n",
       "\n",
       "mpl.figure.prototype.handle_figure_label = function(fig, msg) {\n",
       "    // Updates the figure title.\n",
       "    fig.header.textContent = msg['label'];\n",
       "}\n",
       "\n",
       "mpl.figure.prototype.handle_cursor = function(fig, msg) {\n",
       "    var cursor = msg['cursor'];\n",
       "    switch(cursor)\n",
       "    {\n",
       "    case 0:\n",
       "        cursor = 'pointer';\n",
       "        break;\n",
       "    case 1:\n",
       "        cursor = 'default';\n",
       "        break;\n",
       "    case 2:\n",
       "        cursor = 'crosshair';\n",
       "        break;\n",
       "    case 3:\n",
       "        cursor = 'move';\n",
       "        break;\n",
       "    }\n",
       "    fig.rubberband_canvas.style.cursor = cursor;\n",
       "}\n",
       "\n",
       "mpl.figure.prototype.handle_message = function(fig, msg) {\n",
       "    fig.message.textContent = msg['message'];\n",
       "}\n",
       "\n",
       "mpl.figure.prototype.handle_draw = function(fig, msg) {\n",
       "    // Request the server to send over a new figure.\n",
       "    fig.send_draw_message();\n",
       "}\n",
       "\n",
       "mpl.figure.prototype.handle_image_mode = function(fig, msg) {\n",
       "    fig.image_mode = msg['mode'];\n",
       "}\n",
       "\n",
       "mpl.figure.prototype.updated_canvas_event = function() {\n",
       "    // Called whenever the canvas gets updated.\n",
       "    this.send_message(\"ack\", {});\n",
       "}\n",
       "\n",
       "// A function to construct a web socket function for onmessage handling.\n",
       "// Called in the figure constructor.\n",
       "mpl.figure.prototype._make_on_message_function = function(fig) {\n",
       "    return function socket_on_message(evt) {\n",
       "        if (evt.data instanceof Blob) {\n",
       "            /* FIXME: We get \"Resource interpreted as Image but\n",
       "             * transferred with MIME type text/plain:\" errors on\n",
       "             * Chrome.  But how to set the MIME type?  It doesn't seem\n",
       "             * to be part of the websocket stream */\n",
       "            evt.data.type = \"image/png\";\n",
       "\n",
       "            /* Free the memory for the previous frames */\n",
       "            if (fig.imageObj.src) {\n",
       "                (window.URL || window.webkitURL).revokeObjectURL(\n",
       "                    fig.imageObj.src);\n",
       "            }\n",
       "\n",
       "            fig.imageObj.src = (window.URL || window.webkitURL).createObjectURL(\n",
       "                evt.data);\n",
       "            fig.updated_canvas_event();\n",
       "            fig.waiting = false;\n",
       "            return;\n",
       "        }\n",
       "        else if (typeof evt.data === 'string' && evt.data.slice(0, 21) == \"data:image/png;base64\") {\n",
       "            fig.imageObj.src = evt.data;\n",
       "            fig.updated_canvas_event();\n",
       "            fig.waiting = false;\n",
       "            return;\n",
       "        }\n",
       "\n",
       "        var msg = JSON.parse(evt.data);\n",
       "        var msg_type = msg['type'];\n",
       "\n",
       "        // Call the  \"handle_{type}\" callback, which takes\n",
       "        // the figure and JSON message as its only arguments.\n",
       "        try {\n",
       "            var callback = fig[\"handle_\" + msg_type];\n",
       "        } catch (e) {\n",
       "            console.log(\"No handler for the '\" + msg_type + \"' message type: \", msg);\n",
       "            return;\n",
       "        }\n",
       "\n",
       "        if (callback) {\n",
       "            try {\n",
       "                // console.log(\"Handling '\" + msg_type + \"' message: \", msg);\n",
       "                callback(fig, msg);\n",
       "            } catch (e) {\n",
       "                console.log(\"Exception inside the 'handler_\" + msg_type + \"' callback:\", e, e.stack, msg);\n",
       "            }\n",
       "        }\n",
       "    };\n",
       "}\n",
       "\n",
       "// from http://stackoverflow.com/questions/1114465/getting-mouse-location-in-canvas\n",
       "mpl.findpos = function(e) {\n",
       "    //this section is from http://www.quirksmode.org/js/events_properties.html\n",
       "    var targ;\n",
       "    if (!e)\n",
       "        e = window.event;\n",
       "    if (e.target)\n",
       "        targ = e.target;\n",
       "    else if (e.srcElement)\n",
       "        targ = e.srcElement;\n",
       "    if (targ.nodeType == 3) // defeat Safari bug\n",
       "        targ = targ.parentNode;\n",
       "\n",
       "    // jQuery normalizes the pageX and pageY\n",
       "    // pageX,Y are the mouse positions relative to the document\n",
       "    // offset() returns the position of the element relative to the document\n",
       "    var x = e.pageX - $(targ).offset().left;\n",
       "    var y = e.pageY - $(targ).offset().top;\n",
       "\n",
       "    return {\"x\": x, \"y\": y};\n",
       "};\n",
       "\n",
       "/*\n",
       " * return a copy of an object with only non-object keys\n",
       " * we need this to avoid circular references\n",
       " * http://stackoverflow.com/a/24161582/3208463\n",
       " */\n",
       "function simpleKeys (original) {\n",
       "  return Object.keys(original).reduce(function (obj, key) {\n",
       "    if (typeof original[key] !== 'object')\n",
       "        obj[key] = original[key]\n",
       "    return obj;\n",
       "  }, {});\n",
       "}\n",
       "\n",
       "mpl.figure.prototype.mouse_event = function(event, name) {\n",
       "    var canvas_pos = mpl.findpos(event)\n",
       "\n",
       "    if (name === 'button_press')\n",
       "    {\n",
       "        this.canvas.focus();\n",
       "        this.canvas_div.focus();\n",
       "    }\n",
       "\n",
       "    var x = canvas_pos.x * mpl.ratio;\n",
       "    var y = canvas_pos.y * mpl.ratio;\n",
       "\n",
       "    this.send_message(name, {x: x, y: y, button: event.button,\n",
       "                             step: event.step,\n",
       "                             guiEvent: simpleKeys(event)});\n",
       "\n",
       "    /* This prevents the web browser from automatically changing to\n",
       "     * the text insertion cursor when the button is pressed.  We want\n",
       "     * to control all of the cursor setting manually through the\n",
       "     * 'cursor' event from matplotlib */\n",
       "    event.preventDefault();\n",
       "    return false;\n",
       "}\n",
       "\n",
       "mpl.figure.prototype._key_event_extra = function(event, name) {\n",
       "    // Handle any extra behaviour associated with a key event\n",
       "}\n",
       "\n",
       "mpl.figure.prototype.key_event = function(event, name) {\n",
       "\n",
       "    // Prevent repeat events\n",
       "    if (name == 'key_press')\n",
       "    {\n",
       "        if (event.which === this._key)\n",
       "            return;\n",
       "        else\n",
       "            this._key = event.which;\n",
       "    }\n",
       "    if (name == 'key_release')\n",
       "        this._key = null;\n",
       "\n",
       "    var value = '';\n",
       "    if (event.ctrlKey && event.which != 17)\n",
       "        value += \"ctrl+\";\n",
       "    if (event.altKey && event.which != 18)\n",
       "        value += \"alt+\";\n",
       "    if (event.shiftKey && event.which != 16)\n",
       "        value += \"shift+\";\n",
       "\n",
       "    value += 'k';\n",
       "    value += event.which.toString();\n",
       "\n",
       "    this._key_event_extra(event, name);\n",
       "\n",
       "    this.send_message(name, {key: value,\n",
       "                             guiEvent: simpleKeys(event)});\n",
       "    return false;\n",
       "}\n",
       "\n",
       "mpl.figure.prototype.toolbar_button_onclick = function(name) {\n",
       "    if (name == 'download') {\n",
       "        this.handle_save(this, null);\n",
       "    } else {\n",
       "        this.send_message(\"toolbar_button\", {name: name});\n",
       "    }\n",
       "};\n",
       "\n",
       "mpl.figure.prototype.toolbar_button_onmouseover = function(tooltip) {\n",
       "    this.message.textContent = tooltip;\n",
       "};\n",
       "mpl.toolbar_items = [[\"Home\", \"Reset original view\", \"fa fa-home icon-home\", \"home\"], [\"Back\", \"Back to  previous view\", \"fa fa-arrow-left icon-arrow-left\", \"back\"], [\"Forward\", \"Forward to next view\", \"fa fa-arrow-right icon-arrow-right\", \"forward\"], [\"\", \"\", \"\", \"\"], [\"Pan\", \"Pan axes with left mouse, zoom with right\", \"fa fa-arrows icon-move\", \"pan\"], [\"Zoom\", \"Zoom to rectangle\", \"fa fa-square-o icon-check-empty\", \"zoom\"], [\"\", \"\", \"\", \"\"], [\"Download\", \"Download plot\", \"fa fa-floppy-o icon-save\", \"download\"]];\n",
       "\n",
       "mpl.extensions = [\"eps\", \"jpeg\", \"pdf\", \"png\", \"ps\", \"raw\", \"svg\", \"tif\"];\n",
       "\n",
       "mpl.default_extension = \"png\";var comm_websocket_adapter = function(comm) {\n",
       "    // Create a \"websocket\"-like object which calls the given IPython comm\n",
       "    // object with the appropriate methods. Currently this is a non binary\n",
       "    // socket, so there is still some room for performance tuning.\n",
       "    var ws = {};\n",
       "\n",
       "    ws.close = function() {\n",
       "        comm.close()\n",
       "    };\n",
       "    ws.send = function(m) {\n",
       "        //console.log('sending', m);\n",
       "        comm.send(m);\n",
       "    };\n",
       "    // Register the callback with on_msg.\n",
       "    comm.on_msg(function(msg) {\n",
       "        //console.log('receiving', msg['content']['data'], msg);\n",
       "        // Pass the mpl event to the overriden (by mpl) onmessage function.\n",
       "        ws.onmessage(msg['content']['data'])\n",
       "    });\n",
       "    return ws;\n",
       "}\n",
       "\n",
       "mpl.mpl_figure_comm = function(comm, msg) {\n",
       "    // This is the function which gets called when the mpl process\n",
       "    // starts-up an IPython Comm through the \"matplotlib\" channel.\n",
       "\n",
       "    var id = msg.content.data.id;\n",
       "    // Get hold of the div created by the display call when the Comm\n",
       "    // socket was opened in Python.\n",
       "    var element = $(\"#\" + id);\n",
       "    var ws_proxy = comm_websocket_adapter(comm)\n",
       "\n",
       "    function ondownload(figure, format) {\n",
       "        window.open(figure.imageObj.src);\n",
       "    }\n",
       "\n",
       "    var fig = new mpl.figure(id, ws_proxy,\n",
       "                           ondownload,\n",
       "                           element.get(0));\n",
       "\n",
       "    // Call onopen now - mpl needs it, as it is assuming we've passed it a real\n",
       "    // web socket which is closed, not our websocket->open comm proxy.\n",
       "    ws_proxy.onopen();\n",
       "\n",
       "    fig.parent_element = element.get(0);\n",
       "    fig.cell_info = mpl.find_output_cell(\"<div id='\" + id + \"'></div>\");\n",
       "    if (!fig.cell_info) {\n",
       "        console.error(\"Failed to find cell for figure\", id, fig);\n",
       "        return;\n",
       "    }\n",
       "\n",
       "    var output_index = fig.cell_info[2]\n",
       "    var cell = fig.cell_info[0];\n",
       "\n",
       "};\n",
       "\n",
       "mpl.figure.prototype.handle_close = function(fig, msg) {\n",
       "    var width = fig.canvas.width/mpl.ratio\n",
       "    fig.root.unbind('remove')\n",
       "\n",
       "    // Update the output cell to use the data from the current canvas.\n",
       "    fig.push_to_output();\n",
       "    var dataURL = fig.canvas.toDataURL();\n",
       "    // Re-enable the keyboard manager in IPython - without this line, in FF,\n",
       "    // the notebook keyboard shortcuts fail.\n",
       "    IPython.keyboard_manager.enable()\n",
       "    $(fig.parent_element).html('<img src=\"' + dataURL + '\" width=\"' + width + '\">');\n",
       "    fig.close_ws(fig, msg);\n",
       "}\n",
       "\n",
       "mpl.figure.prototype.close_ws = function(fig, msg){\n",
       "    fig.send_message('closing', msg);\n",
       "    // fig.ws.close()\n",
       "}\n",
       "\n",
       "mpl.figure.prototype.push_to_output = function(remove_interactive) {\n",
       "    // Turn the data on the canvas into data in the output cell.\n",
       "    var width = this.canvas.width/mpl.ratio\n",
       "    var dataURL = this.canvas.toDataURL();\n",
       "    this.cell_info[1]['text/html'] = '<img src=\"' + dataURL + '\" width=\"' + width + '\">';\n",
       "}\n",
       "\n",
       "mpl.figure.prototype.updated_canvas_event = function() {\n",
       "    // Tell IPython that the notebook contents must change.\n",
       "    IPython.notebook.set_dirty(true);\n",
       "    this.send_message(\"ack\", {});\n",
       "    var fig = this;\n",
       "    // Wait a second, then push the new image to the DOM so\n",
       "    // that it is saved nicely (might be nice to debounce this).\n",
       "    setTimeout(function () { fig.push_to_output() }, 1000);\n",
       "}\n",
       "\n",
       "mpl.figure.prototype._init_toolbar = function() {\n",
       "    var fig = this;\n",
       "\n",
       "    var nav_element = $('<div/>')\n",
       "    nav_element.attr('style', 'width: 100%');\n",
       "    this.root.append(nav_element);\n",
       "\n",
       "    // Define a callback function for later on.\n",
       "    function toolbar_event(event) {\n",
       "        return fig.toolbar_button_onclick(event['data']);\n",
       "    }\n",
       "    function toolbar_mouse_event(event) {\n",
       "        return fig.toolbar_button_onmouseover(event['data']);\n",
       "    }\n",
       "\n",
       "    for(var toolbar_ind in mpl.toolbar_items){\n",
       "        var name = mpl.toolbar_items[toolbar_ind][0];\n",
       "        var tooltip = mpl.toolbar_items[toolbar_ind][1];\n",
       "        var image = mpl.toolbar_items[toolbar_ind][2];\n",
       "        var method_name = mpl.toolbar_items[toolbar_ind][3];\n",
       "\n",
       "        if (!name) { continue; };\n",
       "\n",
       "        var button = $('<button class=\"btn btn-default\" href=\"#\" title=\"' + name + '\"><i class=\"fa ' + image + ' fa-lg\"></i></button>');\n",
       "        button.click(method_name, toolbar_event);\n",
       "        button.mouseover(tooltip, toolbar_mouse_event);\n",
       "        nav_element.append(button);\n",
       "    }\n",
       "\n",
       "    // Add the status bar.\n",
       "    var status_bar = $('<span class=\"mpl-message\" style=\"text-align:right; float: right;\"/>');\n",
       "    nav_element.append(status_bar);\n",
       "    this.message = status_bar[0];\n",
       "\n",
       "    // Add the close button to the window.\n",
       "    var buttongrp = $('<div class=\"btn-group inline pull-right\"></div>');\n",
       "    var button = $('<button class=\"btn btn-mini btn-primary\" href=\"#\" title=\"Stop Interaction\"><i class=\"fa fa-power-off icon-remove icon-large\"></i></button>');\n",
       "    button.click(function (evt) { fig.handle_close(fig, {}); } );\n",
       "    button.mouseover('Stop Interaction', toolbar_mouse_event);\n",
       "    buttongrp.append(button);\n",
       "    var titlebar = this.root.find($('.ui-dialog-titlebar'));\n",
       "    titlebar.prepend(buttongrp);\n",
       "}\n",
       "\n",
       "mpl.figure.prototype._root_extra_style = function(el){\n",
       "    var fig = this\n",
       "    el.on(\"remove\", function(){\n",
       "\tfig.close_ws(fig, {});\n",
       "    });\n",
       "}\n",
       "\n",
       "mpl.figure.prototype._canvas_extra_style = function(el){\n",
       "    // this is important to make the div 'focusable\n",
       "    el.attr('tabindex', 0)\n",
       "    // reach out to IPython and tell the keyboard manager to turn it's self\n",
       "    // off when our div gets focus\n",
       "\n",
       "    // location in version 3\n",
       "    if (IPython.notebook.keyboard_manager) {\n",
       "        IPython.notebook.keyboard_manager.register_events(el);\n",
       "    }\n",
       "    else {\n",
       "        // location in version 2\n",
       "        IPython.keyboard_manager.register_events(el);\n",
       "    }\n",
       "\n",
       "}\n",
       "\n",
       "mpl.figure.prototype._key_event_extra = function(event, name) {\n",
       "    var manager = IPython.notebook.keyboard_manager;\n",
       "    if (!manager)\n",
       "        manager = IPython.keyboard_manager;\n",
       "\n",
       "    // Check for shift+enter\n",
       "    if (event.shiftKey && event.which == 13) {\n",
       "        this.canvas_div.blur();\n",
       "        // select the cell after this one\n",
       "        var index = IPython.notebook.find_cell_index(this.cell_info[0]);\n",
       "        IPython.notebook.select(index + 1);\n",
       "    }\n",
       "}\n",
       "\n",
       "mpl.figure.prototype.handle_save = function(fig, msg) {\n",
       "    fig.ondownload(fig, null);\n",
       "}\n",
       "\n",
       "\n",
       "mpl.find_output_cell = function(html_output) {\n",
       "    // Return the cell and output element which can be found *uniquely* in the notebook.\n",
       "    // Note - this is a bit hacky, but it is done because the \"notebook_saving.Notebook\"\n",
       "    // IPython event is triggered only after the cells have been serialised, which for\n",
       "    // our purposes (turning an active figure into a static one), is too late.\n",
       "    var cells = IPython.notebook.get_cells();\n",
       "    var ncells = cells.length;\n",
       "    for (var i=0; i<ncells; i++) {\n",
       "        var cell = cells[i];\n",
       "        if (cell.cell_type === 'code'){\n",
       "            for (var j=0; j<cell.output_area.outputs.length; j++) {\n",
       "                var data = cell.output_area.outputs[j];\n",
       "                if (data.data) {\n",
       "                    // IPython >= 3 moved mimebundle to data attribute of output\n",
       "                    data = data.data;\n",
       "                }\n",
       "                if (data['text/html'] == html_output) {\n",
       "                    return [cell, data, j];\n",
       "                }\n",
       "            }\n",
       "        }\n",
       "    }\n",
       "}\n",
       "\n",
       "// Register the function which deals with the matplotlib target/channel.\n",
       "// The kernel may be null if the page has been refreshed.\n",
       "if (IPython.notebook.kernel != null) {\n",
       "    IPython.notebook.kernel.comm_manager.register_target('matplotlib', mpl.mpl_figure_comm);\n",
       "}\n"
      ],
      "text/plain": [
       "<IPython.core.display.Javascript object>"
      ]
     },
     "metadata": {},
     "output_type": "display_data"
    },
    {
     "data": {
      "text/html": [
       "<img src=\"data:image/png;base64,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\" width=\"600\">"
      ],
      "text/plain": [
       "<IPython.core.display.HTML object>"
      ]
     },
     "metadata": {},
     "output_type": "display_data"
    },
    {
     "data": {
      "text/plain": [
       "[<matplotlib.lines.Line2D at 0x7ff574ddefd0>]"
      ]
     },
     "execution_count": 34,
     "metadata": {},
     "output_type": "execute_result"
    }
   ],
   "source": [
    "iqe2 = iqe.copy()\n",
    "I = iqe2.I; I[I!=I] = 0 # remove NaNs\n",
    "IE = iqe2.sum('Q')  # sum over Q\n",
    "plt.figure(figsize=(6,4))\n",
    "plt.plot(IE.E, IE.I)"
   ]
  },
  {
   "cell_type": "markdown",
   "metadata": {},
   "source": [
    "The plots above provide clues to selecting parameters for the getdos procedure"
   ]
  },
  {
   "cell_type": "markdown",
   "metadata": {},
   "source": [
    "Save configuration so you can reuse it"
   ]
  },
  {
   "cell_type": "code",
   "execution_count": 35,
   "metadata": {
    "collapsed": true
   },
   "outputs": [],
   "source": [
    "context.to_yaml('./getdos2-context.yaml')"
   ]
  },
  {
   "cell_type": "markdown",
   "metadata": {},
   "source": [
    "## Run GetDOS\n",
    "\n",
    "DOS will be obtained from SQE by an iterative procedure where multiphonon and multiple scattering corrections are applied to the measured SQE spectrum, assuming\n",
    "incoherent approximation, and the corrected spectrum\n",
    "is then converted to DOS.\n",
    "\n",
    "An example DOS plot:\n",
    "<img width=\"300\" src=\"Al-DOS.png\"/>"
   ]
  },
  {
   "cell_type": "code",
   "execution_count": 36,
   "metadata": {},
   "outputs": [],
   "source": [
    "D130=hh.load('/home/fi0/dev/figures_for_paper/final-dos_130.h5')"
   ]
  },
  {
   "cell_type": "code",
   "execution_count": 37,
   "metadata": {},
   "outputs": [
    {
     "name": "stdout",
     "output_type": "stream",
     "text": [
      "Histogram \"DOS\"\n",
      "- Axes:\n",
      "   - Axis Dataset E(unit=1.60218e-22*m**2*kg*s**-2): [  -0.5    0.5    1.5    2.5    3.5    4.5    5.5    6.5    7.5    8.5\n",
      "    9.5   10.5   11.5   12.5   13.5   14.5   15.5   16.5   17.5   18.5\n",
      "   19.5   20.5   21.5   22.5   23.5   24.5   25.5   26.5   27.5   28.5\n",
      "   29.5   30.5   31.5   32.5   33.5   34.5   35.5   36.5   37.5   38.5\n",
      "   39.5   40.5   41.5   42.5   43.5   44.5   45.5   46.5   47.5   48.5\n",
      "   49.5   50.5   51.5   52.5   53.5   54.5   55.5   56.5   57.5   58.5\n",
      "   59.5   60.5   61.5   62.5   63.5   64.5   65.5   66.5   67.5   68.5\n",
      "   69.5   70.5   71.5   72.5   73.5   74.5   75.5   76.5   77.5   78.5\n",
      "   79.5   80.5   81.5   82.5   83.5   84.5   85.5   86.5   87.5   88.5\n",
      "   89.5   90.5   91.5   92.5   93.5   94.5   95.5   96.5   97.5   98.5\n",
      "   99.5  100.5  101.5  102.5  103.5  104.5  105.5  106.5  107.5  108.5\n",
      "  109.5  110.5  111.5  112.5  113.5  114.5  115.5  116.5  117.5  118.5\n",
      "  119.5  120.5  121.5  122.5  123.5  124.5  125.5  126.5  127.5  128.5\n",
      "  129.5  130.5  131.5  132.5  133.5  134.5  135.5  136.5  137.5  138.5\n",
      "  139.5  140.5  141.5  142.5  143.5  144.5  145.5  146.5  147.5  148.5\n",
      "  149.5  150.5  151.5  152.5  153.5  154.5  155.5  156.5  157.5  158.5\n",
      "  159.5  160.5  161.5  162.5  163.5  164.5  165.5  166.5  167.5  168.5\n",
      "  169.5  170.5  171.5  172.5  173.5  174.5  175.5  176.5  177.5  178.5\n",
      "  179.5  180.5  181.5  182.5  183.5  184.5  185.5  186.5  187.5  188.5\n",
      "  189.5  190.5  191.5  192.5  193.5  194.5  195.5  196.5  197.5  198.5\n",
      "  199.5  200.5  201.5  202.5  203.5  204.5  205.5  206.5  207.5  208.5\n",
      "  209.5  210.5  211.5  212.5  213.5  214.5  215.5  216.5  217.5  218.5\n",
      "  219.5  220.5  221.5  222.5  223.5  224.5  225.5  226.5  227.5  228.5\n",
      "  229.5  230.5  231.5  232.5  233.5  234.5  235.5  236.5  237.5  238.5\n",
      "  239.5  240.5  241.5  242.5  243.5  244.5  245.5  246.5  247.5  248.5\n",
      "  249.5  250.5  251.5  252.5  253.5  254.5  255.5  256.5  257.5  258.5\n",
      "  259.5  260.5  261.5  262.5  263.5  264.5  265.5  266.5  267.5  268.5\n",
      "  269.5  270.5  271.5  272.5  273.5  274.5  275.5  276.5  277.5  278.5\n",
      "  279.5  280.5  281.5  282.5  283.5  284.5  285.5  286.5  287.5  288.5\n",
      "  289.5  290.5]\n",
      "\n",
      "- Shape: (291,)\n",
      "- Metadata: [('name', u'DOS'), ('unit', 1)]\n",
      "- Data: Dataset data(unit=1): [  0.00000000e+00   1.80834553e-05   7.23338212e-05   1.62751098e-04\n",
      "   2.89335285e-04   4.52086383e-04   6.51004391e-04   8.86089310e-04\n",
      "   1.15734114e-03   1.27201917e-03   1.41261402e-03   1.54493787e-03\n",
      "   1.74253845e-03   1.97966839e-03   2.16349339e-03   2.45983520e-03\n",
      "   2.56315500e-03   2.84920550e-03   2.87480959e-03   2.74971121e-03\n",
      "   2.80836607e-03   2.77924874e-03   2.77759776e-03   2.62329037e-03\n",
      "   2.82592591e-03   3.02365897e-03   2.94754535e-03   2.87779389e-03\n",
      "   2.87369952e-03   3.10176148e-03   3.05505504e-03   3.20427795e-03\n",
      "   3.17236221e-03   3.04787541e-03   3.10701915e-03   3.40515869e-03\n",
      "   3.29325697e-03   3.37936069e-03   3.50262608e-03   3.73510912e-03\n",
      "   3.59648582e-03   3.76251357e-03   3.59916490e-03   3.76874086e-03\n",
      "   3.70696442e-03   3.91147616e-03   3.99061930e-03   4.05475231e-03\n",
      "   4.05421893e-03   4.16525029e-03   4.50275259e-03   4.76815802e-03\n",
      "   4.54933136e-03   4.85780621e-03   5.03159030e-03   5.37726262e-03\n",
      "   5.28041971e-03   5.36486728e-03   5.47023140e-03   5.19787966e-03\n",
      "   5.44447791e-03   5.11131873e-03   5.10125538e-03   5.17312380e-03\n",
      "   5.12985548e-03   5.44877645e-03   4.98110363e-03   5.05860477e-03\n",
      "   5.14952606e-03   5.18203039e-03   5.44142259e-03   5.40683702e-03\n",
      "   5.99580819e-03   5.88438948e-03   6.49868178e-03   6.85723273e-03\n",
      "   6.97221481e-03   7.17673673e-03   7.55828029e-03   7.62528015e-03\n",
      "   8.07286896e-03   7.89850220e-03   7.78715122e-03   7.68400519e-03\n",
      "   7.98424589e-03   7.08115029e-03   7.62074371e-03   7.99796829e-03\n",
      "   7.23507890e-03   7.02481063e-03   7.18233823e-03   7.04078724e-03\n",
      "   6.87447935e-03   7.06804865e-03   6.50756402e-03   6.71909908e-03\n",
      "   6.72974363e-03   6.79877194e-03   6.64046019e-03   6.83482964e-03\n",
      "   6.40377066e-03   6.33907830e-03   6.16418487e-03   6.72544392e-03\n",
      "   6.38770698e-03   6.51421752e-03   6.06351744e-03   6.31287300e-03\n",
      "   5.95299377e-03   4.92443836e-03   4.94028613e-03   4.27523514e-03\n",
      "   4.41214115e-03   4.10238664e-03   4.23340210e-03   4.06046985e-03\n",
      "   3.73330284e-03   3.53389050e-03   3.44589092e-03   3.38684831e-03\n",
      "   3.07945365e-03   3.16356894e-03   3.12581777e-03   2.68325406e-03\n",
      "   2.94930608e-03   3.24442515e-03   2.95397363e-03   2.81694245e-03\n",
      "   2.55515989e-03   3.01626992e-03   2.67896875e-03   2.31044566e-03\n",
      "   2.38631788e-03   2.76705544e-03   2.96068301e-03   2.57703158e-03\n",
      "   3.06500853e-03   2.65125347e-03   2.88377993e-03   2.77111233e-03\n",
      "   3.20585202e-03   3.16949983e-03   2.84460519e-03   2.97571555e-03\n",
      "   3.14531080e-03   3.20485468e-03   3.39020436e-03   3.36600691e-03\n",
      "   3.23792966e-03   3.35381303e-03   3.33389736e-03   3.84461454e-03\n",
      "   3.07934520e-03   3.79715449e-03   3.48720524e-03   4.20182233e-03\n",
      "   3.94209206e-03   3.67487569e-03   3.56954026e-03   4.11406892e-03\n",
      "   4.48676057e-03   4.15183123e-03   4.82633140e-03   4.89946740e-03\n",
      "   5.49207564e-03   6.07420874e-03   5.76202435e-03   5.97142870e-03\n",
      "   6.83575404e-03   7.96726570e-03   8.67898710e-03   9.09112345e-03\n",
      "   9.91595163e-03   9.94816824e-03   1.11434680e-02   1.20113983e-02\n",
      "   1.21217397e-02   1.07169517e-02   1.09641767e-02   9.89981354e-03\n",
      "   9.50209089e-03   7.75103505e-03   7.84320416e-03   7.57065033e-03\n",
      "   6.95743490e-03   7.40783796e-03   7.17440995e-03   7.24965951e-03\n",
      "   6.58043751e-03   6.54406967e-03   6.33129508e-03   6.44325894e-03\n",
      "   6.42210838e-03   6.20766409e-03   6.48648235e-03   5.80807662e-03\n",
      "   5.56867731e-03   5.77375994e-03   5.80005187e-03   6.44425926e-03\n",
      "   6.61664974e-03   5.96274394e-03   5.16507006e-03   3.83934927e-03\n",
      "   2.56033610e-03   1.55669643e-03   1.07801163e-03   5.81948995e-04\n",
      "   8.00063580e-06   0.00000000e+00   1.67004037e-04   2.91046514e-05\n",
      "   0.00000000e+00   0.00000000e+00   0.00000000e+00   1.18711709e-04\n",
      "   0.00000000e+00   0.00000000e+00   0.00000000e+00   0.00000000e+00\n",
      "   1.92512048e-04   0.00000000e+00   0.00000000e+00   0.00000000e+00\n",
      "   0.00000000e+00   0.00000000e+00   2.80754891e-04   0.00000000e+00\n",
      "   0.00000000e+00   0.00000000e+00   0.00000000e+00   0.00000000e+00\n",
      "   0.00000000e+00   0.00000000e+00   0.00000000e+00   0.00000000e+00\n",
      "   0.00000000e+00   0.00000000e+00   0.00000000e+00   4.44060162e-04\n",
      "   0.00000000e+00   0.00000000e+00   0.00000000e+00   0.00000000e+00\n",
      "   4.53532547e-04   0.00000000e+00   0.00000000e+00   0.00000000e+00\n",
      "   0.00000000e+00   0.00000000e+00   6.22598208e-04   0.00000000e+00\n",
      "   1.18837087e-03   0.00000000e+00   0.00000000e+00   0.00000000e+00\n",
      "   0.00000000e+00   0.00000000e+00   4.37260485e-04   0.00000000e+00\n",
      "   0.00000000e+00   0.00000000e+00   0.00000000e+00   5.76116682e-04\n",
      "   0.00000000e+00   0.00000000e+00   0.00000000e+00   0.00000000e+00\n",
      "   6.65440554e-04   0.00000000e+00   0.00000000e+00   0.00000000e+00\n",
      "   0.00000000e+00   0.00000000e+00   7.60626419e-04   0.00000000e+00\n",
      "   1.90038956e-03   6.46914614e-04   0.00000000e+00   0.00000000e+00\n",
      "   0.00000000e+00   0.00000000e+00   0.00000000e+00   0.00000000e+00\n",
      "   0.00000000e+00   0.00000000e+00   0.00000000e+00   0.00000000e+00\n",
      "   0.00000000e+00   0.00000000e+00   0.00000000e+00]\n",
      "- Errors: Dataset errors(unit=1): [  0.00000000e+00   4.27650479e-15   6.35257638e-14   3.96545996e-13\n",
      "   2.16714430e-12   1.15573253e-11   3.85798077e-11   1.34328148e-10\n",
      "   9.60697803e-10   1.09892201e-09   1.39092295e-09   1.81444652e-09\n",
      "   2.24887283e-09   3.13249438e-09   4.30322592e-09   4.40070894e-09\n",
      "   6.03889552e-09   7.13654171e-09   7.86208745e-09   8.55932094e-09\n",
      "   9.96458391e-09   1.21493349e-08   1.07963850e-08   1.00244128e-07\n",
      "   1.24793867e-08   1.33699308e-08   1.29547459e-08   1.43506386e-08\n",
      "   1.61536718e-08   1.87255501e-08   1.97624696e-08   1.71697216e-08\n",
      "   2.08814299e-08   2.08397723e-08   2.15534169e-08   2.44208297e-08\n",
      "   2.49021013e-08   2.65370322e-08   2.63445263e-08   2.13797588e-08\n",
      "   3.43428734e-08   2.44074945e-08   3.15406083e-08   2.51911300e-08\n",
      "   2.96371454e-08   3.04319707e-08   2.71476388e-08   3.14644043e-08\n",
      "   4.41200716e-08   3.29882750e-08   2.79553932e-08   1.96118881e-08\n",
      "   2.05248866e-08   2.64337792e-08   2.95086947e-08   2.96669328e-08\n",
      "   2.34652679e-08   2.28319336e-08   2.56907112e-08   3.54785192e-08\n",
      "   2.96330372e-08   2.49978171e-08   2.48391293e-08   3.97380197e-08\n",
      "   3.06723933e-08   4.64673711e-08   2.84281344e-08   3.22486986e-08\n",
      "   3.10059186e-08   6.62772196e-08   4.44785090e-08   3.18871522e-08\n",
      "   4.01248531e-08   3.45473656e-08   3.61257304e-08   5.05888270e-08\n",
      "   4.27891228e-08   3.74721196e-08   4.22744863e-08   4.41673788e-08\n",
      "   4.32684502e-08   4.77246190e-08   5.38273722e-08   6.34656952e-08\n",
      "   5.93702515e-08   4.69720925e-08   9.15801229e-08   4.54599594e-08\n",
      "   4.68465538e-08   4.22782916e-08   6.42648239e-08   4.63022069e-08\n",
      "   4.73735512e-08   6.58667248e-08   4.69953691e-08   5.16237807e-08\n",
      "   5.03158337e-08   8.17252046e-08   5.30934980e-08   7.13974816e-08\n",
      "   4.81306066e-08   4.70421558e-08   4.76734133e-08   5.53315446e-08\n",
      "   4.84217169e-08   5.73990763e-08   4.64039867e-08   7.58696536e-08\n",
      "   5.35718133e-08   5.08036782e-08   4.96698552e-08   5.81169741e-08\n",
      "   4.70488725e-08   4.54918521e-08   4.25595663e-08   4.42179011e-08\n",
      "   3.69632721e-08   4.57692179e-08   6.97010495e-08   5.66009229e-08\n",
      "   3.95659187e-08   4.39912534e-08   4.41156752e-08   4.55226365e-08\n",
      "   4.39743192e-08   7.96350899e-08   8.46442481e-08   3.90410135e-08\n",
      "   8.68940435e-08   8.49928011e-08   4.45150585e-08   3.93964258e-08\n",
      "   4.44250303e-08   4.11045935e-08   4.51622168e-08   4.68490707e-08\n",
      "   5.16469231e-08   4.05331995e-08   6.53974266e-08   4.39347148e-08\n",
      "   9.69276773e-08   4.52776318e-08   4.97348366e-08   5.20445858e-08\n",
      "   4.44651925e-08   4.63091036e-08   5.23461555e-08   6.11112793e-08\n",
      "   5.25745252e-08   5.32475991e-08   4.97702665e-08   6.11578788e-08\n",
      "   5.38356612e-08   5.71413598e-08   5.33228213e-08   6.33013288e-08\n",
      "   1.32891663e-07   6.51465609e-08   6.46916445e-08   6.27892749e-08\n",
      "   5.85902090e-08   5.75772752e-08   6.70257283e-08   7.08915397e-08\n",
      "   7.61380130e-08   8.10029521e-08   8.92158208e-08   8.64910739e-08\n",
      "   8.59254949e-08   1.45207240e-07   1.63381883e-07   9.51913473e-08\n",
      "   1.07609122e-07   1.14190924e-07   1.10620196e-07   2.88223417e-07\n",
      "   1.29381404e-07   1.09906830e-07   2.77485672e-07   1.17768145e-07\n",
      "   1.72538520e-07   1.01173557e-07   9.61367972e-08   1.20156875e-07\n",
      "   1.48410676e-07   1.19746778e-07   1.71147493e-07   1.03847649e-07\n",
      "   9.85778752e-08   1.10929749e-07   9.52343331e-08   1.23297541e-07\n",
      "   1.06748212e-07   1.77863137e-07   1.07551109e-07   9.38925233e-08\n",
      "   9.82837751e-08   9.13613100e-08   9.60194027e-08   1.00642088e-07\n",
      "   1.11677484e-07   1.48720783e-07   8.94512745e-08   1.00609796e-07\n",
      "   6.63792474e-08   6.55766410e-08   5.73522578e-08   5.55294216e-08\n",
      "   4.16445103e-08   0.00000000e+00   5.88368303e-08   3.77141635e-08\n",
      "   0.00000000e+00   0.00000000e+00   0.00000000e+00   4.62620468e-08\n",
      "   0.00000000e+00   0.00000000e+00   0.00000000e+00   0.00000000e+00\n",
      "   3.97506917e-08   0.00000000e+00   0.00000000e+00   0.00000000e+00\n",
      "   0.00000000e+00   0.00000000e+00   3.16256775e-07   0.00000000e+00\n",
      "   0.00000000e+00   0.00000000e+00   0.00000000e+00   0.00000000e+00\n",
      "   0.00000000e+00   0.00000000e+00   0.00000000e+00   0.00000000e+00\n",
      "   0.00000000e+00   0.00000000e+00   0.00000000e+00   7.17215708e-08\n",
      "   0.00000000e+00   0.00000000e+00   0.00000000e+00   0.00000000e+00\n",
      "   6.37834031e-08   0.00000000e+00   0.00000000e+00   0.00000000e+00\n",
      "   0.00000000e+00   0.00000000e+00   4.44036665e-07   0.00000000e+00\n",
      "   8.10298686e-08   0.00000000e+00   0.00000000e+00   0.00000000e+00\n",
      "   0.00000000e+00   0.00000000e+00   5.56692979e-08   0.00000000e+00\n",
      "   0.00000000e+00   0.00000000e+00   0.00000000e+00   5.34376163e-08\n",
      "   0.00000000e+00   0.00000000e+00   0.00000000e+00   0.00000000e+00\n",
      "   1.07434460e-07   0.00000000e+00   0.00000000e+00   0.00000000e+00\n",
      "   0.00000000e+00   0.00000000e+00   1.95228968e-07   0.00000000e+00\n",
      "   2.44294371e-07   3.84581899e-07              nan              nan\n",
      "              nan   0.00000000e+00   0.00000000e+00   0.00000000e+00\n",
      "   0.00000000e+00   0.00000000e+00   0.00000000e+00   0.00000000e+00\n",
      "   0.00000000e+00   0.00000000e+00   0.00000000e+00]\n"
     ]
    }
   ],
   "source": [
    "print (D130)"
   ]
  },
  {
   "cell_type": "code",
   "execution_count": 63,
   "metadata": {
    "scrolled": true
   },
   "outputs": [
    {
     "data": {
      "application/vnd.jupyter.widget-view+json": {
       "model_id": "5d97948885114baa9ad3078463f23da1"
      }
     },
     "metadata": {},
     "output_type": "display_data"
    },
    {
     "data": {
      "application/vnd.jupyter.widget-view+json": {
       "model_id": "ab69948ee8274d96bea8a14d951a2e2f"
      }
     },
     "metadata": {},
     "output_type": "display_data"
    },
    {
     "data": {
      "application/vnd.jupyter.widget-view+json": {
       "model_id": "a782503227bf40708d752f68d4e4c941"
      }
     },
     "metadata": {},
     "output_type": "display_data"
    },
    {
     "data": {
      "application/vnd.jupyter.widget-view+json": {
       "model_id": "38ce2746c17c482f9eed33083cb489ea"
      }
     },
     "metadata": {},
     "output_type": "display_data"
    },
    {
     "name": "stderr",
     "output_type": "stream",
     "text": [
      "/home/fi0/anaconda2/lib/python2.7/site-packages/multiphonon-0.1.1-py2.7.egg/multiphonon/backward/singlephonon_sqe2dos.py:125: UserWarning: Scaling factor to combine DOSes calculated is not stable: 0.000189798020751 (using continuous criteria) vs 0.000155794531862 (using area criteria)\n",
      "You may want to consider adjusting the parameters such as E range (Emax more specifically)\n"
     ]
    }
   ],
   "source": [
    "GetDOSWizStart(context).show()"
   ]
  },
  {
   "cell_type": "markdown",
   "metadata": {},
   "source": [
    "Save context"
   ]
  },
  {
   "cell_type": "code",
   "execution_count": 64,
   "metadata": {
    "collapsed": true
   },
   "outputs": [],
   "source": [
    "context.to_yaml('./getdos2-context.yaml')"
   ]
  },
  {
   "cell_type": "markdown",
   "metadata": {},
   "source": [
    "Print context"
   ]
  },
  {
   "cell_type": "code",
   "execution_count": 65,
   "metadata": {},
   "outputs": [
    {
     "name": "stdout",
     "output_type": "stream",
     "text": [
      "ElasticPeakMax=2.0\n",
      "update_strategy_weights=(1.0, 1.0)\n",
      "initdos=/home/fi0/dev/figures_for_paper/final-dos_130.h5\n",
      "mt_nxs=/SNS/ARCS/IPTS-15398/shared/mantidred/MT/MT_30p00.nxspe\n",
      "Qmin=0.0\n",
      "maxiter=10\n",
      "const_bg_fraction=0.0\n",
      "sample_nxs=/SNS/ARCS/IPTS-15398/shared/mantidred/non-radC/non-radC_30p00.nxspe\n",
      "workdir=work\n",
      "Emin=-30.0\n",
      "Eaxis=(-30.0, 30.5, 1.0)\n",
      "M=12.0\n",
      "Qmax=11.0\n",
      "mtiqe_h5=/home/fi0/dev/figures_for_paper/30_spacing1/work/mt-iqe.h5\n",
      "iqe_h5=/home/fi0/dev/figures_for_paper/30_spacing1/work/iqe.h5\n",
      "Ecutoff=20.0\n",
      "Ei=30.0\n",
      "T=300.0\n",
      "Emax=30.0\n",
      "dE=1.0\n",
      "ElasticPeakMin=-2.0\n",
      "mt_fraction=0.9\n",
      "C_ms=0.1\n",
      "Qaxis=(0.0, 11.05, 0.1)\n",
      "dQ=0.1\n"
     ]
    }
   ],
   "source": [
    "print context"
   ]
  },
  {
   "cell_type": "markdown",
   "metadata": {},
   "source": [
    "## Check output"
   ]
  },
  {
   "cell_type": "markdown",
   "metadata": {},
   "source": [
    "Results are saved in \"work\" directory"
   ]
  },
  {
   "cell_type": "code",
   "execution_count": 66,
   "metadata": {},
   "outputs": [
    {
     "name": "stdout",
     "output_type": "stream",
     "text": [
      "\u001b[0m\u001b[01;34mdirdydos\u001b[0m/          iqe.h5.bkup-wrongEaxis     \u001b[01;32mplot_dos_iteration.py\u001b[0m*  \u001b[01;34mround-0\u001b[0m/\r\n",
      "final-dos.h5       iqe.nxs                    \u001b[01;32mplot_residual.py\u001b[0m*       \u001b[01;34mround-1\u001b[0m/\r\n",
      "getdos-kargs.yaml  mt-iqe.h5                  raw2iqe-MT.params\r\n",
      "I_E-exp-posE.h5    mt-iqe.h5.bkup-wrongEaxis  raw2iqe-sample.params\r\n",
      "iqe.h5             mt-iqe.nxs                 residual_E-posE.h5\r\n"
     ]
    }
   ],
   "source": [
    "ls work/"
   ]
  },
  {
   "cell_type": "markdown",
   "metadata": {},
   "source": [
    "Plot the final result for DOS"
   ]
  },
  {
   "cell_type": "code",
   "execution_count": 67,
   "metadata": {},
   "outputs": [
    {
     "data": {
      "application/javascript": [
       "/* Put everything inside the global mpl namespace */\n",
       "window.mpl = {};\n",
       "\n",
       "\n",
       "mpl.get_websocket_type = function() {\n",
       "    if (typeof(WebSocket) !== 'undefined') {\n",
       "        return WebSocket;\n",
       "    } else if (typeof(MozWebSocket) !== 'undefined') {\n",
       "        return MozWebSocket;\n",
       "    } else {\n",
       "        alert('Your browser does not have WebSocket support.' +\n",
       "              'Please try Chrome, Safari or Firefox ≥ 6. ' +\n",
       "              'Firefox 4 and 5 are also supported but you ' +\n",
       "              'have to enable WebSockets in about:config.');\n",
       "    };\n",
       "}\n",
       "\n",
       "mpl.figure = function(figure_id, websocket, ondownload, parent_element) {\n",
       "    this.id = figure_id;\n",
       "\n",
       "    this.ws = websocket;\n",
       "\n",
       "    this.supports_binary = (this.ws.binaryType != undefined);\n",
       "\n",
       "    if (!this.supports_binary) {\n",
       "        var warnings = document.getElementById(\"mpl-warnings\");\n",
       "        if (warnings) {\n",
       "            warnings.style.display = 'block';\n",
       "            warnings.textContent = (\n",
       "                \"This browser does not support binary websocket messages. \" +\n",
       "                    \"Performance may be slow.\");\n",
       "        }\n",
       "    }\n",
       "\n",
       "    this.imageObj = new Image();\n",
       "\n",
       "    this.context = undefined;\n",
       "    this.message = undefined;\n",
       "    this.canvas = undefined;\n",
       "    this.rubberband_canvas = undefined;\n",
       "    this.rubberband_context = undefined;\n",
       "    this.format_dropdown = undefined;\n",
       "\n",
       "    this.image_mode = 'full';\n",
       "\n",
       "    this.root = $('<div/>');\n",
       "    this._root_extra_style(this.root)\n",
       "    this.root.attr('style', 'display: inline-block');\n",
       "\n",
       "    $(parent_element).append(this.root);\n",
       "\n",
       "    this._init_header(this);\n",
       "    this._init_canvas(this);\n",
       "    this._init_toolbar(this);\n",
       "\n",
       "    var fig = this;\n",
       "\n",
       "    this.waiting = false;\n",
       "\n",
       "    this.ws.onopen =  function () {\n",
       "            fig.send_message(\"supports_binary\", {value: fig.supports_binary});\n",
       "            fig.send_message(\"send_image_mode\", {});\n",
       "            if (mpl.ratio != 1) {\n",
       "                fig.send_message(\"set_dpi_ratio\", {'dpi_ratio': mpl.ratio});\n",
       "            }\n",
       "            fig.send_message(\"refresh\", {});\n",
       "        }\n",
       "\n",
       "    this.imageObj.onload = function() {\n",
       "            if (fig.image_mode == 'full') {\n",
       "                // Full images could contain transparency (where diff images\n",
       "                // almost always do), so we need to clear the canvas so that\n",
       "                // there is no ghosting.\n",
       "                fig.context.clearRect(0, 0, fig.canvas.width, fig.canvas.height);\n",
       "            }\n",
       "            fig.context.drawImage(fig.imageObj, 0, 0);\n",
       "        };\n",
       "\n",
       "    this.imageObj.onunload = function() {\n",
       "        this.ws.close();\n",
       "    }\n",
       "\n",
       "    this.ws.onmessage = this._make_on_message_function(this);\n",
       "\n",
       "    this.ondownload = ondownload;\n",
       "}\n",
       "\n",
       "mpl.figure.prototype._init_header = function() {\n",
       "    var titlebar = $(\n",
       "        '<div class=\"ui-dialog-titlebar ui-widget-header ui-corner-all ' +\n",
       "        'ui-helper-clearfix\"/>');\n",
       "    var titletext = $(\n",
       "        '<div class=\"ui-dialog-title\" style=\"width: 100%; ' +\n",
       "        'text-align: center; padding: 3px;\"/>');\n",
       "    titlebar.append(titletext)\n",
       "    this.root.append(titlebar);\n",
       "    this.header = titletext[0];\n",
       "}\n",
       "\n",
       "\n",
       "\n",
       "mpl.figure.prototype._canvas_extra_style = function(canvas_div) {\n",
       "\n",
       "}\n",
       "\n",
       "\n",
       "mpl.figure.prototype._root_extra_style = function(canvas_div) {\n",
       "\n",
       "}\n",
       "\n",
       "mpl.figure.prototype._init_canvas = function() {\n",
       "    var fig = this;\n",
       "\n",
       "    var canvas_div = $('<div/>');\n",
       "\n",
       "    canvas_div.attr('style', 'position: relative; clear: both; outline: 0');\n",
       "\n",
       "    function canvas_keyboard_event(event) {\n",
       "        return fig.key_event(event, event['data']);\n",
       "    }\n",
       "\n",
       "    canvas_div.keydown('key_press', canvas_keyboard_event);\n",
       "    canvas_div.keyup('key_release', canvas_keyboard_event);\n",
       "    this.canvas_div = canvas_div\n",
       "    this._canvas_extra_style(canvas_div)\n",
       "    this.root.append(canvas_div);\n",
       "\n",
       "    var canvas = $('<canvas/>');\n",
       "    canvas.addClass('mpl-canvas');\n",
       "    canvas.attr('style', \"left: 0; top: 0; z-index: 0; outline: 0\")\n",
       "\n",
       "    this.canvas = canvas[0];\n",
       "    this.context = canvas[0].getContext(\"2d\");\n",
       "\n",
       "    var backingStore = this.context.backingStorePixelRatio ||\n",
       "\tthis.context.webkitBackingStorePixelRatio ||\n",
       "\tthis.context.mozBackingStorePixelRatio ||\n",
       "\tthis.context.msBackingStorePixelRatio ||\n",
       "\tthis.context.oBackingStorePixelRatio ||\n",
       "\tthis.context.backingStorePixelRatio || 1;\n",
       "\n",
       "    mpl.ratio = (window.devicePixelRatio || 1) / backingStore;\n",
       "\n",
       "    var rubberband = $('<canvas/>');\n",
       "    rubberband.attr('style', \"position: absolute; left: 0; top: 0; z-index: 1;\")\n",
       "\n",
       "    var pass_mouse_events = true;\n",
       "\n",
       "    canvas_div.resizable({\n",
       "        start: function(event, ui) {\n",
       "            pass_mouse_events = false;\n",
       "        },\n",
       "        resize: function(event, ui) {\n",
       "            fig.request_resize(ui.size.width, ui.size.height);\n",
       "        },\n",
       "        stop: function(event, ui) {\n",
       "            pass_mouse_events = true;\n",
       "            fig.request_resize(ui.size.width, ui.size.height);\n",
       "        },\n",
       "    });\n",
       "\n",
       "    function mouse_event_fn(event) {\n",
       "        if (pass_mouse_events)\n",
       "            return fig.mouse_event(event, event['data']);\n",
       "    }\n",
       "\n",
       "    rubberband.mousedown('button_press', mouse_event_fn);\n",
       "    rubberband.mouseup('button_release', mouse_event_fn);\n",
       "    // Throttle sequential mouse events to 1 every 20ms.\n",
       "    rubberband.mousemove('motion_notify', mouse_event_fn);\n",
       "\n",
       "    rubberband.mouseenter('figure_enter', mouse_event_fn);\n",
       "    rubberband.mouseleave('figure_leave', mouse_event_fn);\n",
       "\n",
       "    canvas_div.on(\"wheel\", function (event) {\n",
       "        event = event.originalEvent;\n",
       "        event['data'] = 'scroll'\n",
       "        if (event.deltaY < 0) {\n",
       "            event.step = 1;\n",
       "        } else {\n",
       "            event.step = -1;\n",
       "        }\n",
       "        mouse_event_fn(event);\n",
       "    });\n",
       "\n",
       "    canvas_div.append(canvas);\n",
       "    canvas_div.append(rubberband);\n",
       "\n",
       "    this.rubberband = rubberband;\n",
       "    this.rubberband_canvas = rubberband[0];\n",
       "    this.rubberband_context = rubberband[0].getContext(\"2d\");\n",
       "    this.rubberband_context.strokeStyle = \"#000000\";\n",
       "\n",
       "    this._resize_canvas = function(width, height) {\n",
       "        // Keep the size of the canvas, canvas container, and rubber band\n",
       "        // canvas in synch.\n",
       "        canvas_div.css('width', width)\n",
       "        canvas_div.css('height', height)\n",
       "\n",
       "        canvas.attr('width', width * mpl.ratio);\n",
       "        canvas.attr('height', height * mpl.ratio);\n",
       "        canvas.attr('style', 'width: ' + width + 'px; height: ' + height + 'px;');\n",
       "\n",
       "        rubberband.attr('width', width);\n",
       "        rubberband.attr('height', height);\n",
       "    }\n",
       "\n",
       "    // Set the figure to an initial 600x600px, this will subsequently be updated\n",
       "    // upon first draw.\n",
       "    this._resize_canvas(600, 600);\n",
       "\n",
       "    // Disable right mouse context menu.\n",
       "    $(this.rubberband_canvas).bind(\"contextmenu\",function(e){\n",
       "        return false;\n",
       "    });\n",
       "\n",
       "    function set_focus () {\n",
       "        canvas.focus();\n",
       "        canvas_div.focus();\n",
       "    }\n",
       "\n",
       "    window.setTimeout(set_focus, 100);\n",
       "}\n",
       "\n",
       "mpl.figure.prototype._init_toolbar = function() {\n",
       "    var fig = this;\n",
       "\n",
       "    var nav_element = $('<div/>')\n",
       "    nav_element.attr('style', 'width: 100%');\n",
       "    this.root.append(nav_element);\n",
       "\n",
       "    // Define a callback function for later on.\n",
       "    function toolbar_event(event) {\n",
       "        return fig.toolbar_button_onclick(event['data']);\n",
       "    }\n",
       "    function toolbar_mouse_event(event) {\n",
       "        return fig.toolbar_button_onmouseover(event['data']);\n",
       "    }\n",
       "\n",
       "    for(var toolbar_ind in mpl.toolbar_items) {\n",
       "        var name = mpl.toolbar_items[toolbar_ind][0];\n",
       "        var tooltip = mpl.toolbar_items[toolbar_ind][1];\n",
       "        var image = mpl.toolbar_items[toolbar_ind][2];\n",
       "        var method_name = mpl.toolbar_items[toolbar_ind][3];\n",
       "\n",
       "        if (!name) {\n",
       "            // put a spacer in here.\n",
       "            continue;\n",
       "        }\n",
       "        var button = $('<button/>');\n",
       "        button.addClass('ui-button ui-widget ui-state-default ui-corner-all ' +\n",
       "                        'ui-button-icon-only');\n",
       "        button.attr('role', 'button');\n",
       "        button.attr('aria-disabled', 'false');\n",
       "        button.click(method_name, toolbar_event);\n",
       "        button.mouseover(tooltip, toolbar_mouse_event);\n",
       "\n",
       "        var icon_img = $('<span/>');\n",
       "        icon_img.addClass('ui-button-icon-primary ui-icon');\n",
       "        icon_img.addClass(image);\n",
       "        icon_img.addClass('ui-corner-all');\n",
       "\n",
       "        var tooltip_span = $('<span/>');\n",
       "        tooltip_span.addClass('ui-button-text');\n",
       "        tooltip_span.html(tooltip);\n",
       "\n",
       "        button.append(icon_img);\n",
       "        button.append(tooltip_span);\n",
       "\n",
       "        nav_element.append(button);\n",
       "    }\n",
       "\n",
       "    var fmt_picker_span = $('<span/>');\n",
       "\n",
       "    var fmt_picker = $('<select/>');\n",
       "    fmt_picker.addClass('mpl-toolbar-option ui-widget ui-widget-content');\n",
       "    fmt_picker_span.append(fmt_picker);\n",
       "    nav_element.append(fmt_picker_span);\n",
       "    this.format_dropdown = fmt_picker[0];\n",
       "\n",
       "    for (var ind in mpl.extensions) {\n",
       "        var fmt = mpl.extensions[ind];\n",
       "        var option = $(\n",
       "            '<option/>', {selected: fmt === mpl.default_extension}).html(fmt);\n",
       "        fmt_picker.append(option)\n",
       "    }\n",
       "\n",
       "    // Add hover states to the ui-buttons\n",
       "    $( \".ui-button\" ).hover(\n",
       "        function() { $(this).addClass(\"ui-state-hover\");},\n",
       "        function() { $(this).removeClass(\"ui-state-hover\");}\n",
       "    );\n",
       "\n",
       "    var status_bar = $('<span class=\"mpl-message\"/>');\n",
       "    nav_element.append(status_bar);\n",
       "    this.message = status_bar[0];\n",
       "}\n",
       "\n",
       "mpl.figure.prototype.request_resize = function(x_pixels, y_pixels) {\n",
       "    // Request matplotlib to resize the figure. Matplotlib will then trigger a resize in the client,\n",
       "    // which will in turn request a refresh of the image.\n",
       "    this.send_message('resize', {'width': x_pixels, 'height': y_pixels});\n",
       "}\n",
       "\n",
       "mpl.figure.prototype.send_message = function(type, properties) {\n",
       "    properties['type'] = type;\n",
       "    properties['figure_id'] = this.id;\n",
       "    this.ws.send(JSON.stringify(properties));\n",
       "}\n",
       "\n",
       "mpl.figure.prototype.send_draw_message = function() {\n",
       "    if (!this.waiting) {\n",
       "        this.waiting = true;\n",
       "        this.ws.send(JSON.stringify({type: \"draw\", figure_id: this.id}));\n",
       "    }\n",
       "}\n",
       "\n",
       "\n",
       "mpl.figure.prototype.handle_save = function(fig, msg) {\n",
       "    var format_dropdown = fig.format_dropdown;\n",
       "    var format = format_dropdown.options[format_dropdown.selectedIndex].value;\n",
       "    fig.ondownload(fig, format);\n",
       "}\n",
       "\n",
       "\n",
       "mpl.figure.prototype.handle_resize = function(fig, msg) {\n",
       "    var size = msg['size'];\n",
       "    if (size[0] != fig.canvas.width || size[1] != fig.canvas.height) {\n",
       "        fig._resize_canvas(size[0], size[1]);\n",
       "        fig.send_message(\"refresh\", {});\n",
       "    };\n",
       "}\n",
       "\n",
       "mpl.figure.prototype.handle_rubberband = function(fig, msg) {\n",
       "    var x0 = msg['x0'] / mpl.ratio;\n",
       "    var y0 = (fig.canvas.height - msg['y0']) / mpl.ratio;\n",
       "    var x1 = msg['x1'] / mpl.ratio;\n",
       "    var y1 = (fig.canvas.height - msg['y1']) / mpl.ratio;\n",
       "    x0 = Math.floor(x0) + 0.5;\n",
       "    y0 = Math.floor(y0) + 0.5;\n",
       "    x1 = Math.floor(x1) + 0.5;\n",
       "    y1 = Math.floor(y1) + 0.5;\n",
       "    var min_x = Math.min(x0, x1);\n",
       "    var min_y = Math.min(y0, y1);\n",
       "    var width = Math.abs(x1 - x0);\n",
       "    var height = Math.abs(y1 - y0);\n",
       "\n",
       "    fig.rubberband_context.clearRect(\n",
       "        0, 0, fig.canvas.width, fig.canvas.height);\n",
       "\n",
       "    fig.rubberband_context.strokeRect(min_x, min_y, width, height);\n",
       "}\n",
       "\n",
       "mpl.figure.prototype.handle_figure_label = function(fig, msg) {\n",
       "    // Updates the figure title.\n",
       "    fig.header.textContent = msg['label'];\n",
       "}\n",
       "\n",
       "mpl.figure.prototype.handle_cursor = function(fig, msg) {\n",
       "    var cursor = msg['cursor'];\n",
       "    switch(cursor)\n",
       "    {\n",
       "    case 0:\n",
       "        cursor = 'pointer';\n",
       "        break;\n",
       "    case 1:\n",
       "        cursor = 'default';\n",
       "        break;\n",
       "    case 2:\n",
       "        cursor = 'crosshair';\n",
       "        break;\n",
       "    case 3:\n",
       "        cursor = 'move';\n",
       "        break;\n",
       "    }\n",
       "    fig.rubberband_canvas.style.cursor = cursor;\n",
       "}\n",
       "\n",
       "mpl.figure.prototype.handle_message = function(fig, msg) {\n",
       "    fig.message.textContent = msg['message'];\n",
       "}\n",
       "\n",
       "mpl.figure.prototype.handle_draw = function(fig, msg) {\n",
       "    // Request the server to send over a new figure.\n",
       "    fig.send_draw_message();\n",
       "}\n",
       "\n",
       "mpl.figure.prototype.handle_image_mode = function(fig, msg) {\n",
       "    fig.image_mode = msg['mode'];\n",
       "}\n",
       "\n",
       "mpl.figure.prototype.updated_canvas_event = function() {\n",
       "    // Called whenever the canvas gets updated.\n",
       "    this.send_message(\"ack\", {});\n",
       "}\n",
       "\n",
       "// A function to construct a web socket function for onmessage handling.\n",
       "// Called in the figure constructor.\n",
       "mpl.figure.prototype._make_on_message_function = function(fig) {\n",
       "    return function socket_on_message(evt) {\n",
       "        if (evt.data instanceof Blob) {\n",
       "            /* FIXME: We get \"Resource interpreted as Image but\n",
       "             * transferred with MIME type text/plain:\" errors on\n",
       "             * Chrome.  But how to set the MIME type?  It doesn't seem\n",
       "             * to be part of the websocket stream */\n",
       "            evt.data.type = \"image/png\";\n",
       "\n",
       "            /* Free the memory for the previous frames */\n",
       "            if (fig.imageObj.src) {\n",
       "                (window.URL || window.webkitURL).revokeObjectURL(\n",
       "                    fig.imageObj.src);\n",
       "            }\n",
       "\n",
       "            fig.imageObj.src = (window.URL || window.webkitURL).createObjectURL(\n",
       "                evt.data);\n",
       "            fig.updated_canvas_event();\n",
       "            fig.waiting = false;\n",
       "            return;\n",
       "        }\n",
       "        else if (typeof evt.data === 'string' && evt.data.slice(0, 21) == \"data:image/png;base64\") {\n",
       "            fig.imageObj.src = evt.data;\n",
       "            fig.updated_canvas_event();\n",
       "            fig.waiting = false;\n",
       "            return;\n",
       "        }\n",
       "\n",
       "        var msg = JSON.parse(evt.data);\n",
       "        var msg_type = msg['type'];\n",
       "\n",
       "        // Call the  \"handle_{type}\" callback, which takes\n",
       "        // the figure and JSON message as its only arguments.\n",
       "        try {\n",
       "            var callback = fig[\"handle_\" + msg_type];\n",
       "        } catch (e) {\n",
       "            console.log(\"No handler for the '\" + msg_type + \"' message type: \", msg);\n",
       "            return;\n",
       "        }\n",
       "\n",
       "        if (callback) {\n",
       "            try {\n",
       "                // console.log(\"Handling '\" + msg_type + \"' message: \", msg);\n",
       "                callback(fig, msg);\n",
       "            } catch (e) {\n",
       "                console.log(\"Exception inside the 'handler_\" + msg_type + \"' callback:\", e, e.stack, msg);\n",
       "            }\n",
       "        }\n",
       "    };\n",
       "}\n",
       "\n",
       "// from http://stackoverflow.com/questions/1114465/getting-mouse-location-in-canvas\n",
       "mpl.findpos = function(e) {\n",
       "    //this section is from http://www.quirksmode.org/js/events_properties.html\n",
       "    var targ;\n",
       "    if (!e)\n",
       "        e = window.event;\n",
       "    if (e.target)\n",
       "        targ = e.target;\n",
       "    else if (e.srcElement)\n",
       "        targ = e.srcElement;\n",
       "    if (targ.nodeType == 3) // defeat Safari bug\n",
       "        targ = targ.parentNode;\n",
       "\n",
       "    // jQuery normalizes the pageX and pageY\n",
       "    // pageX,Y are the mouse positions relative to the document\n",
       "    // offset() returns the position of the element relative to the document\n",
       "    var x = e.pageX - $(targ).offset().left;\n",
       "    var y = e.pageY - $(targ).offset().top;\n",
       "\n",
       "    return {\"x\": x, \"y\": y};\n",
       "};\n",
       "\n",
       "/*\n",
       " * return a copy of an object with only non-object keys\n",
       " * we need this to avoid circular references\n",
       " * http://stackoverflow.com/a/24161582/3208463\n",
       " */\n",
       "function simpleKeys (original) {\n",
       "  return Object.keys(original).reduce(function (obj, key) {\n",
       "    if (typeof original[key] !== 'object')\n",
       "        obj[key] = original[key]\n",
       "    return obj;\n",
       "  }, {});\n",
       "}\n",
       "\n",
       "mpl.figure.prototype.mouse_event = function(event, name) {\n",
       "    var canvas_pos = mpl.findpos(event)\n",
       "\n",
       "    if (name === 'button_press')\n",
       "    {\n",
       "        this.canvas.focus();\n",
       "        this.canvas_div.focus();\n",
       "    }\n",
       "\n",
       "    var x = canvas_pos.x * mpl.ratio;\n",
       "    var y = canvas_pos.y * mpl.ratio;\n",
       "\n",
       "    this.send_message(name, {x: x, y: y, button: event.button,\n",
       "                             step: event.step,\n",
       "                             guiEvent: simpleKeys(event)});\n",
       "\n",
       "    /* This prevents the web browser from automatically changing to\n",
       "     * the text insertion cursor when the button is pressed.  We want\n",
       "     * to control all of the cursor setting manually through the\n",
       "     * 'cursor' event from matplotlib */\n",
       "    event.preventDefault();\n",
       "    return false;\n",
       "}\n",
       "\n",
       "mpl.figure.prototype._key_event_extra = function(event, name) {\n",
       "    // Handle any extra behaviour associated with a key event\n",
       "}\n",
       "\n",
       "mpl.figure.prototype.key_event = function(event, name) {\n",
       "\n",
       "    // Prevent repeat events\n",
       "    if (name == 'key_press')\n",
       "    {\n",
       "        if (event.which === this._key)\n",
       "            return;\n",
       "        else\n",
       "            this._key = event.which;\n",
       "    }\n",
       "    if (name == 'key_release')\n",
       "        this._key = null;\n",
       "\n",
       "    var value = '';\n",
       "    if (event.ctrlKey && event.which != 17)\n",
       "        value += \"ctrl+\";\n",
       "    if (event.altKey && event.which != 18)\n",
       "        value += \"alt+\";\n",
       "    if (event.shiftKey && event.which != 16)\n",
       "        value += \"shift+\";\n",
       "\n",
       "    value += 'k';\n",
       "    value += event.which.toString();\n",
       "\n",
       "    this._key_event_extra(event, name);\n",
       "\n",
       "    this.send_message(name, {key: value,\n",
       "                             guiEvent: simpleKeys(event)});\n",
       "    return false;\n",
       "}\n",
       "\n",
       "mpl.figure.prototype.toolbar_button_onclick = function(name) {\n",
       "    if (name == 'download') {\n",
       "        this.handle_save(this, null);\n",
       "    } else {\n",
       "        this.send_message(\"toolbar_button\", {name: name});\n",
       "    }\n",
       "};\n",
       "\n",
       "mpl.figure.prototype.toolbar_button_onmouseover = function(tooltip) {\n",
       "    this.message.textContent = tooltip;\n",
       "};\n",
       "mpl.toolbar_items = [[\"Home\", \"Reset original view\", \"fa fa-home icon-home\", \"home\"], [\"Back\", \"Back to  previous view\", \"fa fa-arrow-left icon-arrow-left\", \"back\"], [\"Forward\", \"Forward to next view\", \"fa fa-arrow-right icon-arrow-right\", \"forward\"], [\"\", \"\", \"\", \"\"], [\"Pan\", \"Pan axes with left mouse, zoom with right\", \"fa fa-arrows icon-move\", \"pan\"], [\"Zoom\", \"Zoom to rectangle\", \"fa fa-square-o icon-check-empty\", \"zoom\"], [\"\", \"\", \"\", \"\"], [\"Download\", \"Download plot\", \"fa fa-floppy-o icon-save\", \"download\"]];\n",
       "\n",
       "mpl.extensions = [\"eps\", \"jpeg\", \"pdf\", \"png\", \"ps\", \"raw\", \"svg\", \"tif\"];\n",
       "\n",
       "mpl.default_extension = \"png\";var comm_websocket_adapter = function(comm) {\n",
       "    // Create a \"websocket\"-like object which calls the given IPython comm\n",
       "    // object with the appropriate methods. Currently this is a non binary\n",
       "    // socket, so there is still some room for performance tuning.\n",
       "    var ws = {};\n",
       "\n",
       "    ws.close = function() {\n",
       "        comm.close()\n",
       "    };\n",
       "    ws.send = function(m) {\n",
       "        //console.log('sending', m);\n",
       "        comm.send(m);\n",
       "    };\n",
       "    // Register the callback with on_msg.\n",
       "    comm.on_msg(function(msg) {\n",
       "        //console.log('receiving', msg['content']['data'], msg);\n",
       "        // Pass the mpl event to the overriden (by mpl) onmessage function.\n",
       "        ws.onmessage(msg['content']['data'])\n",
       "    });\n",
       "    return ws;\n",
       "}\n",
       "\n",
       "mpl.mpl_figure_comm = function(comm, msg) {\n",
       "    // This is the function which gets called when the mpl process\n",
       "    // starts-up an IPython Comm through the \"matplotlib\" channel.\n",
       "\n",
       "    var id = msg.content.data.id;\n",
       "    // Get hold of the div created by the display call when the Comm\n",
       "    // socket was opened in Python.\n",
       "    var element = $(\"#\" + id);\n",
       "    var ws_proxy = comm_websocket_adapter(comm)\n",
       "\n",
       "    function ondownload(figure, format) {\n",
       "        window.open(figure.imageObj.src);\n",
       "    }\n",
       "\n",
       "    var fig = new mpl.figure(id, ws_proxy,\n",
       "                           ondownload,\n",
       "                           element.get(0));\n",
       "\n",
       "    // Call onopen now - mpl needs it, as it is assuming we've passed it a real\n",
       "    // web socket which is closed, not our websocket->open comm proxy.\n",
       "    ws_proxy.onopen();\n",
       "\n",
       "    fig.parent_element = element.get(0);\n",
       "    fig.cell_info = mpl.find_output_cell(\"<div id='\" + id + \"'></div>\");\n",
       "    if (!fig.cell_info) {\n",
       "        console.error(\"Failed to find cell for figure\", id, fig);\n",
       "        return;\n",
       "    }\n",
       "\n",
       "    var output_index = fig.cell_info[2]\n",
       "    var cell = fig.cell_info[0];\n",
       "\n",
       "};\n",
       "\n",
       "mpl.figure.prototype.handle_close = function(fig, msg) {\n",
       "    var width = fig.canvas.width/mpl.ratio\n",
       "    fig.root.unbind('remove')\n",
       "\n",
       "    // Update the output cell to use the data from the current canvas.\n",
       "    fig.push_to_output();\n",
       "    var dataURL = fig.canvas.toDataURL();\n",
       "    // Re-enable the keyboard manager in IPython - without this line, in FF,\n",
       "    // the notebook keyboard shortcuts fail.\n",
       "    IPython.keyboard_manager.enable()\n",
       "    $(fig.parent_element).html('<img src=\"' + dataURL + '\" width=\"' + width + '\">');\n",
       "    fig.close_ws(fig, msg);\n",
       "}\n",
       "\n",
       "mpl.figure.prototype.close_ws = function(fig, msg){\n",
       "    fig.send_message('closing', msg);\n",
       "    // fig.ws.close()\n",
       "}\n",
       "\n",
       "mpl.figure.prototype.push_to_output = function(remove_interactive) {\n",
       "    // Turn the data on the canvas into data in the output cell.\n",
       "    var width = this.canvas.width/mpl.ratio\n",
       "    var dataURL = this.canvas.toDataURL();\n",
       "    this.cell_info[1]['text/html'] = '<img src=\"' + dataURL + '\" width=\"' + width + '\">';\n",
       "}\n",
       "\n",
       "mpl.figure.prototype.updated_canvas_event = function() {\n",
       "    // Tell IPython that the notebook contents must change.\n",
       "    IPython.notebook.set_dirty(true);\n",
       "    this.send_message(\"ack\", {});\n",
       "    var fig = this;\n",
       "    // Wait a second, then push the new image to the DOM so\n",
       "    // that it is saved nicely (might be nice to debounce this).\n",
       "    setTimeout(function () { fig.push_to_output() }, 1000);\n",
       "}\n",
       "\n",
       "mpl.figure.prototype._init_toolbar = function() {\n",
       "    var fig = this;\n",
       "\n",
       "    var nav_element = $('<div/>')\n",
       "    nav_element.attr('style', 'width: 100%');\n",
       "    this.root.append(nav_element);\n",
       "\n",
       "    // Define a callback function for later on.\n",
       "    function toolbar_event(event) {\n",
       "        return fig.toolbar_button_onclick(event['data']);\n",
       "    }\n",
       "    function toolbar_mouse_event(event) {\n",
       "        return fig.toolbar_button_onmouseover(event['data']);\n",
       "    }\n",
       "\n",
       "    for(var toolbar_ind in mpl.toolbar_items){\n",
       "        var name = mpl.toolbar_items[toolbar_ind][0];\n",
       "        var tooltip = mpl.toolbar_items[toolbar_ind][1];\n",
       "        var image = mpl.toolbar_items[toolbar_ind][2];\n",
       "        var method_name = mpl.toolbar_items[toolbar_ind][3];\n",
       "\n",
       "        if (!name) { continue; };\n",
       "\n",
       "        var button = $('<button class=\"btn btn-default\" href=\"#\" title=\"' + name + '\"><i class=\"fa ' + image + ' fa-lg\"></i></button>');\n",
       "        button.click(method_name, toolbar_event);\n",
       "        button.mouseover(tooltip, toolbar_mouse_event);\n",
       "        nav_element.append(button);\n",
       "    }\n",
       "\n",
       "    // Add the status bar.\n",
       "    var status_bar = $('<span class=\"mpl-message\" style=\"text-align:right; float: right;\"/>');\n",
       "    nav_element.append(status_bar);\n",
       "    this.message = status_bar[0];\n",
       "\n",
       "    // Add the close button to the window.\n",
       "    var buttongrp = $('<div class=\"btn-group inline pull-right\"></div>');\n",
       "    var button = $('<button class=\"btn btn-mini btn-primary\" href=\"#\" title=\"Stop Interaction\"><i class=\"fa fa-power-off icon-remove icon-large\"></i></button>');\n",
       "    button.click(function (evt) { fig.handle_close(fig, {}); } );\n",
       "    button.mouseover('Stop Interaction', toolbar_mouse_event);\n",
       "    buttongrp.append(button);\n",
       "    var titlebar = this.root.find($('.ui-dialog-titlebar'));\n",
       "    titlebar.prepend(buttongrp);\n",
       "}\n",
       "\n",
       "mpl.figure.prototype._root_extra_style = function(el){\n",
       "    var fig = this\n",
       "    el.on(\"remove\", function(){\n",
       "\tfig.close_ws(fig, {});\n",
       "    });\n",
       "}\n",
       "\n",
       "mpl.figure.prototype._canvas_extra_style = function(el){\n",
       "    // this is important to make the div 'focusable\n",
       "    el.attr('tabindex', 0)\n",
       "    // reach out to IPython and tell the keyboard manager to turn it's self\n",
       "    // off when our div gets focus\n",
       "\n",
       "    // location in version 3\n",
       "    if (IPython.notebook.keyboard_manager) {\n",
       "        IPython.notebook.keyboard_manager.register_events(el);\n",
       "    }\n",
       "    else {\n",
       "        // location in version 2\n",
       "        IPython.keyboard_manager.register_events(el);\n",
       "    }\n",
       "\n",
       "}\n",
       "\n",
       "mpl.figure.prototype._key_event_extra = function(event, name) {\n",
       "    var manager = IPython.notebook.keyboard_manager;\n",
       "    if (!manager)\n",
       "        manager = IPython.keyboard_manager;\n",
       "\n",
       "    // Check for shift+enter\n",
       "    if (event.shiftKey && event.which == 13) {\n",
       "        this.canvas_div.blur();\n",
       "        // select the cell after this one\n",
       "        var index = IPython.notebook.find_cell_index(this.cell_info[0]);\n",
       "        IPython.notebook.select(index + 1);\n",
       "    }\n",
       "}\n",
       "\n",
       "mpl.figure.prototype.handle_save = function(fig, msg) {\n",
       "    fig.ondownload(fig, null);\n",
       "}\n",
       "\n",
       "\n",
       "mpl.find_output_cell = function(html_output) {\n",
       "    // Return the cell and output element which can be found *uniquely* in the notebook.\n",
       "    // Note - this is a bit hacky, but it is done because the \"notebook_saving.Notebook\"\n",
       "    // IPython event is triggered only after the cells have been serialised, which for\n",
       "    // our purposes (turning an active figure into a static one), is too late.\n",
       "    var cells = IPython.notebook.get_cells();\n",
       "    var ncells = cells.length;\n",
       "    for (var i=0; i<ncells; i++) {\n",
       "        var cell = cells[i];\n",
       "        if (cell.cell_type === 'code'){\n",
       "            for (var j=0; j<cell.output_area.outputs.length; j++) {\n",
       "                var data = cell.output_area.outputs[j];\n",
       "                if (data.data) {\n",
       "                    // IPython >= 3 moved mimebundle to data attribute of output\n",
       "                    data = data.data;\n",
       "                }\n",
       "                if (data['text/html'] == html_output) {\n",
       "                    return [cell, data, j];\n",
       "                }\n",
       "            }\n",
       "        }\n",
       "    }\n",
       "}\n",
       "\n",
       "// Register the function which deals with the matplotlib target/channel.\n",
       "// The kernel may be null if the page has been refreshed.\n",
       "if (IPython.notebook.kernel != null) {\n",
       "    IPython.notebook.kernel.comm_manager.register_target('matplotlib', mpl.mpl_figure_comm);\n",
       "}\n"
      ],
      "text/plain": [
       "<IPython.core.display.Javascript object>"
      ]
     },
     "metadata": {},
     "output_type": "display_data"
    },
    {
     "data": {
      "text/html": [
       "<img src=\"data:image/png;base64,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\" width=\"500\">"
      ],
      "text/plain": [
       "<IPython.core.display.HTML object>"
      ]
     },
     "metadata": {},
     "output_type": "display_data"
    },
    {
     "data": {
      "text/plain": [
       "<matplotlib.text.Text at 0x7ff562d46490>"
      ]
     },
     "execution_count": 67,
     "metadata": {},
     "output_type": "execute_result"
    }
   ],
   "source": [
    "dos = hh.load('work/final-dos.h5')\n",
    "plt.figure(figsize=(5,3))\n",
    "plt.plot(dos.E, dos.I)\n",
    "plt.xlabel('Energy (meV)')\n",
    "# plt.xlim(0, 30)"
   ]
  },
  {
   "cell_type": "code",
   "execution_count": 68,
   "metadata": {},
   "outputs": [
    {
     "name": "stdout",
     "output_type": "stream",
     "text": [
      "/home/fi0/dev/figures_for_paper/30_spacing1\r\n"
     ]
    }
   ],
   "source": [
    "!pwd"
   ]
  },
  {
   "cell_type": "markdown",
   "metadata": {},
   "source": [
    "More plotting utils are available"
   ]
  },
  {
   "cell_type": "code",
   "execution_count": null,
   "metadata": {
    "collapsed": true
   },
   "outputs": [],
   "source": [
    "from multiphonon.backward import plotutils as pu"
   ]
  },
  {
   "cell_type": "code",
   "execution_count": null,
   "metadata": {
    "collapsed": true
   },
   "outputs": [],
   "source": [
    "plt.figure(figsize=(5,3))\n",
    "pu.plot_dos_iteration('work/')"
   ]
  },
  {
   "cell_type": "code",
   "execution_count": null,
   "metadata": {
    "collapsed": true
   },
   "outputs": [],
   "source": [
    "plt.figure(figsize=(6,4))\n",
    "pu.plot_residual('work/')"
   ]
  },
  {
   "cell_type": "code",
   "execution_count": null,
   "metadata": {
    "collapsed": true
   },
   "outputs": [],
   "source": [
    "plt.figure(figsize=(10, 4))\n",
    "pu.plot_intermediate_result_se('work/round-3')"
   ]
  },
  {
   "cell_type": "code",
   "execution_count": null,
   "metadata": {
    "collapsed": true
   },
   "outputs": [],
   "source": []
  }
 ],
 "metadata": {
  "kernelspec": {
   "display_name": "Python 2",
   "language": "python",
   "name": "python2"
  },
  "language_info": {
   "codemirror_mode": {
    "name": "ipython",
    "version": 2
   },
   "file_extension": ".py",
   "mimetype": "text/x-python",
   "name": "python",
   "nbconvert_exporter": "python",
   "pygments_lexer": "ipython2",
   "version": "2.7.13"
  },
  "widgets": {
   "state": {
    "00d6d1a106a542ad8e1e42308da0d176": {
     "views": [
      {
       "cell_index": 6
      }
     ]
    },
    "05cadaef338f46b2ab82e578636953f9": {
     "views": [
      {
       "cell_index": 6
      }
     ]
    },
    "09a112da61f64b44bc1c131bcb96c221": {
     "views": [
      {
       "cell_index": 6
      }
     ]
    },
    "0bf45f2160da410aaa58af9cc8bde24a": {
     "views": [
      {
       "cell_index": 6
      }
     ]
    },
    "13a422d4e0594ef78ce8612002e103c1": {
     "views": [
      {
       "cell_index": 6
      }
     ]
    },
    "17e4841f303849efb8b80263236483b0": {
     "views": [
      {
       "cell_index": 5
      }
     ]
    },
    "180c8da4c43344cdb5336a8d97bd6958": {
     "views": [
      {
       "cell_index": 6
      }
     ]
    },
    "188ad23345584d2eb2e5fe5e0d34d3f1": {
     "views": [
      {
       "cell_index": 6
      }
     ]
    },
    "1a577c721f8846ebaa5a675ba5cf797b": {
     "views": [
      {
       "cell_index": 6
      }
     ]
    },
    "1fc18503c284444d91b2b2524e03166b": {
     "views": [
      {
       "cell_index": 6
      }
     ]
    },
    "1fd3af1e79694c7bac7834f8db67262b": {
     "views": [
      {
       "cell_index": 6
      }
     ]
    },
    "222411f7173b4b4e88b44dbc46476f08": {
     "views": [
      {
       "cell_index": 6
      }
     ]
    },
    "22a6c515967640a590502abb83d1bdca": {
     "views": [
      {
       "cell_index": 6
      }
     ]
    },
    "235919b136e540e29e20fdd2352b6453": {
     "views": [
      {
       "cell_index": 6
      }
     ]
    },
    "23712214e4524548ae8fc287bf0b825d": {
     "views": [
      {
       "cell_index": 6
      }
     ]
    },
    "23874805bd3548ef9ce1b55a8beedb19": {
     "views": [
      {
       "cell_index": 6
      }
     ]
    },
    "23fc7d5b5dd24de79932e42efd529f1b": {
     "views": [
      {
       "cell_index": 6
      }
     ]
    },
    "2d727964b44b4456a7d7cc900dfd5e30": {
     "views": [
      {
       "cell_index": 6
      }
     ]
    },
    "2e07026a80ec4c86bea5801f6593068a": {
     "views": [
      {
       "cell_index": 6
      }
     ]
    },
    "318e457f17db4b6eaf70cce037133585": {
     "views": [
      {
       "cell_index": 8
      }
     ]
    },
    "383c447b61b04a0e848b79fd7618da66": {
     "views": [
      {
       "cell_index": 5
      }
     ]
    },
    "3bf8bc48f93d49f99fdd3ef7b3405161": {
     "views": [
      {
       "cell_index": 6
      }
     ]
    },
    "43e9a26974d24b1e9408c0cfee717d68": {
     "views": [
      {
       "cell_index": 6
      }
     ]
    },
    "45e4b3ef287c41788d501e7cfb284596": {
     "views": [
      {
       "cell_index": 6
      }
     ]
    },
    "47c322eb80824fe884bc9c0d616a7ea5": {
     "views": [
      {
       "cell_index": 6
      }
     ]
    },
    "492ec180bb08428cb70c7c93529a4556": {
     "views": [
      {
       "cell_index": 6
      }
     ]
    },
    "4cd5da30e61d47e4b8a222e0064bc2d6": {
     "views": [
      {
       "cell_index": 6
      }
     ]
    },
    "4e01b74a4e3647dd8b4b90392d24f123": {
     "views": [
      {
       "cell_index": 6
      }
     ]
    },
    "4e6e5f71237a4a82884487f879ded77c": {
     "views": [
      {
       "cell_index": 6
      }
     ]
    },
    "4e8a7bbafca04f79bbbbf39ce1c44cf0": {
     "views": [
      {
       "cell_index": 6
      }
     ]
    },
    "5030855016084c9a8b2fd43a77a12def": {
     "views": [
      {
       "cell_index": 6
      }
     ]
    },
    "50a4b87deef641249cf2a76c2d01f150": {
     "views": [
      {
       "cell_index": 6
      }
     ]
    },
    "524f61084f3a4dec864447d57211e24f": {
     "views": [
      {
       "cell_index": 5
      }
     ]
    },
    "53d80e00efcf4e04b8379844370a5a32": {
     "views": [
      {
       "cell_index": 6
      }
     ]
    },
    "54751c89b2944ababb0f6bd36db7fc90": {
     "views": [
      {
       "cell_index": 6
      }
     ]
    },
    "58f1a5742a2841d295e192e78e96241a": {
     "views": [
      {
       "cell_index": 6
      }
     ]
    },
    "5965242f72204da4a6fefc9660a25ee0": {
     "views": [
      {
       "cell_index": 5
      }
     ]
    },
    "5b31ad8774784485abf8e27bca116511": {
     "views": [
      {
       "cell_index": 6
      }
     ]
    },
    "5b519a5bfe9348babf48295a16f895e1": {
     "views": [
      {
       "cell_index": 6
      }
     ]
    },
    "60c719bca26b48468d313bf5a67f54da": {
     "views": [
      {
       "cell_index": 6
      }
     ]
    },
    "616d024c0e43477faab57820285e8c0e": {
     "views": [
      {
       "cell_index": 6
      }
     ]
    },
    "62c97b89f3664ee9a40e6677cbf821b2": {
     "views": [
      {
       "cell_index": 5
      }
     ]
    },
    "6405400b70304a17b8ae3d7b9449ba99": {
     "views": [
      {
       "cell_index": 6
      }
     ]
    },
    "660da110cd1049a6b9665330b6219926": {
     "views": [
      {
       "cell_index": 6
      }
     ]
    },
    "668d25dc642d4268bd97731ab6c23407": {
     "views": [
      {
       "cell_index": 6
      }
     ]
    },
    "67396748fc184453ac7e276b7c8d05d2": {
     "views": [
      {
       "cell_index": 6
      }
     ]
    },
    "68a902cb9538461f8dde10a6d0e53ecb": {
     "views": [
      {
       "cell_index": 6
      }
     ]
    },
    "719c99308fad4db29a39f94829794b2a": {
     "views": [
      {
       "cell_index": 6
      }
     ]
    },
    "73a977dcbe6b4c25a40ed6dadcf7132c": {
     "views": [
      {
       "cell_index": 6
      }
     ]
    },
    "7430fd9d4f56474d91e8f1eb3644bd5e": {
     "views": [
      {
       "cell_index": 6
      }
     ]
    },
    "77e1e1b5e55944db91b89583bcaf1807": {
     "views": [
      {
       "cell_index": 6
      }
     ]
    },
    "7d2de4fa4f794d5d979dede6677b8670": {
     "views": [
      {
       "cell_index": 8
      }
     ]
    },
    "7ebec58a0944417c992f581a704c31e1": {
     "views": [
      {
       "cell_index": 5
      }
     ]
    },
    "85c4f9ad6429499f83a36b1abd253ca6": {
     "views": [
      {
       "cell_index": 5
      }
     ]
    },
    "881e93bf32f44287ab36924465cf8958": {
     "views": [
      {
       "cell_index": 8
      }
     ]
    },
    "8c27bd0ae8f848abbade0547bfdf32bb": {
     "views": [
      {
       "cell_index": 6
      }
     ]
    },
    "8d70dfc2429243cc876930061dddb176": {
     "views": [
      {
       "cell_index": 6
      }
     ]
    },
    "8f7591aa3d42470c8dfea8dfb5dd7ac8": {
     "views": [
      {
       "cell_index": 8
      }
     ]
    },
    "9035c86d812d4cfc91842c0490b0c99b": {
     "views": [
      {
       "cell_index": 6
      }
     ]
    },
    "930f8ef291d04ea3afd6eacbc46ee7ac": {
     "views": [
      {
       "cell_index": 6
      }
     ]
    },
    "949f879a7e7b4a0e806ee8f96f06022a": {
     "views": [
      {
       "cell_index": 6
      }
     ]
    },
    "96682718ae6b449ba9204d1d1273fa6a": {
     "views": [
      {
       "cell_index": 6
      }
     ]
    },
    "9808fbbfbbdb47108569f8c4f6b059c2": {
     "views": [
      {
       "cell_index": 6
      }
     ]
    },
    "9a4959c62894418e94916e0d6bb807fd": {
     "views": [
      {
       "cell_index": 6
      }
     ]
    },
    "9b6a7b2087c74031bcb09adb94be937b": {
     "views": [
      {
       "cell_index": 6
      }
     ]
    },
    "9b6ba99c72644b6a8c57c60497cb2419": {
     "views": [
      {
       "cell_index": 6
      }
     ]
    },
    "9ee5c7e5eea847919b7dc44dff10ca83": {
     "views": [
      {
       "cell_index": 6
      }
     ]
    },
    "9f7c0bd531164c3bb4a084db5fc31f5e": {
     "views": [
      {
       "cell_index": 6
      }
     ]
    },
    "a01319c20b08455fa775243e943b6c10": {
     "views": [
      {
       "cell_index": 6
      }
     ]
    },
    "a4062607e2924a80bf59ba1caeb1835a": {
     "views": [
      {
       "cell_index": 6
      }
     ]
    },
    "ab0036695ff84c0db64c90ab4f98aee8": {
     "views": [
      {
       "cell_index": 8
      }
     ]
    },
    "ab1757ae6edb41cc83c1f9c5c8ce4b46": {
     "views": [
      {
       "cell_index": 6
      }
     ]
    },
    "acbbd939c02d45bc9f6f650b2488b16f": {
     "views": [
      {
       "cell_index": 6
      }
     ]
    },
    "ae21db2ecd5744a79651bf54e67dedcf": {
     "views": [
      {
       "cell_index": 8
      }
     ]
    },
    "ae7fa5c3408b424eb019960dc6deec7a": {
     "views": [
      {
       "cell_index": 6
      }
     ]
    },
    "b04dc8542dc347e48297bbf727330f26": {
     "views": [
      {
       "cell_index": 6
      }
     ]
    },
    "b074f7fea5a648388d2c2fad6b8f3592": {
     "views": [
      {
       "cell_index": 6
      }
     ]
    },
    "b1e4edb07b754f39bd48adba09006102": {
     "views": [
      {
       "cell_index": 8
      }
     ]
    },
    "b275282110044c11bf822c30999a91cf": {
     "views": [
      {
       "cell_index": 6
      }
     ]
    },
    "b87de7205acf4af3ab03561241012734": {
     "views": [
      {
       "cell_index": 6
      }
     ]
    },
    "b9695eb0f1d64aaa9875c9f8d1c48547": {
     "views": [
      {
       "cell_index": 6
      }
     ]
    },
    "bbc13992cb0d4706abbb447c368f04e3": {
     "views": [
      {
       "cell_index": 5
      }
     ]
    },
    "bcb7c55b6c1f45039df99d0b74f039dc": {
     "views": [
      {
       "cell_index": 6
      }
     ]
    },
    "bdd219dc05434f0db1d56135a6f356d6": {
     "views": [
      {
       "cell_index": 6
      }
     ]
    },
    "beedf02ec68a4bf38819db53087ee381": {
     "views": [
      {
       "cell_index": 6
      }
     ]
    },
    "c4057a78352a4cd9b3a8874cb724050c": {
     "views": [
      {
       "cell_index": 6
      }
     ]
    },
    "c98cb9651c95470d95614e27eb10b045": {
     "views": [
      {
       "cell_index": 6
      }
     ]
    },
    "cb6931148ced4667b60335dbf4667b06": {
     "views": [
      {
       "cell_index": 6
      }
     ]
    },
    "cc32ad0ed0c44c1b8b854bd3b98d2aa5": {
     "views": [
      {
       "cell_index": 6
      }
     ]
    },
    "ce96cf9a63af47e5abcaea9fd63688f3": {
     "views": [
      {
       "cell_index": 6
      }
     ]
    },
    "db4a263478ab4c33b333f71cf786aa45": {
     "views": [
      {
       "cell_index": 6
      }
     ]
    },
    "e2a65d36219b4e219a2eb53d9e2afde4": {
     "views": [
      {
       "cell_index": 6
      }
     ]
    },
    "e48ee6c2511f4231aeb742d900a80f84": {
     "views": [
      {
       "cell_index": 6
      }
     ]
    },
    "e56e3dece9bc451fb7e58ae34eb65d2c": {
     "views": [
      {
       "cell_index": 6
      }
     ]
    },
    "e7473e1b8a924eed9ee3e1e6b49ba24d": {
     "views": [
      {
       "cell_index": 6
      }
     ]
    },
    "e77464a3befb44df86160e644a08df40": {
     "views": [
      {
       "cell_index": 6
      }
     ]
    },
    "e777a7a91a3749598893e6c3a61fb661": {
     "views": [
      {
       "cell_index": 6
      }
     ]
    },
    "e8b2248aeec7474f8a3fe8abd62391dc": {
     "views": [
      {
       "cell_index": 6
      }
     ]
    },
    "e9f2a67d7bc94e1d97dd136db63625f4": {
     "views": [
      {
       "cell_index": 8
      }
     ]
    },
    "eb3d39f0cfbc42f797cd5d1d1453599c": {
     "views": [
      {
       "cell_index": 6
      }
     ]
    },
    "ec613117ab7540c68e3f6ad6e9ffeabc": {
     "views": [
      {
       "cell_index": 6
      }
     ]
    },
    "f16994c6977c4f1696f96652907021ab": {
     "views": [
      {
       "cell_index": 6
      }
     ]
    },
    "f4d0393521484fea9eae949ef122734e": {
     "views": [
      {
       "cell_index": 6
      }
     ]
    },
    "f4f87ad86dae4e56817835e841f557b0": {
     "views": [
      {
       "cell_index": 6
      }
     ]
    },
    "fdaf38047e6a4d38aec4d8fd76880ba4": {
     "views": [
      {
       "cell_index": 6
      }
     ]
    }
   },
   "version": "1.2.0"
  }
 },
 "nbformat": 4,
 "nbformat_minor": 1
}
